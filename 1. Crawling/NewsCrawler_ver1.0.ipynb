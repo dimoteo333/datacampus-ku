{
 "cells": [
  {
   "cell_type": "code",
   "execution_count": 1,
   "metadata": {
    "ExecuteTime": {
     "end_time": "2021-07-25T15:00:33.990208Z",
     "start_time": "2021-07-25T15:00:33.987208Z"
    }
   },
   "outputs": [],
   "source": [
    "import json\n",
    "import re\n",
    "import urllib.request\n",
    "from datetime import datetime, timedelta\n",
    "from urllib.parse import urlparse, parse_qs\n",
    "from bs4 import BeautifulSoup\n",
    "from requests import request, HTTPError\n",
    "from requests.compat import urljoin, urlparse, quote, unquote\n",
    "from requests.sessions import Session\n",
    "from time import sleep"
   ]
  },
  {
   "cell_type": "code",
   "execution_count": 30,
   "metadata": {
    "ExecuteTime": {
     "end_time": "2021-07-25T15:00:34.305279Z",
     "start_time": "2021-07-25T15:00:34.262270Z"
    }
   },
   "outputs": [
    {
     "name": "stdout",
     "output_type": "stream",
     "text": [
      "The watermark extension is already loaded. To reload it, use:\n",
      "  %reload_ext watermark\n",
      "Author: datacampus-ku\n",
      "\n",
      "Python implementation: CPython\n",
      "Python version       : 3.8.5\n",
      "IPython version      : 7.19.0\n",
      "\n",
      "numpy   : 1.19.2\n",
      "re      : 2.2.1\n",
      "json    : 2.0.9\n",
      "autopep8: 1.5.4\n",
      "\n"
     ]
    }
   ],
   "source": [
    "%load_ext watermark\n",
    "%watermark -adatacampus-ku -d -v --iversions"
   ]
  },
  {
   "cell_type": "code",
   "execution_count": 2,
   "metadata": {
    "ExecuteTime": {
     "end_time": "2021-07-25T15:00:34.725239Z",
     "start_time": "2021-07-25T15:00:34.717238Z"
    }
   },
   "outputs": [],
   "source": [
    "headers = {\n",
    "    'user-agent': 'Mozilla/5.0 (X11; Linux x86_64) AppleWebKit/537.36 (KHTML, like Gecko) Chrome/80.0.3987.87 Safari/537.36'\n",
    "}"
   ]
  },
  {
   "cell_type": "code",
   "execution_count": 3,
   "metadata": {
    "ExecuteTime": {
     "end_time": "2021-07-25T15:00:35.100324Z",
     "start_time": "2021-07-25T15:00:35.087321Z"
    },
    "code_folding": []
   },
   "outputs": [],
   "source": [
    "def download(url, params={}, headers=headers, method='GET', maximum=2):\n",
    "    resp = request(url=url, params=params if method == 'GET' else {},\n",
    "                   data=params if method == 'POST' else {},\n",
    "                   headers=headers, method=method)\n",
    "\n",
    "    try:\n",
    "        resp.raise_for_status()\n",
    "    except HTTPError as e:\n",
    "        if 500 <= e.response.status_code < 600 and maximum > 0:\n",
    "            print('retry')\n",
    "            sleep(1)  # 1초?\n",
    "            resp = download(url, params, headers, method,\n",
    "                            maximum-1)  # inf loop\n",
    "        else:\n",
    "            print(e)\n",
    "\n",
    "    return resp"
   ]
  },
  {
   "cell_type": "code",
   "execution_count": 4,
   "metadata": {
    "ExecuteTime": {
     "end_time": "2021-07-25T15:00:35.490830Z",
     "start_time": "2021-07-25T15:00:35.477827Z"
    },
    "code_folding": []
   },
   "outputs": [],
   "source": [
    "def cleaning(data):\n",
    "    data = re.sub(r'오류를 우회하기 위한 함수 추가', '', data)\n",
    "    # 안지워질 때를 대비\n",
    "    data = re.sub(r'\\b[a-z_][a-zA-Z_()]{4,}\\b', '', data)\n",
    "    # 1. 사이드 스페이스가 있을 때 반드시 소문자+_  1글자로 시작, 영문(대소문자 포함) 4글자 이상 삭제 => 제일 뒷줄의 javascript 제거\n",
    "    data = re.sub(r'\\b[(){}/]{2,}', '', data)\n",
    "    # 2. 함수 기호 삭제 => () {} 제거\n",
    "    data = re.sub(r'([.,?!])(\\w)', '\\g<1> \\g<2>', data)\n",
    "    # 3. 구두점 다음에 글자가 있는 경우 공백 추가 => .단어 => . 단어로 변경\n",
    "    data = re.sub(r'\\s{2,}', '\\n', data).strip()\n",
    "    # 4. 공백 2개 이상 반복되는 경우 한 개만 => \\n\\n\\n\\n\\n 또는      =>\\n 또는\n",
    "    data = re.sub(r'[^\\s\\w\\d.,?!:\\'\\\"]', '', data)\n",
    "    # 5. 공백, 문자, 숫자, 구두점을 제외한 나머지 글자 삭제 => 모든 특수문자 제거\n",
    "    data = '\\n'.join(data.splitlines()[1:])\n",
    "    # * 네이버에서 수집한 뉴스는 첫 줄에 주석이 달려있음 => 첫 줄 주석 삭제\n",
    "    return data"
   ]
  },
  {
   "cell_type": "code",
   "execution_count": 5,
   "metadata": {
    "ExecuteTime": {
     "end_time": "2021-07-25T15:25:32.399713Z",
     "start_time": "2021-07-25T15:25:32.381709Z"
    }
   },
   "outputs": [],
   "source": [
    "def download_video(start,param,broadcast):\n",
    "    news_url = ''.join([text_url, '?sid1=', broadcast, '&oid=', re.findall(r'([\\d]*)_', param)[0],\n",
    "                        '&aid=', re.findall(r'_([\\d]*)', param)[0]])\n",
    "    print(news_url)\n",
    "    news = download(news_url)\n",
    "    dom = BeautifulSoup(news.text, 'lxml')\n",
    "    \n",
    "    #뉴스동영상이 iframe 안에 존재함, iframe 단으로 내려가기\n",
    "    vid_url=\"https://news.naver.com/main/readVod.naver?&oid={}&aid={}\".format(re.findall(r'([\\d]*)_', param)[0],re.findall(r'_([\\d]*)', param)[0])\n",
    "    headers_video={\n",
    "    'user-agent': 'Mozilla/5.0 (X11; Linux x86_64) AppleWebKit/537.36 (KHTML, like Gecko) Chrome/80.0.3987.87 Safari/537.36',\n",
    "    'Referer' : news_url #레퍼러 없으면 불러와 지지 않음\n",
    "    }\n",
    "    vid_page=BeautifulSoup(request(url=vid_url,headers=headers_video,method='POST').text,'lxml')\n",
    "    \n",
    "    #iframe  단 안에 존재하는 video id와 key 값 찾기\n",
    "    vid_temp=vid_page.find_all(attrs={'type':'text/javascript'})[1]\n",
    "    vid_id=re.findall(\"(?<=\\(\\\\\\')([A-Za-z0-9_-]*)(?=\\\\\\')\",vid_temp.text)[0]\n",
    "    vid_key=re.findall(\"(?<=\\\\\\'value\\\\\\'\\:\\\\')([A-Za-z0-9_-]*)(?=\\\\\\')\",vid_temp.text)[0]\n",
    "    \n",
    "    #동기방식으로 이루어진 영상 불러오기 방식\n",
    "    vid_download_url=\"https://apis.naver.com/rmcnmv/rmcnmv/vod/play/v2.0/\"+vid_id\n",
    "    vid_resp=download(vid_download_url,{\"key\": vid_key},headers_video)\n",
    "    video=json.dumps(vid_resp.json()['videos'])\n",
    "    \n",
    "    #최대화질로 다운로드\n",
    "    if re.search(r'\"720P\".+?\"source\": \"(.+)\",', video)!=None:\n",
    "        video_link = re.findall(r'\"720P\".+?\"source\": \"(.+)\",', video)[0]\n",
    "    elif re.search(r'\"480P\".+?\"source\": \"(.+)\",', video)!=None:\n",
    "        video_link = re.findall(r'\"480P\".+?\"source\": \"(.+)\",', video)[0]\n",
    "    elif re.search(r'\"360P\".+?\"source\": \"(.+)\",', video)!=None:\n",
    "        video_link = re.findall(r'\"360P\".+?\"source\": \"(.+)\",', video)[0]\n",
    "    else:\n",
    "        video_link = re.findall(r'\"270P\".+?\"source\": \"(.+)\",', video)[0]\n",
    "        \n",
    "    save_file = './MOV/{}.mp4'.format(re.sub(r'\\W', '', news_url.split('/')[-1]))\n",
    "    urllib.request.urlretrieve(video_link, save_file)        "
   ]
  },
  {
   "cell_type": "code",
   "execution_count": 131,
   "metadata": {
    "ExecuteTime": {
     "end_time": "2021-07-25T15:25:32.684776Z",
     "start_time": "2021-07-25T15:25:32.680775Z"
    },
    "code_folding": []
   },
   "outputs": [],
   "source": [
    "def download_text(start, param, broadcast):\n",
    "    news_url = ''.join([text_url, '?sid1=', broadcast, '&oid=', re.findall(r'([\\d]*)_', param)[0],\n",
    "                        '&aid=', re.findall(r'_([\\d]*)', param)[0]])\n",
    "    print(news_url)\n",
    "    news = download(news_url)\n",
    "    dom = BeautifulSoup(news.text, 'lxml')\n",
    "    main_area = dom.select_one('#main_content')\n",
    "    file_name = re.sub(r'\\W', '', news_url.split('/')[-1])\n",
    "    if main_area is not None:\n",
    "        article_area = dom.select_one('#articleBodyContents')\n",
    "        with open('TXT/'+file_name+'.txt', 'w', encoding='utf-8') as f:  # TXT 폴더에 저장\n",
    "            f.write(cleaning(article_area.text))\n",
    "    else:\n",
    "        article_area = dom.select_one('#newsEndContents')\n",
    "        # 다른 cleaning 사용\n",
    "        with open('TXT/'+file_name+'.txt', 'w', encoding='utf-8') as f:  # TXT 폴더에 저장\n",
    "            f.write(re.sub(r'\\s{2,}', '\\n', re.findall(r'displayRMCPlayer\\(\\)\\;(.+)', re.sub(r'[\\n\\t]', '', article.text))[0]))"
   ]
  },
  {
   "cell_type": "code",
   "execution_count": 132,
   "metadata": {},
   "outputs": [
    {
     "name": "stdout",
     "output_type": "stream",
     "text": [
      "https://news.naver.com/main/read.naver?sid1=355&oid=056&aid=0000003608\n"
     ]
    }
   ],
   "source": [
    "# 다른 html 구조에 대한 확인\n",
    "# 이란 뭐시기 뉴스 .. https://sports.news.naver.com/news?oid=056&aid=00000036083\n",
    "download_text('20130615', '056_0000003608', '355')"
   ]
  },
  {
   "cell_type": "code",
   "execution_count": 111,
   "metadata": {
    "ExecuteTime": {
     "end_time": "2021-07-25T15:25:33.044857Z",
     "start_time": "2021-07-25T15:25:33.036855Z"
    }
   },
   "outputs": [],
   "source": [
    "def download_news(start, param, broadcast):\n",
    "    download_video(start, param, broadcast)\n",
    "    download_text(start, param, broadcast)\n",
    "    return True"
   ]
  },
  {
   "cell_type": "code",
   "execution_count": 112,
   "metadata": {
    "ExecuteTime": {
     "end_time": "2021-07-25T15:25:33.299913Z",
     "start_time": "2021-07-25T15:25:33.291912Z"
    }
   },
   "outputs": [],
   "source": [
    "# 방송사별 가장 첫 뉴스 주소\n",
    "news_list = {\n",
    "    'KBS': 'https://news.naver.com/main/tvgallery/replay.naver?sid=355&date=20130613',\n",
    "    'MBC': 'https://news.naver.com/main/tvgallery/replay.naver?sid=370&date=201300101',\n",
    "    'SBS': 'https://news.naver.com/main/tvgallery/replay.naver?sid=371&date=201300101',\n",
    "    'JTBC': 'https://news.naver.com/main/tvgallery/replay.naver?sid=742&date=20131014',\n",
    "    'TVC': 'https://news.naver.com/main/tvgallery/replay.naver?sid=750&date=20131125',\n",
    "    'YTN': 'https://news.naver.com/main/tvgallery/replay.naver?sid=751&date=20131121',\n",
    "    'CHA': 'https://news.naver.com/main/tvgallery/replay.naver?sid=74b&date=20131125',\n",
    "    'MBN': 'https://news.naver.com/main/tvgallery/replay.naver?sid=74e&date=20131125',\n",
    "    'NESY': 'https://news.naver.com/main/tvgallery/replay.naver?sid=74f&date=20140106',\n",
    "}"
   ]
  },
  {
   "cell_type": "markdown",
   "metadata": {},
   "source": [
    "### KBS 뉴스 출력"
   ]
  },
  {
   "cell_type": "code",
   "execution_count": 113,
   "metadata": {
    "ExecuteTime": {
     "end_time": "2021-07-25T15:25:33.735011Z",
     "start_time": "2021-07-25T15:25:33.726008Z"
    }
   },
   "outputs": [],
   "source": [
    "base_url = 'https://news.naver.com/main/tvgallery/replay.naver?sid=355&date='\n",
    "text_url = 'https://news.naver.com/main/read.naver'\n",
    "date = '20130613'\n",
    "broadcast = '355'"
   ]
  },
  {
   "cell_type": "code",
   "execution_count": 10,
   "metadata": {
    "ExecuteTime": {
     "start_time": "2021-07-25T15:26:05.593Z"
    }
   },
   "outputs": [
    {
     "name": "stdout",
     "output_type": "stream",
     "text": [
      "056_0000003463\n",
      "https://news.naver.com/main/read.naver?sid1=355&oid=056&aid=0000003463\n",
      "https://news.naver.com/main/read.naver?sid1=355&oid=056&aid=0000003463\n",
      "056_0000003464\n",
      "https://news.naver.com/main/read.naver?sid1=355&oid=056&aid=0000003464\n",
      "https://news.naver.com/main/read.naver?sid1=355&oid=056&aid=0000003464\n",
      "056_0000003465\n",
      "https://news.naver.com/main/read.naver?sid1=355&oid=056&aid=0000003465\n",
      "https://news.naver.com/main/read.naver?sid1=355&oid=056&aid=0000003465\n",
      "056_0000003466\n",
      "https://news.naver.com/main/read.naver?sid1=355&oid=056&aid=0000003466\n",
      "https://news.naver.com/main/read.naver?sid1=355&oid=056&aid=0000003466\n",
      "056_0000003467\n",
      "https://news.naver.com/main/read.naver?sid1=355&oid=056&aid=0000003467\n",
      "https://news.naver.com/main/read.naver?sid1=355&oid=056&aid=0000003467\n",
      "056_0000003468\n",
      "https://news.naver.com/main/read.naver?sid1=355&oid=056&aid=0000003468\n",
      "https://news.naver.com/main/read.naver?sid1=355&oid=056&aid=0000003468\n",
      "056_0000003469\n",
      "https://news.naver.com/main/read.naver?sid1=355&oid=056&aid=0000003469\n",
      "https://news.naver.com/main/read.naver?sid1=355&oid=056&aid=0000003469\n",
      "056_0000003470\n",
      "https://news.naver.com/main/read.naver?sid1=355&oid=056&aid=0000003470\n",
      "https://news.naver.com/main/read.naver?sid1=355&oid=056&aid=0000003470\n",
      "056_0000003471\n",
      "https://news.naver.com/main/read.naver?sid1=355&oid=056&aid=0000003471\n",
      "https://news.naver.com/main/read.naver?sid1=355&oid=056&aid=0000003471\n",
      "056_0000003472\n",
      "https://news.naver.com/main/read.naver?sid1=355&oid=056&aid=0000003472\n",
      "https://news.naver.com/main/read.naver?sid1=355&oid=056&aid=0000003472\n",
      "056_0000003474\n",
      "https://news.naver.com/main/read.naver?sid1=355&oid=056&aid=0000003474\n",
      "https://news.naver.com/main/read.naver?sid1=355&oid=056&aid=0000003474\n",
      "056_0000003475\n",
      "https://news.naver.com/main/read.naver?sid1=355&oid=056&aid=0000003475\n",
      "https://news.naver.com/main/read.naver?sid1=355&oid=056&aid=0000003475\n",
      "056_0000003476\n",
      "https://news.naver.com/main/read.naver?sid1=355&oid=056&aid=0000003476\n",
      "https://news.naver.com/main/read.naver?sid1=355&oid=056&aid=0000003476\n",
      "056_0000003477\n",
      "https://news.naver.com/main/read.naver?sid1=355&oid=056&aid=0000003477\n",
      "https://news.naver.com/main/read.naver?sid1=355&oid=056&aid=0000003477\n",
      "056_0000003478\n",
      "https://news.naver.com/main/read.naver?sid1=355&oid=056&aid=0000003478\n",
      "https://news.naver.com/main/read.naver?sid1=355&oid=056&aid=0000003478\n",
      "056_0000003480\n",
      "https://news.naver.com/main/read.naver?sid1=355&oid=056&aid=0000003480\n",
      "https://news.naver.com/main/read.naver?sid1=355&oid=056&aid=0000003480\n",
      "056_0000003481\n",
      "https://news.naver.com/main/read.naver?sid1=355&oid=056&aid=0000003481\n",
      "https://news.naver.com/main/read.naver?sid1=355&oid=056&aid=0000003481\n",
      "056_0000003534\n",
      "https://news.naver.com/main/read.naver?sid1=355&oid=056&aid=0000003534\n",
      "https://news.naver.com/main/read.naver?sid1=355&oid=056&aid=0000003534\n",
      "056_0000003533\n",
      "https://news.naver.com/main/read.naver?sid1=355&oid=056&aid=0000003533\n",
      "https://news.naver.com/main/read.naver?sid1=355&oid=056&aid=0000003533\n",
      "056_0000003532\n",
      "https://news.naver.com/main/read.naver?sid1=355&oid=056&aid=0000003532\n",
      "https://news.naver.com/main/read.naver?sid1=355&oid=056&aid=0000003532\n",
      "056_0000003531\n",
      "https://news.naver.com/main/read.naver?sid1=355&oid=056&aid=0000003531\n",
      "https://news.naver.com/main/read.naver?sid1=355&oid=056&aid=0000003531\n",
      "056_0000003530\n",
      "https://news.naver.com/main/read.naver?sid1=355&oid=056&aid=0000003530\n",
      "https://news.naver.com/main/read.naver?sid1=355&oid=056&aid=0000003530\n",
      "056_0000003529\n",
      "https://news.naver.com/main/read.naver?sid1=355&oid=056&aid=0000003529\n"
     ]
    },
    {
     "ename": "KeyboardInterrupt",
     "evalue": "",
     "output_type": "error",
     "traceback": [
      "\u001b[1;31m---------------------------------------------------------------------------\u001b[0m",
      "\u001b[1;31mKeyboardInterrupt\u001b[0m                         Traceback (most recent call last)",
      "\u001b[1;32m<ipython-input-10-e6ffa1635b10>\u001b[0m in \u001b[0;36m<module>\u001b[1;34m\u001b[0m\n\u001b[0;32m      7\u001b[0m     \u001b[1;32mfor\u001b[0m \u001b[0m_\u001b[0m \u001b[1;32min\u001b[0m \u001b[0mnlist\u001b[0m\u001b[1;33m[\u001b[0m\u001b[1;36m1\u001b[0m\u001b[1;33m:\u001b[0m\u001b[1;33m-\u001b[0m\u001b[1;36m1\u001b[0m\u001b[1;33m]\u001b[0m\u001b[1;33m:\u001b[0m\u001b[1;33m\u001b[0m\u001b[1;33m\u001b[0m\u001b[0m\n\u001b[0;32m      8\u001b[0m         \u001b[0mprint\u001b[0m\u001b[1;33m(\u001b[0m\u001b[0m_\u001b[0m\u001b[1;33m)\u001b[0m\u001b[1;33m\u001b[0m\u001b[1;33m\u001b[0m\u001b[0m\n\u001b[1;32m----> 9\u001b[1;33m         \u001b[0mdownload_news\u001b[0m\u001b[1;33m(\u001b[0m\u001b[0mstart\u001b[0m\u001b[1;33m,\u001b[0m \u001b[0m_\u001b[0m\u001b[1;33m,\u001b[0m \u001b[0mbroadcast\u001b[0m\u001b[1;33m)\u001b[0m\u001b[1;33m\u001b[0m\u001b[1;33m\u001b[0m\u001b[0m\n\u001b[0m\u001b[0;32m     10\u001b[0m     \u001b[0mdate\u001b[0m \u001b[1;33m=\u001b[0m \u001b[1;33m(\u001b[0m\u001b[0mdatetime\u001b[0m\u001b[1;33m.\u001b[0m\u001b[0mstrptime\u001b[0m\u001b[1;33m(\u001b[0m\u001b[0mdate\u001b[0m\u001b[1;33m,\u001b[0m \u001b[1;34m'%Y%m%d'\u001b[0m\u001b[1;33m)\u001b[0m \u001b[1;33m+\u001b[0m \u001b[0mtimedelta\u001b[0m\u001b[1;33m(\u001b[0m\u001b[0mdays\u001b[0m\u001b[1;33m=\u001b[0m\u001b[1;36m1\u001b[0m\u001b[1;33m)\u001b[0m\u001b[1;33m)\u001b[0m\u001b[1;33m.\u001b[0m\u001b[0mstrftime\u001b[0m\u001b[1;33m(\u001b[0m\u001b[1;34m'%Y%m%d'\u001b[0m\u001b[1;33m)\u001b[0m\u001b[1;33m\u001b[0m\u001b[1;33m\u001b[0m\u001b[0m\n\u001b[0;32m     11\u001b[0m     \u001b[0mstart\u001b[0m \u001b[1;33m=\u001b[0m \u001b[1;34m''\u001b[0m\u001b[1;33m.\u001b[0m\u001b[0mjoin\u001b[0m\u001b[1;33m(\u001b[0m\u001b[1;33m[\u001b[0m\u001b[1;34m'https://news.naver.com/main/tvgallery/replay.naver?sid=355&date='\u001b[0m\u001b[1;33m,\u001b[0m \u001b[0mdate\u001b[0m\u001b[1;33m]\u001b[0m\u001b[1;33m)\u001b[0m\u001b[1;33m\u001b[0m\u001b[1;33m\u001b[0m\u001b[0m\n",
      "\u001b[1;32m<ipython-input-7-c204dace4720>\u001b[0m in \u001b[0;36mdownload_news\u001b[1;34m(start, param, broadcast)\u001b[0m\n\u001b[0;32m      1\u001b[0m \u001b[1;32mdef\u001b[0m \u001b[0mdownload_news\u001b[0m\u001b[1;33m(\u001b[0m\u001b[0mstart\u001b[0m\u001b[1;33m,\u001b[0m \u001b[0mparam\u001b[0m\u001b[1;33m,\u001b[0m \u001b[0mbroadcast\u001b[0m\u001b[1;33m)\u001b[0m\u001b[1;33m:\u001b[0m\u001b[1;33m\u001b[0m\u001b[1;33m\u001b[0m\u001b[0m\n\u001b[1;32m----> 2\u001b[1;33m     \u001b[0mdownload_video\u001b[0m\u001b[1;33m(\u001b[0m\u001b[0mstart\u001b[0m\u001b[1;33m,\u001b[0m \u001b[0mparam\u001b[0m\u001b[1;33m,\u001b[0m \u001b[0mbroadcast\u001b[0m\u001b[1;33m)\u001b[0m\u001b[1;33m\u001b[0m\u001b[1;33m\u001b[0m\u001b[0m\n\u001b[0m\u001b[0;32m      3\u001b[0m     \u001b[0mdownload_text\u001b[0m\u001b[1;33m(\u001b[0m\u001b[0mstart\u001b[0m\u001b[1;33m,\u001b[0m \u001b[0mparam\u001b[0m\u001b[1;33m,\u001b[0m \u001b[0mbroadcast\u001b[0m\u001b[1;33m)\u001b[0m\u001b[1;33m\u001b[0m\u001b[1;33m\u001b[0m\u001b[0m\n\u001b[0;32m      4\u001b[0m     \u001b[1;32mreturn\u001b[0m \u001b[1;32mTrue\u001b[0m\u001b[1;33m\u001b[0m\u001b[1;33m\u001b[0m\u001b[0m\n",
      "\u001b[1;32m<ipython-input-5-5b4e3dd6357e>\u001b[0m in \u001b[0;36mdownload_video\u001b[1;34m(start, param, broadcast)\u001b[0m\n\u001b[0;32m     35\u001b[0m \u001b[1;33m\u001b[0m\u001b[0m\n\u001b[0;32m     36\u001b[0m     \u001b[0msave_file\u001b[0m \u001b[1;33m=\u001b[0m \u001b[1;34m'./MOV/{}.mp4'\u001b[0m\u001b[1;33m.\u001b[0m\u001b[0mformat\u001b[0m\u001b[1;33m(\u001b[0m\u001b[0mre\u001b[0m\u001b[1;33m.\u001b[0m\u001b[0msub\u001b[0m\u001b[1;33m(\u001b[0m\u001b[1;34mr'\\W'\u001b[0m\u001b[1;33m,\u001b[0m \u001b[1;34m''\u001b[0m\u001b[1;33m,\u001b[0m \u001b[0mnews_url\u001b[0m\u001b[1;33m.\u001b[0m\u001b[0msplit\u001b[0m\u001b[1;33m(\u001b[0m\u001b[1;34m'/'\u001b[0m\u001b[1;33m)\u001b[0m\u001b[1;33m[\u001b[0m\u001b[1;33m-\u001b[0m\u001b[1;36m1\u001b[0m\u001b[1;33m]\u001b[0m\u001b[1;33m)\u001b[0m\u001b[1;33m)\u001b[0m\u001b[1;33m\u001b[0m\u001b[1;33m\u001b[0m\u001b[0m\n\u001b[1;32m---> 37\u001b[1;33m     \u001b[0murllib\u001b[0m\u001b[1;33m.\u001b[0m\u001b[0mrequest\u001b[0m\u001b[1;33m.\u001b[0m\u001b[0murlretrieve\u001b[0m\u001b[1;33m(\u001b[0m\u001b[0mvideo_link\u001b[0m\u001b[1;33m,\u001b[0m \u001b[0msave_file\u001b[0m\u001b[1;33m)\u001b[0m\u001b[1;33m\u001b[0m\u001b[1;33m\u001b[0m\u001b[0m\n\u001b[0m",
      "\u001b[1;32m~\\anaconda3\\envs\\tensor\\lib\\urllib\\request.py\u001b[0m in \u001b[0;36murlretrieve\u001b[1;34m(url, filename, reporthook, data)\u001b[0m\n\u001b[0;32m    274\u001b[0m \u001b[1;33m\u001b[0m\u001b[0m\n\u001b[0;32m    275\u001b[0m             \u001b[1;32mwhile\u001b[0m \u001b[1;32mTrue\u001b[0m\u001b[1;33m:\u001b[0m\u001b[1;33m\u001b[0m\u001b[1;33m\u001b[0m\u001b[0m\n\u001b[1;32m--> 276\u001b[1;33m                 \u001b[0mblock\u001b[0m \u001b[1;33m=\u001b[0m \u001b[0mfp\u001b[0m\u001b[1;33m.\u001b[0m\u001b[0mread\u001b[0m\u001b[1;33m(\u001b[0m\u001b[0mbs\u001b[0m\u001b[1;33m)\u001b[0m\u001b[1;33m\u001b[0m\u001b[1;33m\u001b[0m\u001b[0m\n\u001b[0m\u001b[0;32m    277\u001b[0m                 \u001b[1;32mif\u001b[0m \u001b[1;32mnot\u001b[0m \u001b[0mblock\u001b[0m\u001b[1;33m:\u001b[0m\u001b[1;33m\u001b[0m\u001b[1;33m\u001b[0m\u001b[0m\n\u001b[0;32m    278\u001b[0m                     \u001b[1;32mbreak\u001b[0m\u001b[1;33m\u001b[0m\u001b[1;33m\u001b[0m\u001b[0m\n",
      "\u001b[1;32m~\\anaconda3\\envs\\tensor\\lib\\http\\client.py\u001b[0m in \u001b[0;36mread\u001b[1;34m(self, amt)\u001b[0m\n\u001b[0;32m    459\u001b[0m             \u001b[1;31m# Amount is given, implement using readinto\u001b[0m\u001b[1;33m\u001b[0m\u001b[1;33m\u001b[0m\u001b[1;33m\u001b[0m\u001b[0m\n\u001b[0;32m    460\u001b[0m             \u001b[0mb\u001b[0m \u001b[1;33m=\u001b[0m \u001b[0mbytearray\u001b[0m\u001b[1;33m(\u001b[0m\u001b[0mamt\u001b[0m\u001b[1;33m)\u001b[0m\u001b[1;33m\u001b[0m\u001b[1;33m\u001b[0m\u001b[0m\n\u001b[1;32m--> 461\u001b[1;33m             \u001b[0mn\u001b[0m \u001b[1;33m=\u001b[0m \u001b[0mself\u001b[0m\u001b[1;33m.\u001b[0m\u001b[0mreadinto\u001b[0m\u001b[1;33m(\u001b[0m\u001b[0mb\u001b[0m\u001b[1;33m)\u001b[0m\u001b[1;33m\u001b[0m\u001b[1;33m\u001b[0m\u001b[0m\n\u001b[0m\u001b[0;32m    462\u001b[0m             \u001b[1;32mreturn\u001b[0m \u001b[0mmemoryview\u001b[0m\u001b[1;33m(\u001b[0m\u001b[0mb\u001b[0m\u001b[1;33m)\u001b[0m\u001b[1;33m[\u001b[0m\u001b[1;33m:\u001b[0m\u001b[0mn\u001b[0m\u001b[1;33m]\u001b[0m\u001b[1;33m.\u001b[0m\u001b[0mtobytes\u001b[0m\u001b[1;33m(\u001b[0m\u001b[1;33m)\u001b[0m\u001b[1;33m\u001b[0m\u001b[1;33m\u001b[0m\u001b[0m\n\u001b[0;32m    463\u001b[0m         \u001b[1;32melse\u001b[0m\u001b[1;33m:\u001b[0m\u001b[1;33m\u001b[0m\u001b[1;33m\u001b[0m\u001b[0m\n",
      "\u001b[1;32m~\\anaconda3\\envs\\tensor\\lib\\http\\client.py\u001b[0m in \u001b[0;36mreadinto\u001b[1;34m(self, b)\u001b[0m\n\u001b[0;32m    503\u001b[0m         \u001b[1;31m# connection, and the user is reading more bytes than will be provided\u001b[0m\u001b[1;33m\u001b[0m\u001b[1;33m\u001b[0m\u001b[1;33m\u001b[0m\u001b[0m\n\u001b[0;32m    504\u001b[0m         \u001b[1;31m# (for example, reading in 1k chunks)\u001b[0m\u001b[1;33m\u001b[0m\u001b[1;33m\u001b[0m\u001b[1;33m\u001b[0m\u001b[0m\n\u001b[1;32m--> 505\u001b[1;33m         \u001b[0mn\u001b[0m \u001b[1;33m=\u001b[0m \u001b[0mself\u001b[0m\u001b[1;33m.\u001b[0m\u001b[0mfp\u001b[0m\u001b[1;33m.\u001b[0m\u001b[0mreadinto\u001b[0m\u001b[1;33m(\u001b[0m\u001b[0mb\u001b[0m\u001b[1;33m)\u001b[0m\u001b[1;33m\u001b[0m\u001b[1;33m\u001b[0m\u001b[0m\n\u001b[0m\u001b[0;32m    506\u001b[0m         \u001b[1;32mif\u001b[0m \u001b[1;32mnot\u001b[0m \u001b[0mn\u001b[0m \u001b[1;32mand\u001b[0m \u001b[0mb\u001b[0m\u001b[1;33m:\u001b[0m\u001b[1;33m\u001b[0m\u001b[1;33m\u001b[0m\u001b[0m\n\u001b[0;32m    507\u001b[0m             \u001b[1;31m# Ideally, we would raise IncompleteRead if the content-length\u001b[0m\u001b[1;33m\u001b[0m\u001b[1;33m\u001b[0m\u001b[1;33m\u001b[0m\u001b[0m\n",
      "\u001b[1;32m~\\anaconda3\\envs\\tensor\\lib\\socket.py\u001b[0m in \u001b[0;36mreadinto\u001b[1;34m(self, b)\u001b[0m\n\u001b[0;32m    587\u001b[0m         \u001b[1;32mwhile\u001b[0m \u001b[1;32mTrue\u001b[0m\u001b[1;33m:\u001b[0m\u001b[1;33m\u001b[0m\u001b[1;33m\u001b[0m\u001b[0m\n\u001b[0;32m    588\u001b[0m             \u001b[1;32mtry\u001b[0m\u001b[1;33m:\u001b[0m\u001b[1;33m\u001b[0m\u001b[1;33m\u001b[0m\u001b[0m\n\u001b[1;32m--> 589\u001b[1;33m                 \u001b[1;32mreturn\u001b[0m \u001b[0mself\u001b[0m\u001b[1;33m.\u001b[0m\u001b[0m_sock\u001b[0m\u001b[1;33m.\u001b[0m\u001b[0mrecv_into\u001b[0m\u001b[1;33m(\u001b[0m\u001b[0mb\u001b[0m\u001b[1;33m)\u001b[0m\u001b[1;33m\u001b[0m\u001b[1;33m\u001b[0m\u001b[0m\n\u001b[0m\u001b[0;32m    590\u001b[0m             \u001b[1;32mexcept\u001b[0m \u001b[0mtimeout\u001b[0m\u001b[1;33m:\u001b[0m\u001b[1;33m\u001b[0m\u001b[1;33m\u001b[0m\u001b[0m\n\u001b[0;32m    591\u001b[0m                 \u001b[0mself\u001b[0m\u001b[1;33m.\u001b[0m\u001b[0m_timeout_occurred\u001b[0m \u001b[1;33m=\u001b[0m \u001b[1;32mTrue\u001b[0m\u001b[1;33m\u001b[0m\u001b[1;33m\u001b[0m\u001b[0m\n",
      "\u001b[1;32m~\\anaconda3\\envs\\tensor\\lib\\ssl.py\u001b[0m in \u001b[0;36mrecv_into\u001b[1;34m(self, buffer, nbytes, flags)\u001b[0m\n\u001b[0;32m   1069\u001b[0m                   \u001b[1;34m\"non-zero flags not allowed in calls to recv_into() on %s\"\u001b[0m \u001b[1;33m%\u001b[0m\u001b[1;33m\u001b[0m\u001b[1;33m\u001b[0m\u001b[0m\n\u001b[0;32m   1070\u001b[0m                   self.__class__)\n\u001b[1;32m-> 1071\u001b[1;33m             \u001b[1;32mreturn\u001b[0m \u001b[0mself\u001b[0m\u001b[1;33m.\u001b[0m\u001b[0mread\u001b[0m\u001b[1;33m(\u001b[0m\u001b[0mnbytes\u001b[0m\u001b[1;33m,\u001b[0m \u001b[0mbuffer\u001b[0m\u001b[1;33m)\u001b[0m\u001b[1;33m\u001b[0m\u001b[1;33m\u001b[0m\u001b[0m\n\u001b[0m\u001b[0;32m   1072\u001b[0m         \u001b[1;32melse\u001b[0m\u001b[1;33m:\u001b[0m\u001b[1;33m\u001b[0m\u001b[1;33m\u001b[0m\u001b[0m\n\u001b[0;32m   1073\u001b[0m             \u001b[1;32mreturn\u001b[0m \u001b[0msuper\u001b[0m\u001b[1;33m(\u001b[0m\u001b[1;33m)\u001b[0m\u001b[1;33m.\u001b[0m\u001b[0mrecv_into\u001b[0m\u001b[1;33m(\u001b[0m\u001b[0mbuffer\u001b[0m\u001b[1;33m,\u001b[0m \u001b[0mnbytes\u001b[0m\u001b[1;33m,\u001b[0m \u001b[0mflags\u001b[0m\u001b[1;33m)\u001b[0m\u001b[1;33m\u001b[0m\u001b[1;33m\u001b[0m\u001b[0m\n",
      "\u001b[1;32m~\\anaconda3\\envs\\tensor\\lib\\ssl.py\u001b[0m in \u001b[0;36mread\u001b[1;34m(self, len, buffer)\u001b[0m\n\u001b[0;32m    927\u001b[0m         \u001b[1;32mtry\u001b[0m\u001b[1;33m:\u001b[0m\u001b[1;33m\u001b[0m\u001b[1;33m\u001b[0m\u001b[0m\n\u001b[0;32m    928\u001b[0m             \u001b[1;32mif\u001b[0m \u001b[0mbuffer\u001b[0m \u001b[1;32mis\u001b[0m \u001b[1;32mnot\u001b[0m \u001b[1;32mNone\u001b[0m\u001b[1;33m:\u001b[0m\u001b[1;33m\u001b[0m\u001b[1;33m\u001b[0m\u001b[0m\n\u001b[1;32m--> 929\u001b[1;33m                 \u001b[1;32mreturn\u001b[0m \u001b[0mself\u001b[0m\u001b[1;33m.\u001b[0m\u001b[0m_sslobj\u001b[0m\u001b[1;33m.\u001b[0m\u001b[0mread\u001b[0m\u001b[1;33m(\u001b[0m\u001b[0mlen\u001b[0m\u001b[1;33m,\u001b[0m \u001b[0mbuffer\u001b[0m\u001b[1;33m)\u001b[0m\u001b[1;33m\u001b[0m\u001b[1;33m\u001b[0m\u001b[0m\n\u001b[0m\u001b[0;32m    930\u001b[0m             \u001b[1;32melse\u001b[0m\u001b[1;33m:\u001b[0m\u001b[1;33m\u001b[0m\u001b[1;33m\u001b[0m\u001b[0m\n\u001b[0;32m    931\u001b[0m                 \u001b[1;32mreturn\u001b[0m \u001b[0mself\u001b[0m\u001b[1;33m.\u001b[0m\u001b[0m_sslobj\u001b[0m\u001b[1;33m.\u001b[0m\u001b[0mread\u001b[0m\u001b[1;33m(\u001b[0m\u001b[0mlen\u001b[0m\u001b[1;33m)\u001b[0m\u001b[1;33m\u001b[0m\u001b[1;33m\u001b[0m\u001b[0m\n",
      "\u001b[1;31mKeyboardInterrupt\u001b[0m: "
     ]
    }
   ],
   "source": [
    "start='https://news.naver.com/main/tvgallery/replay.naver?sid=355&date=20130613'\n",
    "n=1\n",
    "while(date != '20210725'):\n",
    "    resp = download(''.join([base_url, date]))\n",
    "    nlist = re.findall('<a href=\"#([0-9_]+)\"', resp.text)\n",
    "    # 맨 앞과 맨 마지막 뉴스 제외\n",
    "    for _ in nlist[1:-1]:\n",
    "        print(_)\n",
    "        download_news(start, _, broadcast)    \n",
    "    date = (datetime.strptime(date, '%Y%m%d') + timedelta(days=1)).strftime('%Y%m%d')\n",
    "    start = ''.join(['https://news.naver.com/main/tvgallery/replay.naver?sid=355&date=', date])\n",
    "    n+=1"
   ]
  },
  {
   "cell_type": "code",
   "execution_count": null,
   "metadata": {},
   "outputs": [],
   "source": []
  }
 ],
 "metadata": {
  "kernelspec": {
   "display_name": "Python 3",
   "language": "python",
   "name": "python3"
  },
  "language_info": {
   "codemirror_mode": {
    "name": "ipython",
    "version": 3
   },
   "file_extension": ".py",
   "mimetype": "text/x-python",
   "name": "python",
   "nbconvert_exporter": "python",
   "pygments_lexer": "ipython3",
   "version": "3.7.9"
  },
  "toc": {
   "base_numbering": 1,
   "nav_menu": {},
   "number_sections": true,
   "sideBar": true,
   "skip_h1_title": false,
   "title_cell": "Table of Contents",
   "title_sidebar": "Contents",
   "toc_cell": false,
   "toc_position": {},
   "toc_section_display": true,
   "toc_window_display": false
  },
  "varInspector": {
   "cols": {
    "lenName": 16,
    "lenType": 16,
    "lenVar": 40
   },
   "kernels_config": {
    "python": {
     "delete_cmd_postfix": "",
     "delete_cmd_prefix": "del ",
     "library": "var_list.py",
     "varRefreshCmd": "print(var_dic_list())"
    },
    "r": {
     "delete_cmd_postfix": ") ",
     "delete_cmd_prefix": "rm(",
     "library": "var_list.r",
     "varRefreshCmd": "cat(var_dic_list()) "
    }
   },
   "types_to_exclude": [
    "module",
    "function",
    "builtin_function_or_method",
    "instance",
    "_Feature"
   ],
   "window_display": false
  }
 },
 "nbformat": 4,
 "nbformat_minor": 4
}
