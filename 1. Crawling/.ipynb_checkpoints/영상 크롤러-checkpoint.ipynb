{
 "cells": [
  {
   "cell_type": "code",
   "execution_count": 32,
   "metadata": {
    "ExecuteTime": {
     "end_time": "2021-07-25T00:27:54.919590Z",
     "start_time": "2021-07-25T00:27:54.912588Z"
    }
   },
   "outputs": [],
   "source": [
    "from bs4 import BeautifulSoup as bs\n",
    "from requests import Response, Request, request\n",
    "from requests.compat import urljoin, urlparse, quote, unquote\n",
    "from urllib.parse import urlparse, parse_qs\n",
    "import re\n",
    "import requests"
   ]
  },
  {
   "cell_type": "code",
   "execution_count": 14,
   "metadata": {
    "ExecuteTime": {
     "end_time": "2021-07-25T00:26:39.535847Z",
     "start_time": "2021-07-25T00:26:39.520844Z"
    },
    "code_folding": []
   },
   "outputs": [],
   "source": [
    "#헤더 값\n",
    "headers = {\n",
    "    'user-agent': 'Mozilla/5.0 (Windows NT 10.0; Win64; x64) AppleWebKit/537.36 (KHTML, like Gecko) Chrome/91.0.4472.164 Safari/537.36'\n",
    "}"
   ]
  },
  {
   "cell_type": "code",
   "execution_count": 15,
   "metadata": {
    "ExecuteTime": {
     "end_time": "2021-07-25T00:26:39.730649Z",
     "start_time": "2021-07-25T00:26:39.714646Z"
    }
   },
   "outputs": [],
   "source": [
    "#방송사별 가장 첫 뉴스 주소\n",
    "news_list={\n",
    "    'KBS' : 'https://news.naver.com/main/tvgallery/replay.naver?sid=355&date=20130613',\n",
    "    'MBC' : 'https://news.naver.com/main/tvgallery/replay.naver?sid=370&date=201300101',\n",
    "    'SBS' : 'https://news.naver.com/main/tvgallery/replay.naver?sid=371&date=201300101',\n",
    "    'JTBC' : 'https://news.naver.com/main/tvgallery/replay.naver?sid=742&date=20131014',\n",
    "    'TVC' : 'https://news.naver.com/main/tvgallery/replay.naver?sid=750&date=20131125',\n",
    "    'YTN' : 'https://news.naver.com/main/tvgallery/replay.naver?sid=751&date=20131121',\n",
    "    'CHA' : 'https://news.naver.com/main/tvgallery/replay.naver?sid=74b&date=20131125',\n",
    "    'MBN' : 'https://news.naver.com/main/tvgallery/replay.naver?sid=74e&date=20131125',\n",
    "    'NESY' : 'https://news.naver.com/main/tvgallery/replay.naver?sid=74f&date=20140106',   \n",
    "}"
   ]
  },
  {
   "cell_type": "code",
   "execution_count": 16,
   "metadata": {
    "ExecuteTime": {
     "end_time": "2021-07-25T00:26:39.986395Z",
     "start_time": "2021-07-25T00:26:39.900810Z"
    }
   },
   "outputs": [
    {
     "name": "stdout",
     "output_type": "stream",
     "text": [
      "<Response [200]>\n"
     ]
    }
   ],
   "source": [
    "#페이지 get 방식으로 받기\n",
    "for i,j in news_list.items():\n",
    "    main_resp=request(url=j,headers=headers,method='GET')\n",
    "    print(main_resp)\n",
    "    break"
   ]
  },
  {
   "cell_type": "code",
   "execution_count": 17,
   "metadata": {
    "ExecuteTime": {
     "end_time": "2021-07-25T00:26:40.181865Z",
     "start_time": "2021-07-25T00:26:40.104842Z"
    }
   },
   "outputs": [],
   "source": [
    "main_page=bs(main_resp.text,\"lxml\")"
   ]
  },
  {
   "cell_type": "code",
   "execution_count": 18,
   "metadata": {
    "ExecuteTime": {
     "end_time": "2021-07-25T00:26:40.406970Z",
     "start_time": "2021-07-25T00:26:40.360960Z"
    }
   },
   "outputs": [
    {
     "data": {
      "text/plain": [
       "<!DOCTYPE HTML>\n",
       "<html lang=\"ko\">\n",
       "<head>\n",
       "<meta charset=\"utf-8\"/>\n",
       "<meta content=\"IE=edge\" http-equiv=\"X-UA-Compatible\"/>\n",
       "<meta contents=\"always\" name=\"referrer\"/>\n",
       "<meta content=\"3600\" http-equiv=\"refresh\"/>\n",
       "<meta content=\"width=1106\" name=\"viewport\"/>\n",
       "<meta content=\"네이버 뉴스\" property=\"og:title\"/>\n",
       "<meta content=\"website\" property=\"og:type\"/>\n",
       "<meta content=\"http://news.naver.com/main/home.naver\" property=\"og:url\"/>\n",
       "<meta content=\"https://ssl.pstatic.net/static.news/image/news/ogtag/navernews_200x200_20160804.png\" property=\"og:image\"/>\n",
       "<meta content=\"정치, 경제, 사회, 생활/문화, 세계, IT/과학 등 언론사별, 분야별 뉴스 기사 제공\" property=\"og:description\"/>\n",
       "<meta content=\"네이버\" property=\"og:article:author\"/>\n",
       "<meta content=\"summary\" name=\"twitter:card\"/>\n",
       "<meta content=\"네이버 뉴스\" name=\"twitter:title\"/>\n",
       "<meta content=\"네이버 뉴스\" name=\"twitter:site\"/>\n",
       "<meta content=\"네이버 뉴스\" name=\"twitter:creator\"/>\n",
       "<meta content=\"https://ssl.pstatic.net/static.news/image/news/ogtag/navernews_200x200_20160804.png\" name=\"twitter:image\"/>\n",
       "<meta content=\"정치, 경제, 사회, 생활/문화, 세계, IT/과학 등 언론사별, 분야별 뉴스 기사 제공\" name=\"twitter:description\"/>\n",
       "<title>언론사별 저녁 방송 뉴스 다시보기 : 네이버 뉴스</title>\n",
       "<link href=\"https://ssl.pstatic.net/static.news/image/news/2014/favicon/favicon.ico\" rel=\"shortcut icon\" type=\"image/x-icon\"/>\n",
       "<link href=\"https://ssl.pstatic.net/static.news/pnews/resources/20210722_171150/css/common.css\" rel=\"stylesheet\" type=\"text/css\"/>\n",
       "<link href=\"https://ssl.pstatic.net/static.news/pnews/resources/20210722_171150/css/news.css\" rel=\"stylesheet\" type=\"text/css\"/>\n",
       "<link href=\"https://ssl.pstatic.net/static.news/pnews/resources/20210722_171150/css/photogallery.css\" rel=\"stylesheet\" type=\"text/css\"/>\n",
       "<script charset=\"euc-kr\" src=\"https://ssl.pstatic.net/static.news/pnews/resources/20210722_171150/js/news.jindo.js\" type=\"text/javascript\"></script>\n",
       "<script charset=\"utf-8\" src=\"https://ssl.pstatic.net/static.news/pnews/resources/20210722_171150/js/news.jquery.js\" type=\"text/javascript\"></script>\n",
       "<script type=\"text/javascript\">\n",
       "document.domain='naver.com';\n",
       "var _MAIN_NEWS_MENU_ID='etc';\n",
       "var _MAIN_NEWS_SECTION_ID='';\n",
       "var ccsrv='cc.naver.com';\n",
       "var g_ssc='news.tv';\n",
       "window.nsc = g_ssc; \n",
       "var gnb_service='news';\n",
       "var gnb_logout=encodeURIComponent(location.href);\n",
       "var gnb_template='gnb_utf8';\n",
       "var gnb_brightness = 1;\n",
       "var gnb_one_naver = 1;\n",
       "var gnb_searchbox='on';\n",
       "var gnb_shortnick='on';\n",
       "\n",
       "var gnb_timestamp = \"Sun Jul 25 09:26:39 KST 2021\";\n",
       "</script>\n",
       "<script charset=\"euc-kr\" src=\"https://ssl.pstatic.net/static.news/pnews/resources/20210722_171150/js/news.service.js\" type=\"text/javascript\"></script>\n",
       "<script type=\"text/javascript\">\n",
       "\n",
       "\t(function(){\n",
       "\t\tvar id = \"naver-splugin-sdk\", t = new Date(), yyyy = t.getFullYear(), mm = t.getMonth() + 1, dd = t.getDate();\n",
       "\t\tvar s = document.createElement(\"script\"); s.id = id; s.type = \"text/javascript\", s.charset = \"utf-8\", s.async = false;\n",
       "\t\ts.src = (\"https://ssl.pstatic.net/spi/js/release/ko_KR/splugin.js?\" + yyyy + (mm < 10 ? '0' + mm : mm) + (dd < 10 ? '0' + dd : dd));\n",
       "\t\tvar d = document.getElementsByTagName('head')[0]; d.appendChild(s, d);\n",
       "\t})();\n",
       "\n",
       "\n",
       "\twindow.onload = function() {\n",
       "\t\twindow.__splugin = SocialPlugIn_Core({\n",
       "\t\t\t// nEvent Key\n",
       "\t\t\t\"evKey\" : \"news\",\n",
       "\t\t\t// 서비스명\n",
       "\t\t\t\"serviceName\" : \"뉴스\",\n",
       "\t\t\t\"sourceName\" : \"\",\n",
       "\t\t\t// 버튼 클릭후 호출되는 콜백함수\n",
       "\t\t\t\"onClick\" : function(button) {},\n",
       "\t\t\t// 공유하기 레이어 노출 후 호출되는 콜백함수\n",
       "\t\t\t\"onShow\" : function() {},\n",
       "\t\t\t// 공유하기 레이어 닫기 후 호출되는 콜백함수\n",
       "\t\t\t\"onHide\" : function() {}\n",
       "\t\t});\n",
       "\t}\n",
       "\n",
       "\tvar htInitData = {\n",
       "\t\t// [nEvent Key]\n",
       "\t\tevKey : \"news\",\n",
       "\t\t// [서비스 명]\n",
       "\t\tserviceName : \"뉴스\",\n",
       "\t\tsourceName : \"\",\n",
       "\t\t// [컨텐트 경로 FULL URL]\n",
       "\t\turl : \"\",\n",
       "\t\t// [컨텐트 제목]\n",
       "\t\ttitle : \"\",\n",
       "\t\tlikeServiceId : \"NEWS\",\n",
       "\t\t// [me구독 버튼]\n",
       "\t\tme : {\n",
       "\t\t\tdisplay : \"off\",\n",
       "\t\t\tfeedInfo : \"뉴스가\", // 이 ###이/가 마음에 드셨다면\n",
       "\t\t\tpopupType : \"C\",\n",
       "\t\t\tcallbackUrl : location.href,\n",
       "\t\t\ttargetUrl : \"/subscribe/applyFeedRelation.nhn\",\n",
       "\t\t\tserviceId : \"news\",\n",
       "\t\t\tfeedGroupId : \"\",\n",
       "\t\t\tfeedGroupName : \"\",\n",
       "\t\t\tfeedId : [ \"\" ],\n",
       "\t\t\tfeedName : [ \"\" ],\n",
       "\t\t\tselected : [ 'Y' ]\n",
       "\t\t//feedType        : [], // optional in cafe service\n",
       "\t\t//oninitialize    : callbackFunc // 개별 구독처리 시 함수\n",
       "\t\t},\n",
       "\t\t// [메일 보내기 버튼]\n",
       "\t\tmail : {\n",
       "\t\t\tdisplay : \"on\",\n",
       "\t\t\tsrvId : \"news\",\n",
       "\t\t\tsrvUrl : \"\"\n",
       "\t\t},\n",
       "\t\t// [블로그 보내기 버튼]\n",
       "\t\tblog : {\n",
       "\t\t\tdisplay : \"on\",\n",
       "\t\t\tblogId : \"naver\",\n",
       "\t\t\tsourceType : \"3\",\n",
       "\t\t\tsourceTitle : \"\"\n",
       "\t\t},\n",
       "\t\t// [카페 보내기 버튼]\n",
       "\t\tcafe : {\n",
       "\t\t\tdisplay : \"on\",\n",
       "\t\t\tsourceType : \"3\",\n",
       "\t\t\tsourceTitle : \"\"\n",
       "\t\t},\n",
       "\t\t// [메모 보내기 버튼]\n",
       "\t\tmemo : {\n",
       "\t\t\tdisplay : \"on\"\n",
       "\t\t},\n",
       "\t\t// [일정 보내기 버튼]\n",
       "\t\tcalendar : {\n",
       "\t\t\tdisplay : \"on\"\n",
       "\t\t},\n",
       "\t\t// [북마크 버튼]\n",
       "\t\tbookmark : {\n",
       "\t\t\tdisplay : \"on\"\n",
       "\t\t},\n",
       "\t\t// [URL복사 버튼]\n",
       "\t\tcopyurl : {\n",
       "\t\t\tdisplay : \"on\"\n",
       "\t\t},\n",
       "\t\t// [트위터 보내기 버튼]\n",
       "\t\ttwitter : {\n",
       "\t\t\tdisplay : \"on\"\n",
       "\t\t},\n",
       "\t\t// [페이스북 보내기 버튼]\n",
       "\t\tfacebook : {\n",
       "\t\t\tdisplay : \"on\"\n",
       "\t\t},\n",
       "\t\t// [밴드 보내기 버튼]\n",
       "\t\tband : {\n",
       "\t\t\tdisplay : \"on\"\n",
       "\t\t},\n",
       "\t\t// [라인 보내기 버튼]\n",
       "\t\tline : {\n",
       "\t\t\tdisplay : \"off\"\n",
       "\t\t},\n",
       "\t\t// [카카오톡 보내기 버튼]\n",
       "\t\tkakaotalk : {\n",
       "\t\t\tdisplay : \"off\"\n",
       "\t\t},\n",
       "\t\t// [카카오스토리 보내기 버튼]\n",
       "\t\tkakaostory : {\n",
       "\t\t\tdisplay : \"off\"\n",
       "\t\t},\n",
       "\t\t// [감정플러그인]\n",
       "\t\tscore : {\n",
       "\t\t\tdisplay : \"off\"\n",
       "\t\t}\n",
       "\t};\n",
       "\n",
       "\tfunction onSubscribe(elTarget) {\n",
       "\t\treturn htInitData;\n",
       "\t}\n",
       "</script>\n",
       "</head>\n",
       "<body>\n",
       "<div id=\"wrap\">\n",
       "<div id=\"da_base\"></div>\n",
       "<div id=\"da_stake\"></div>\n",
       "<div class=\"header\" id=\"header\">\n",
       "<div id=\"u_skip\">\n",
       "<a href=\"#lnb\" tabindex=\"1\"><span>메인 메뉴로 바로가기</span></a>\n",
       "<a href=\"#main_content\" tabindex=\"2\"><span>본문으로 바로가기</span></a>\n",
       "</div>\n",
       "<div class=\"snb_area\">\n",
       "<div class=\"snb_inner\">\n",
       "<div class=\"gnb_wrap\">\n",
       "<!-- GNB 마크업 -->\n",
       "<div id=\"gnb\"></div>\n",
       "<!-- //GNB 마크업 -->\n",
       "</div>\n",
       "<div id=\"snb_wrap\">\n",
       "<h1>\n",
       "<a class=\"h_logo nclicks(STA.naver)\" href=\"https://www.naver.com/\"><span class=\"blind\">NAVER</span></a>\n",
       "<a class=\"h_news nclicks(STA.news)\" href=\"/\"><span class=\"blind\">뉴스</span></a>\n",
       "</h1>\n",
       "<ul class=\"snb_related_service\">\n",
       "<ul class=\"snb_related_service\">\n",
       "<li><span class=\"snb_bdr\"></span><a class=\"nclicks(ST A.enter)\" href=\"https://entertain.naver.com/home\">TV연예</a></li>\n",
       "<li><span class=\"snb_bdr\"></span><a class=\"nclicks(STA.sports)\" href=\"https://sports.news.naver.com\">스포츠</a></li>\n",
       "<li><span class=\"snb_bdr\"></span><a class=\"nclicks(STA.newsstand)\" href=\"https://newsstand.naver.com\">뉴스스탠드</a></li>\n",
       "<li><span class=\"snb_bdr\"></span><a class=\"nclicks(STA.weather)\" href=\"https://weather.naver.com\">날씨</a></li>\n",
       "<li><span class=\"snb_bdr\"></span><a class=\"nclicks(STA.premium)\" href=\"https://contents.premium.naver.com\">프리미엄</a></li>\n",
       "</ul>\n",
       "<li><span class=\"snb_bdr\"></span><a class=\"nclicks(STA.tokyo)\" href=\"https://m.sports.naver.com/tokyo2020/index\"><img alt=\"TOKYO 2020\" height=\"14\" src=\"https://ssl.pstatic.net/static.news/image/news/2021/06/21/tokyo2020.png\" style=\"margin: 3px 0 0 0;\" width=\"87\"/></a></li>\n",
       "</ul>\n",
       "</div>\n",
       "</div>\n",
       "</div>\n",
       "<div class=\"lnb_area\">\n",
       "<div class=\"lnb_inner\">\n",
       "<div class=\"lnb_menu\" id=\"lnb\">\n",
       "<ul>\n",
       "<li><a class=\"nclicks(LNB.home)\" href=\"/main/home.naver\"><span class=\"tx\">뉴스홈</span> </a></li>\n",
       "<li><a class=\"nclicks(LNB.flash)\" href=\"/main/list.naver?mode=LSD&amp;mid=sec&amp;sid1=001\"><span class=\"tx\">속보</span></a></li>\n",
       "<li><a class=\"nclicks(LNB.pol)\" href=\"/main/main.naver?mode=LSD&amp;mid=shm&amp;sid1=100\"><span class=\"tx\">정치</span> </a></li>\n",
       "<li><a class=\"nclicks(LNB.eco)\" href=\"/main/main.naver?mode=LSD&amp;mid=shm&amp;sid1=101\"><span class=\"tx\">경제</span> </a></li>\n",
       "<li><a class=\"nclicks(LNB.soc)\" href=\"/main/main.naver?mode=LSD&amp;mid=shm&amp;sid1=102\"><span class=\"tx\">사회</span> </a></li>\n",
       "<li><a class=\"nclicks(LNB.lif)\" href=\"/main/main.naver?mode=LSD&amp;mid=shm&amp;sid1=103\"><span class=\"tx\">생활/문화</span> </a></li>\n",
       "<li><a class=\"nclicks(LNB.wor)\" href=\"/main/main.naver?mode=LSD&amp;mid=shm&amp;sid1=104\"><span class=\"tx\">세계</span> </a></li>\n",
       "<li><a class=\"nclicks(LNB.sci)\" href=\"/main/main.naver?mode=LSD&amp;mid=shm&amp;sid1=105\"><span class=\"tx\">IT/과학</span> </a></li>\n",
       "<li><a class=\"nclicks(LNB.opi)\" href=\"/main/opinion/home.naver\"><span class=\"tx\">오피니언</span> </a></li>\n",
       "<li><a class=\"nclicks(LNB.pho)\" href=\"/main/photo/index.naver?mid=pho\"><span class=\"tx\">포토</span> </a></li>\n",
       "<li class=\"on\"><a class=\"nclicks(LNB.tv)\" href=\"/main/tv/index.naver?mid=tvh\"><span class=\"tx\">TV</span> <span class=\"blind\">선택됨</span></a></li>\n",
       "<li><a class=\"nclicks(LNB.ranking)\" href=\"/main/ranking/popularDay.naver?mid=etc&amp;sid1=111\"><span class=\"tx\">랭킹뉴스</span> </a></li>\n",
       "</ul>\n",
       "<form accept-charset=\"UTF-8\" action=\"https://search.naver.com/search.naver\" id=\"lnb.searchForm\" method=\"get\" name=\"lnb_searchForm\" target=\"_blank\">\n",
       "<fieldset>\n",
       "<legend>뉴스 검색</legend>\n",
       "<input accesskey=\"s\" class=\"text_index\" name=\"query\" style=\"ime-mode:active;\" title=\"뉴스 검색\" type=\"text\"/>\n",
       "<input name=\"where\" type=\"hidden\" value=\"news\"/>\n",
       "<input name=\"ie\" type=\"hidden\" value=\"utf8\"/>\n",
       "<input name=\"sm\" type=\"hidden\" value=\"nws_hty\"/>\n",
       "<button class=\"btn_search_lnb nclicks(LNB.search)\" type=\"submit\"><span class=\"tx\"><span class=\"blind\">검색</span></span></button>\n",
       "</fieldset>\n",
       "</form>\n",
       "</div>\n",
       "</div>\n",
       "</div>\n",
       "<div class=\"lnb\">\n",
       "<span class=\"lnb_date\"><strong>07</strong>.<strong>25</strong><span class=\"day\">(일)</span></span>\n",
       "<ul class=\"lnb_side\" tabindex=\"0\">\n",
       "<li>\n",
       "<a class=\"nclicks(nct.right1)\" href=\"https://news.naver.com/main/factcheck/main.naver\" title=\"팩트체크\">팩트체크\n",
       "</a>\n",
       "</li>\n",
       "<li>\n",
       "<a class=\"nclicks(nct.right2)\" href=\"https://media.naver.com/channel/settings.nhn  \" target=\"_blank\" title=\"언론사 설정\">언론사 설정\n",
       "</a>\n",
       "</li>\n",
       "<li>\n",
       "<a class=\"nclicks(nct.right3)\" href=\"https://news.naver.com/main/officeList.naver\" title=\"언론사 뉴스\">언론사 뉴스\n",
       "</a>\n",
       "</li>\n",
       "<li class=\"end\">\n",
       "<a class=\"nclicks(nct.right4)\" href=\"https://newslibrary.naver.com/search/searchByDate.nhn\" target=\"_blank\" title=\"라이브러리\">라이브러리\n",
       "</a>\n",
       "</li>\n",
       "</ul>\n",
       "</div>\n",
       "</div>\n",
       "<hr/>\n",
       "<div id=\"container\">\n",
       "<div class=\"content photo_gallery press_re\" id=\"content\">\n",
       "<div class=\"photo_wrap tv_wrap\">\n",
       "<div class=\"options\">\n",
       "<h2 class=\"pi_h2\"><a class=\"_href nclicks(rep.list) NCR-ASYNC\" href=\"#\">KBS 뉴스9</a></h2>\n",
       "<div class=\"options_layer\" style=\"display:none\">\n",
       "<div class=\"options_layer_inner\">\n",
       "<ul style=\"display: none;\">\n",
       "<li id=\"program751\"><a href=\"/main/tvgallery/replay.naver?sid=751\">YTN 뉴스나이트</a></li>\n",
       "<li id=\"program742\"><a href=\"/main/tvgallery/replay.naver?sid=742\">JTBC 뉴스룸</a></li>\n",
       "<li id=\"program74f\"><a href=\"/main/tvgallery/replay.naver?sid=74f\">연합뉴스TV 뉴스리뷰</a></li>\n",
       "<li class=\"on\" id=\"program355\"><a href=\"/main/tvgallery/replay.naver?sid=355\">KBS 뉴스9</a></li>\n",
       "<li id=\"program74b\"><a href=\"/main/tvgallery/replay.naver?sid=74b\">채널A 뉴스A</a></li>\n",
       "<li id=\"program370\"><a href=\"/main/tvgallery/replay.naver?sid=370\">MBC 뉴스데스크</a></li>\n",
       "<li id=\"program74e\"><a href=\"/main/tvgallery/replay.naver?sid=74e\">MBN 종합뉴스</a></li>\n",
       "<li id=\"program371\"><a href=\"/main/tvgallery/replay.naver?sid=371\">SBS 8뉴스</a></li>\n",
       "<li id=\"program750\"><a href=\"/main/tvgallery/replay.naver?sid=750\">TV조선 뉴스9</a></li>\n",
       "</ul>\n",
       "</div>\n",
       "</div>\n",
       "</div>\n",
       "<div class=\"p_info\">\n",
       "<span class=\"cnt \"><em>19</em>개의 동영상</span>\n",
       "<div class=\"calendar_date\" id=\"calendarDate\">\n",
       "<a class=\"btn pre\" href=\"#\" id=\"prev_date\" title=\"이전\"><span>이전</span></a> <span class=\"c_date\" id=\"choice_date\"></span> <a class=\"btn next\" href=\"#\" id=\"next_date\" title=\"다음\"><span>다음</span></a>\n",
       "<div class=\"cal_area\">\n",
       "<a class=\"btn cal nclicks(rep_kbs.cal) NCR-ASYNC\" href=\"#\" id=\"openLink_history\" title=\"달력보기\"><span>달력보기</span></a>\n",
       "<div class=\"layer01 layer03\" id=\"u.c.layer\">\n",
       "<div class=\"calendar layer01_content\">\n",
       "<div class=\"calendar_inner\">\n",
       "<div class=\"head\">\n",
       "<div>\n",
       "<div class=\"skin01\">\n",
       "<select id=\"u.c.year.select\" style=\"display:none;\" title=\"년도 선택\"></select>\n",
       "<div class=\"selectbox\" id=\"u.c.year.div\">\n",
       "<a class=\"box\" href=\"#\">\n",
       "<span class=\"label\"></span>\n",
       "<span class=\"button\"><span class=\"blind\">연도선택</span></span>\n",
       "</a>\n",
       "<div class=\"list scrollbox\" hidden=\"\" style='style=\"overflow:' z-index:=\"\">\n",
       "<div class=\"content\" style=\"overflow: hidden; margin-right: 0px;\">\n",
       "<ul style=\"margin: 0pt; padding: 0pt; position: relative; left: 0px; top: 0px;\">\n",
       "</ul>\n",
       "</div>\n",
       "<div class=\"scrollbar-v\">\n",
       "<div class=\"thumb-v\" style=\"top: 12px;\">\n",
       "<span class=\"thumb-body\" style=\"height: 10px;\"></span>\n",
       "</div>\n",
       "</div>\n",
       "</div>\n",
       "</div>\n",
       "</div>\n",
       "</div>\n",
       "</div>\n",
       "<div class=\"body\">\n",
       "<div class=\"calendarbox\">\n",
       "<div class=\"choose\">\n",
       "<span class=\"_month\"></span>\n",
       "<a class=\"prev\" href=\"#\" title=\"이전달\"><span>이전달</span></a>\n",
       "<a class=\"next\" href=\"#\" title=\"다음달\"><span>다음달</span></a>\n",
       "</div>\n",
       "<div class=\"tbl\">\n",
       "<table cellspacing=\"0\">\n",
       "<caption>달력</caption>\n",
       "<col width=\"33\"/>\n",
       "<col width=\"33\"/>\n",
       "<col width=\"33\"/>\n",
       "<col width=\"33\"/>\n",
       "<col width=\"33\"/>\n",
       "<col width=\"33\"/>\n",
       "<col width=\"33\"/>\n",
       "<thead>\n",
       "<tr>\n",
       "<th scope=\"col\">일</th>\n",
       "<th scope=\"col\">월</th>\n",
       "<th scope=\"col\">화</th>\n",
       "<th scope=\"col\">수</th>\n",
       "<th scope=\"col\">목</th>\n",
       "<th scope=\"col\">금</th>\n",
       "<th scope=\"col\">토</th>\n",
       "</tr>\n",
       "</thead>\n",
       "<tbody></tbody>\n",
       "</table>\n",
       "</div>\n",
       "</div>\n",
       "</div>\n",
       "</div>\n",
       "</div>\n",
       "</div>\n",
       "</div>\n",
       "<a class=\"btn now\" href=\"#\" id=\"nowDate\" title=\"오늘\"><span>오늘</span></a>\n",
       "</div>\n",
       "<div class=\"tvplay\">\n",
       "<span class=\"ico_tvplay\"></span>\n",
       "<span class=\"txt_tvplay\">동영상 전체보기</span>\n",
       "<span class=\"ico_tvtoggle nclicks(rep_kbs.cons) NCR-ASYNC\"><span class=\"checkbox-mark\" title=\"버튼을 누르면 '방송 뉴스 전체 보기'가 시작됩니다.\"></span><input id=\"c1\" name=\"c\" type=\"checkbox\"/><label for=\"c1\">OFF</label></span>\n",
       "</div>\n",
       "</div>\n",
       "<div class=\"photo_choice_wrap tv_choice_wrap\">\n",
       "<div>\n",
       "<ul class=\"photo_choice tv_choice\">\n",
       "<li id=\"l_056_0000003462\">\n",
       "<a class=\"nclicks(rep_kbs.timg) NCR-ASYNC\" href=\"#056_0000003462\"><span class=\"img_txt\">코스피 연중 최저치…아시아 증시…</span>\n",
       "<span class=\"mask_bg\"></span>\n",
       "<img alt=\"코스피 연중 최저치…아시아 증시도 폭락\" height=\"80\" onerror=\"javascript:this.src='https://ssl.pstatic.net/static.news/image/news/2009/noimage_142x80.png';this.style.width=142;this.style.height=80;\" src=\"https://imgnews.pstatic.net/image/origin/056/2013/06/13/3462.jpg?type=nf142_80_q70\" width=\"142\"/>\n",
       "<span class=\"mask\"></span></a>\n",
       "</li>\n",
       "<li id=\"l_056_0000003463\">\n",
       "<a class=\"nclicks(rep_kbs.timg) NCR-ASYNC\" href=\"#056_0000003463\"><span class=\"img_txt\">선진국 출구 전략 조짐에 세계경제…</span>\n",
       "<span class=\"mask_bg\"></span>\n",
       "<img alt=\"선진국 출구 전략 조짐에 세계경제 ‘들썩’\" height=\"80\" onerror=\"javascript:this.src='https://ssl.pstatic.net/static.news/image/news/2009/noimage_142x80.png';this.style.width=142;this.style.height=80;\" src=\"https://imgnews.pstatic.net/image/origin/056/2013/06/13/3463.jpg?type=nf142_80_q70\" width=\"142\"/>\n",
       "<span class=\"mask\"></span></a>\n",
       "</li>\n",
       "<li id=\"l_056_0000003464\">\n",
       "<a class=\"nclicks(rep_kbs.timg) NCR-ASYNC\" href=\"#056_0000003464\"><span class=\"img_txt\">[앵커&amp;리포트]  세수 부족 심각…“…</span>\n",
       "<span class=\"mask_bg\"></span>\n",
       "<img alt=\"[앵커&amp;리포트]  세수 부족 심각…“추가 대책 불가피”\" height=\"80\" onerror=\"javascript:this.src='https://ssl.pstatic.net/static.news/image/news/2009/noimage_142x80.png';this.style.width=142;this.style.height=80;\" src=\"https://imgnews.pstatic.net/image/origin/056/2013/06/13/3464.jpg?type=nf142_80_q70\" width=\"142\"/>\n",
       "<span class=\"mask\"></span></a>\n",
       "</li>\n",
       "<li id=\"l_056_0000003465\">\n",
       "<a class=\"nclicks(rep_kbs.timg) NCR-ASYNC\" href=\"#056_0000003465\"><span class=\"img_txt\">[앵커&amp;리포트] 지자체 부채 빨간불…</span>\n",
       "<span class=\"mask_bg\"></span>\n",
       "<img alt=\"[앵커&amp;리포트] 지자체 부채 빨간불…대책은?\" height=\"80\" onerror=\"javascript:this.src='https://ssl.pstatic.net/static.news/image/news/2009/noimage_142x80.png';this.style.width=142;this.style.height=80;\" src=\"https://imgnews.pstatic.net/image/origin/056/2013/06/13/3465.jpg?type=nf142_80_q70\" width=\"142\"/>\n",
       "<span class=\"mask\"></span></a>\n",
       "</li>\n",
       "<li id=\"l_056_0000003466\">\n",
       "<a class=\"nclicks(rep_kbs.timg) NCR-ASYNC\" href=\"#056_0000003466\"><span class=\"img_txt\">北 “회담 무산 남한 책임”…南 “왜…</span>\n",
       "<span class=\"mask_bg\"></span>\n",
       "<img alt=\"北 “회담 무산 남한 책임”…南 “왜곡 공개 유감”\" height=\"80\" onerror=\"javascript:this.src='https://ssl.pstatic.net/static.news/image/news/2009/noimage_142x80.png';this.style.width=142;this.style.height=80;\" src=\"https://imgnews.pstatic.net/image/origin/056/2013/06/13/3466.jpg?type=nf142_80_q70\" width=\"142\"/>\n",
       "<span class=\"mask\"></span></a>\n",
       "</li>\n",
       "<li id=\"l_056_0000003467\">\n",
       "<a class=\"nclicks(rep_kbs.timg) NCR-ASYNC\" href=\"#056_0000003467\"><span class=\"img_txt\">[앵커&amp;리포트] 北 조평통은 어떤 …</span>\n",
       "<span class=\"mask_bg\"></span>\n",
       "<img alt=\"[앵커&amp;리포트] 北 조평통은 어떤 조직?\" height=\"80\" onerror=\"javascript:this.src='https://ssl.pstatic.net/static.news/image/news/2009/noimage_142x80.png';this.style.width=142;this.style.height=80;\" src=\"https://imgnews.pstatic.net/image/origin/056/2013/06/13/3467.jpg?type=nf142_80_q70\" width=\"142\"/>\n",
       "<span class=\"mask\"></span></a>\n",
       "</li>\n",
       "<li id=\"l_056_0000003468\">\n",
       "<a class=\"nclicks(rep_kbs.timg) NCR-ASYNC\" href=\"#056_0000003468\"><span class=\"img_txt\">[데스크 분석] 다음주 장마 시작……</span>\n",
       "<span class=\"mask_bg\"></span>\n",
       "<img alt=\"[데스크 분석] 다음주 장마 시작…준비는?\" height=\"80\" onerror=\"javascript:this.src='https://ssl.pstatic.net/static.news/image/news/2009/noimage_142x80.png';this.style.width=142;this.style.height=80;\" src=\"https://imgnews.pstatic.net/image/origin/056/2013/06/13/3468.jpg?type=nf142_80_q70\" width=\"142\"/>\n",
       "<span class=\"mask\"></span></a>\n",
       "</li>\n",
       "<li id=\"l_056_0000003469\">\n",
       "<a class=\"nclicks(rep_kbs.timg) NCR-ASYNC\" href=\"#056_0000003469\"><span class=\"img_txt\">[앵커&amp;리포트] 층간 소음 기준치 …</span>\n",
       "<span class=\"mask_bg\"></span>\n",
       "<img alt=\"[앵커&amp;리포트] 층간 소음 기준치 낮추고 배상액 높인다\" height=\"80\" onerror=\"javascript:this.src='https://ssl.pstatic.net/static.news/image/news/2009/noimage_142x80.png';this.style.width=142;this.style.height=80;\" src=\"https://imgnews.pstatic.net/image/origin/056/2013/06/13/3469.jpg?type=nf142_80_q70\" width=\"142\"/>\n",
       "<span class=\"mask\"></span></a>\n",
       "</li>\n",
       "<li id=\"l_056_0000003470\">\n",
       "<a class=\"nclicks(rep_kbs.timg) NCR-ASYNC\" href=\"#056_0000003470\"><span class=\"img_txt\">[앵커&amp;리포트] 스마트폰 중독 예방…</span>\n",
       "<span class=\"mask_bg\"></span>\n",
       "<img alt=\"[앵커&amp;리포트] 스마트폰 중독 예방 교육 의무화\" height=\"80\" onerror=\"javascript:this.src='https://ssl.pstatic.net/static.news/image/news/2009/noimage_142x80.png';this.style.width=142;this.style.height=80;\" src=\"https://imgnews.pstatic.net/image/origin/056/2013/06/13/3470.jpg?type=nf142_80_q70\" width=\"142\"/>\n",
       "<span class=\"mask\"></span></a>\n",
       "</li>\n",
       "<li id=\"l_056_0000003471\">\n",
       "<a class=\"nclicks(rep_kbs.timg) NCR-ASYNC\" href=\"#056_0000003471\"><span class=\"img_txt\">“노태우 비자금 더 있다”…친동생…</span>\n",
       "<span class=\"mask_bg\"></span>\n",
       "<img alt=\"“노태우 비자금 더 있다”…친동생이 폭로\" height=\"80\" onerror=\"javascript:this.src='https://ssl.pstatic.net/static.news/image/news/2009/noimage_142x80.png';this.style.width=142;this.style.height=80;\" src=\"https://imgnews.pstatic.net/image/origin/056/2013/06/13/3471.jpg?type=nf142_80_q70\" width=\"142\"/>\n",
       "<span class=\"mask\"></span></a>\n",
       "</li>\n",
       "<li id=\"l_056_0000003472\">\n",
       "<a class=\"nclicks(rep_kbs.timg) NCR-ASYNC\" href=\"#056_0000003472\"><span class=\"img_txt\">국회 대정부질문 마지막날…‘전두…</span>\n",
       "<span class=\"mask_bg\"></span>\n",
       "<img alt=\"국회 대정부질문 마지막날…‘전두환 추징금’ 질타\" height=\"80\" onerror=\"javascript:this.src='https://ssl.pstatic.net/static.news/image/news/2009/noimage_142x80.png';this.style.width=142;this.style.height=80;\" src=\"https://imgnews.pstatic.net/image/origin/056/2013/06/13/3472.jpg?type=nf142_80_q70\" width=\"142\"/>\n",
       "<span class=\"mask\"></span></a>\n",
       "</li>\n",
       "<li id=\"l_056_0000003474\">\n",
       "<a class=\"nclicks(rep_kbs.timg) NCR-ASYNC\" href=\"#056_0000003474\"><span class=\"img_txt\">[앵커&amp;리포트] 위험천만 ‘보복 운…</span>\n",
       "<span class=\"mask_bg\"></span>\n",
       "<img alt=\"[앵커&amp;리포트] 위험천만 ‘보복 운전’…‘폭력 행위’로 처벌\" height=\"80\" onerror=\"javascript:this.src='https://ssl.pstatic.net/static.news/image/news/2009/noimage_142x80.png';this.style.width=142;this.style.height=80;\" src=\"https://imgnews.pstatic.net/image/origin/056/2013/06/13/3474.jpg?type=nf142_80_q70\" width=\"142\"/>\n",
       "<span class=\"mask\"></span></a>\n",
       "</li>\n",
       "<li id=\"l_056_0000003475\">\n",
       "<a class=\"nclicks(rep_kbs.timg) NCR-ASYNC\" href=\"#056_0000003475\"><span class=\"img_txt\">[앵커&amp;리포트] 도심 교차로 주변 …</span>\n",
       "<span class=\"mask_bg\"></span>\n",
       "<img alt=\"[앵커&amp;리포트] 도심 교차로 주변 오염물질 가장 많아\" height=\"80\" onerror=\"javascript:this.src='https://ssl.pstatic.net/static.news/image/news/2009/noimage_142x80.png';this.style.width=142;this.style.height=80;\" src=\"https://imgnews.pstatic.net/image/origin/056/2013/06/13/3475.jpg?type=nf142_80_q70\" width=\"142\"/>\n",
       "<span class=\"mask\"></span></a>\n",
       "</li>\n",
       "<li id=\"l_056_0000003476\">\n",
       "<a class=\"nclicks(rep_kbs.timg) NCR-ASYNC\" href=\"#056_0000003476\"><span class=\"img_txt\">홍준표 경남지사,  ‘진주의료원 해…</span>\n",
       "<span class=\"mask_bg\"></span>\n",
       "<img alt=\"홍준표 경남지사,  ‘진주의료원 해산 조례’ 재의 요구 거부\" height=\"80\" onerror=\"javascript:this.src='https://ssl.pstatic.net/static.news/image/news/2009/noimage_142x80.png';this.style.width=142;this.style.height=80;\" src=\"https://imgnews.pstatic.net/image/origin/056/2013/06/13/3476.jpg?type=nf142_80_q70\" width=\"142\"/>\n",
       "<span class=\"mask\"></span></a>\n",
       "</li>\n",
       "<li id=\"l_056_0000003477\">\n",
       "<a class=\"nclicks(rep_kbs.timg) NCR-ASYNC\" href=\"#056_0000003477\"><span class=\"img_txt\">방통심의위, ‘5·18 왜곡’ 채널A·…</span>\n",
       "<span class=\"mask_bg\"></span>\n",
       "<img alt=\"방통심의위, ‘5·18 왜곡’ 채널A·TV조선 중징계\" height=\"80\" onerror=\"javascript:this.src='https://ssl.pstatic.net/static.news/image/news/2009/noimage_142x80.png';this.style.width=142;this.style.height=80;\" src=\"https://imgnews.pstatic.net/image/origin/056/2013/06/13/3477.jpg?type=nf142_80_q70\" width=\"142\"/>\n",
       "<span class=\"mask\"></span></a>\n",
       "</li>\n",
       "<li id=\"l_056_0000003478\">\n",
       "<a class=\"nclicks(rep_kbs.timg) NCR-ASYNC\" href=\"#056_0000003478\"><span class=\"img_txt\">가정용 대여 정수기 ‘관리 부실’……</span>\n",
       "<span class=\"mask_bg\"></span>\n",
       "<img alt=\"가정용 대여 정수기 ‘관리 부실’…곰팡이까지\" height=\"80\" onerror=\"javascript:this.src='https://ssl.pstatic.net/static.news/image/news/2009/noimage_142x80.png';this.style.width=142;this.style.height=80;\" src=\"https://imgnews.pstatic.net/image/origin/056/2013/06/13/3478.jpg?type=nf142_80_q70\" width=\"142\"/>\n",
       "<span class=\"mask\"></span></a>\n",
       "</li>\n",
       "<li id=\"l_056_0000003480\">\n",
       "<a class=\"nclicks(rep_kbs.timg) NCR-ASYNC\" href=\"#056_0000003480\"><span class=\"img_txt\">3년 넘게 조폭에 점령된 아파트……</span>\n",
       "<span class=\"mask_bg\"></span>\n",
       "<img alt=\"3년 넘게 조폭에 점령된 아파트…주민 위협\" height=\"80\" onerror=\"javascript:this.src='https://ssl.pstatic.net/static.news/image/news/2009/noimage_142x80.png';this.style.width=142;this.style.height=80;\" src=\"https://imgnews.pstatic.net/image/origin/056/2013/06/13/3480.jpg?type=nf142_80_q70\" width=\"142\"/>\n",
       "<span class=\"mask\"></span></a>\n",
       "</li>\n",
       "<li id=\"l_056_0000003481\">\n",
       "<a class=\"nclicks(rep_kbs.timg) NCR-ASYNC\" href=\"#056_0000003481\"><span class=\"img_txt\">‘명화’ 색다른 감동…아날로그와 …</span>\n",
       "<span class=\"mask_bg\"></span>\n",
       "<img alt=\"‘명화’ 색다른 감동…아날로그와 디지털로 만난다!\" height=\"80\" onerror=\"javascript:this.src='https://ssl.pstatic.net/static.news/image/news/2009/noimage_142x80.png';this.style.width=142;this.style.height=80;\" src=\"https://imgnews.pstatic.net/image/origin/056/2013/06/13/3481.jpg?type=nf142_80_q70\" width=\"142\"/>\n",
       "<span class=\"mask\"></span></a>\n",
       "</li>\n",
       "<li id=\"l_056_0000003484\">\n",
       "<a class=\"nclicks(rep_kbs.timg) NCR-ASYNC\" href=\"#056_0000003484\"><span class=\"img_txt\">무더운 날씨 계속…남부지방 5~40m…</span>\n",
       "<span class=\"mask_bg\"></span>\n",
       "<img alt=\"무더운 날씨 계속…남부지방 5~40mm비\" height=\"80\" onerror=\"javascript:this.src='https://ssl.pstatic.net/static.news/image/news/2009/noimage_142x80.png';this.style.width=142;this.style.height=80;\" src=\"https://imgnews.pstatic.net/image/origin/056/2013/06/13/3484.jpg?type=nf142_80_q70\" width=\"142\"/>\n",
       "<span class=\"mask\"></span></a>\n",
       "</li>\n",
       "</ul>\n",
       "</div>\n",
       "<span class=\"btn_prev\"><span class=\"ico\">이전없음</span></span>\n",
       "<span class=\"btn_next\"><span class=\"ico\">다음없음</span></span>\n",
       "<a class=\"btn_prev nclicks(rep_kbs.tprev) NCR-ASYNC\" href=\"#\" style=\"display:none;\"><span class=\"ico\">이전</span></a>\n",
       "<a class=\"btn_next nclicks(rep_kbs.tnext) NCR-ASYNC\" href=\"#\" style=\"display:none;\"><span class=\"ico\">다음</span></a>\n",
       "</div>\n",
       "<div class=\"photo_article tv_article\">\n",
       "<h3><a class=\"nclicks(rep_kbs.title) NCR-ASYNC _href\" href=\"#\" id=\"article_title\" target=\"_blank\"></a></h3>\n",
       "<p class=\"p_info2\" id=\"article_date\">\n",
       "</p>\n",
       "<div class=\"photo_viewer_outer\">\n",
       "<div class=\"photo_viewer_wrap tv_viewer_wrap\">\n",
       "<div class=\"pv_imgarea\">\n",
       "<iframe allowfullscreen=\"true\" frameborder=\"0\" height=\"476\" id=\"article_vod\" marginheight=\"0\" marginwidth=\"0\" name=\"article_vod\" src=\"\" title=\"영상 플레이어\" width=\"780\"></iframe>\n",
       "</div>\n",
       "<span class=\"btn_prev\"><span class=\"ico\" style=\"top:120px\">이전없음</span></span>\n",
       "<span class=\"btn_next\"><span class=\"ico\" style=\"top:120px\">다음없음</span></span>\n",
       "<a class=\"btn_prev nclicks(rep_kbs.bprev) NCR-ASYNC\" href=\"#\" style=\"display: none;\"><span class=\"ico\" style=\"top:120px\">이전</span></a>\n",
       "<a class=\"btn_next nclicks(rep_kbs.bnext) NCR-ASYNC\" href=\"#\" style=\"display: none;\"><span class=\"ico\" style=\"top:120px\">다음</span></a>\n",
       "</div>\n",
       "</div>\n",
       "<div class=\"line_txt_wrap\">\n",
       "<p class=\"link_txt\">\n",
       "<a class=\"_href\" href=\"#\" id=\"article_content\" target=\"_blank\"></a>\n",
       "<a class=\"ico_link _href\" href=\"#\" target=\"_blank\">기사 더보기<span></span></a>\n",
       "</p>\n",
       "</div>\n",
       "<div class=\"end_btn\">\n",
       "<div id=\"likeItCountViewDiv\"></div>\n",
       "<!-- 이 기사 추천 -->\n",
       "<div class=\"tomain as_addinfo\" id=\"toMainDiv\"></div>\n",
       "<!-- //이 기사 추천 -->\n",
       "<div class=\"sns_share\">\n",
       "<a class=\"naver-splugin\" data-oninitialize=\"onSubscribe(this);\" data-style=\"unity\" href=\"#\" id=\"spiButton\" title=\"보내기\">\n",
       "<span class=\"naver-splugin-c sns_share_ico\"></span>\n",
       "<span class=\"blind\">보내기</span>\n",
       "</a>\n",
       "</div>\n",
       "<div class=\"tomain_info\" id=\"tomain_info\" style=\"display: none;\">\n",
       "</div>\n",
       "</div>\n",
       "</div>\n",
       "</div>\n",
       "<script charset=\"utf-8\" src=\"https://news.like.naver.com/js/reaction/dist/reaction.min.js?20210722\" type=\"text/javascript\"></script>\n",
       "<script type=\"text/javascript\">\n",
       "(function(){\n",
       "\t// module `ajax#onload` 에서 lcs 호출 되는데, error 시 대응\n",
       "\tvar isInitSuccess = true;\n",
       "\n",
       "\ttry{\n",
       "\t\tisInitSuccess = news.gallery.replay.GalleryManager.init({\n",
       "\t\t\tsSid : '355',\n",
       "\t\t\tsDate : '20130613',\n",
       "\t\t\tsClickId : 'kbs',\n",
       "\t\t\tsLikePluginDomain : 'https://news.like.naver.com'\n",
       "\t\t});\n",
       "\t}catch(e){\n",
       "\t\tisInitSuccess = false;\n",
       "\t}\n",
       "\n",
       "\tif(isInitSuccess === false){\n",
       "\t\tjindo.$Fn(function(){\n",
       "\t\t\tlcs_do();\n",
       "\t\t}).attach(window, \"onpageshow\" in window ? \"pageshow\" : \"load\");\n",
       "\t}\n",
       "})();\n",
       "\n",
       "reaction.init({\n",
       "    type: \"multi\",\n",
       "    domain : 'https://news.like.naver.com',\n",
       "    dependentLibrary : \"jquery\",\n",
       "    cssId: \"news\",\n",
       "    isMobile: false,\n",
       "    isHiddenLabel : false,\n",
       "    isHiddenCount : false,\n",
       "    isHiddenZeroCount : false,\n",
       "    isUsedLabelAsZeroCount : false,\n",
       "    isDebugMode : false,\n",
       "    callback : {\n",
       "        clicked : function(param) {\n",
       "            // displayId 가 'NEWS_MAIN' 이면 '메인으로추천', 'NEWS'면 '좋아요'\n",
       "            if (param && param.content && param.content.displayId && param.content.displayId == 'NEWS_MAIN') {\n",
       "                if(param.content.isReacted) {\n",
       "                    news.gallery.toMainRecommend.onRecommend();\n",
       "                    return;\n",
       "                }\n",
       "                news.gallery.toMainRecommend.onCancel();\n",
       "            }\n",
       "        },\n",
       "        updated : function(param) {\n",
       "            if (param) {\n",
       "                jindo.$A(param.contents).filter(function (content) {\n",
       "                    if (content.serviceId == 'NEWS_MAIN') {\n",
       "                        return true;\n",
       "                    }\n",
       "                    return false;\n",
       "                }).forEach(function (content) {\n",
       "                    news.gallery.toMainRecommend.onRecommendReady();\n",
       "                });\n",
       "            }\n",
       "        }\n",
       "    }\n",
       "});\n",
       "\n",
       "\n",
       "</script>\n",
       "</div>\n",
       "</div>\n",
       "</div>\n",
       "<hr/>\n",
       "<div class=\"index\">\n",
       "<div class=\"index_inner\">\n",
       "<div class=\"floating_btn\">\n",
       "<div class=\"floating_inner\">\n",
       "<a class=\"floating_btn_back\" href=\"javascript:history.back();\"><span class=\"blind\">이젠 페이지</span></a>\n",
       "<a class=\"floating_btn_top\" href=\"#\" onclick=\"window.scrollTo(0,0);oWebAccessibilityUtil.moveFocus(document.getElementById('da_base'));return false;\"><span class=\"blind\">맨위로</span></a>\n",
       "</div>\n",
       "</div>\n",
       "<div class=\"index_tab\" id=\"index.press_category\">\n",
       "<a class=\"spr stit nclicks(fot.press)\" href=\"#\" id=\"index.press.btn\">언론사 목록<span class=\"_stit_tab_arrow stit_arrow\"><span class=\"blind\">열기</span></span><span class=\"loading\" style=\"display:none;\">로딩 중</span></a>\n",
       "<div class=\"index_content is_hidden\" id=\"index.press.area\"></div>\n",
       "<a class=\"spr stit2 nclicks(fot.section)\" href=\"#\" id=\"index.category.btn\">분야별 목록<span class=\"_stit_tab_arrow stit_arrow\"><span class=\"blind\">열기</span></span><span class=\"loading\" style=\"display:none;\">로딩 중</span></a>\n",
       "<div class=\"index_content02 is_hidden\" id=\"index.category.area\"></div>\n",
       "</div>\n",
       "<div class=\"index_myscrap\">\n",
       "<a class=\"spr nclicks(fot.scrap)\" href=\"/main/scrap/index.naver\">마이스크랩</a>\n",
       "</div>\n",
       "</div>\n",
       "</div>\n",
       "<hr/>\n",
       "<div id=\"footer\">\n",
       "<ul>\n",
       "<li class=\"first\"><a class=\"nclicks(fot.agreement)\" href=\"http://www.naver.com/rules/service.html\">이용약관</a></li>\n",
       "<li><a class=\"nclicks(fot.guide)\" href=\"/main/ombudsman/index.naver\">서비스 안내</a></li>\n",
       "<li><a class=\"nclicks(fot.editor)\" href=\"/main/ombudsman/edit.naver?mid=omb\">기사배열 원칙 책임자 : 유봉석</a></li>\n",
       "<li>청소년 보호 책임자 : 이희만</li>\n",
       "<li><strong><a class=\"nclicks(fot.privacy)\" href=\"http://www.naver.com/rules/privacy.html\">개인정보처리방침</a></strong></li>\n",
       "<li><a class=\"nclicks(fot.disclaimer)\" href=\"http://www.naver.com/rules/disclaimer.html\">책임의 한계와 법적고지</a></li>\n",
       "<li><a class=\"nclicks(fot.help)\" href=\"#\" onclick=\"news.external.OPS.helpNews(); return false;\" title=\"새창\">뉴스 고객센터</a></li>\n",
       "</ul>\n",
       "<p class=\"copyright\">본 콘텐츠의 저작권은 제공처 또는 네이버에 있으며 이를 무단 이용하는 경우 저작권법 등에 따라 법적책임을 질 수 있습니다.</p>\n",
       "<address class=\"address_nhn\">\n",
       "<a class=\"logo nclicks(fot.naver)\" href=\"https://www.navercorp.com/\" target=\"_blank\"><span class=\"blind\">NAVER</span></a>\n",
       "<em>Copyright ©</em>\n",
       "<a class=\"nclicks(fot.navercorp)\" href=\"https://www.navercorp.com/\" target=\"_blank\">NAVER Corp.</a>\n",
       "<span>All Rights Reserved.</span>\n",
       "</address>\n",
       "<!-- -->\n",
       "</div>\n",
       "<script type=\"text/javascript\">\n",
       "\n",
       "\n",
       "\n",
       "new news.lnb.NewsSearchController('lnb.searchForm');\n",
       "\n",
       "\n",
       "\n",
       "var index_tab = new news.index.TabController('index.press_category');\n",
       "index_tab.add(new news.index.Tab('index.press.btn','stit','index.press.area','/main/ajax/bottomIndex/press.naver'));\n",
       "index_tab.add(new news.index.Tab('index.category.btn','stit2','index.category.area','/main/ajax/bottomIndex/category.naver'));\n",
       "jindo.$Fn(index_tab.toggle, index_tab).attach(index_tab.tabs.keys(), 'click');\n",
       "\n",
       "\n",
       "(function() {\n",
       "\tnews.right.RightSideFloatingManager.init();\n",
       "})();\n",
       "\n",
       "\n",
       "\n",
       "    (function() {\n",
       "        news.right.TopDownFloatingManager.init();\n",
       "    })();\n",
       "\n",
       "\n",
       "\n",
       "\n",
       "\n",
       "\n",
       "\n",
       "\n",
       "\n",
       "\n",
       "\n",
       "\n",
       "\n",
       "\n",
       "\n",
       "\n",
       "\n",
       "\n",
       "\n",
       "\n",
       "\n",
       "\n",
       "\n",
       "\n",
       "\n",
       "\n",
       "\n",
       "\n",
       "\n",
       "\n",
       "\n",
       "\n",
       "\n",
       "\n",
       "\n",
       "\n",
       "\n",
       "\n",
       "\n",
       "\n",
       "\n",
       "\n",
       "\n",
       "\n",
       "\n",
       "\n",
       "\n",
       "\n",
       "news.startup();\n",
       "\n",
       "\n",
       "jindo.$Fn(function(){\n",
       "    var welSkip = jindo.$Element(\"u_skip\");\n",
       "    if (welSkip === null) {\n",
       "        return;\n",
       "    }\n",
       "    welSkip.delegate(\"click\", \"a\", function(weEvent){\n",
       "        weEvent.stopDefault();\n",
       "        var elTarget = jindo.$(weEvent.element.href.split(\"#\")[1]);\n",
       "        oWebAccessibilityUtil.moveFocus(elTarget);\n",
       "    });\n",
       "}).attach(window, \"load\");\n",
       "\n",
       "\n",
       "document.documentElement.setAttribute('data-useragent',navigator.userAgent);\n",
       "</script>\n",
       "</body>\n",
       "</html>"
      ]
     },
     "execution_count": 18,
     "metadata": {},
     "output_type": "execute_result"
    }
   ],
   "source": [
    "main_page"
   ]
  },
  {
   "cell_type": "code",
   "execution_count": 19,
   "metadata": {
    "ExecuteTime": {
     "end_time": "2021-07-25T00:26:40.616733Z",
     "start_time": "2021-07-25T00:26:40.611732Z"
    }
   },
   "outputs": [
    {
     "name": "stdout",
     "output_type": "stream",
     "text": [
      "<iframe allowfullscreen=\"true\" frameborder=\"0\" height=\"476\" id=\"article_vod\" marginheight=\"0\" marginwidth=\"0\" name=\"article_vod\" src=\"\" title=\"영상 플레이어\" width=\"780\"></iframe>\n"
     ]
    }
   ],
   "source": [
    "temp=main_page.find('iframe')\n",
    "print(temp)\n",
    "#문제 플레이어의 소스는 iframe 안에 숨겨져 있는데 iframe 안 src 주소가 보이질 않음 \n",
    "#직접 주소를 따보아서 주소의 패턴을 알아보고자 함\n"
   ]
  },
  {
   "cell_type": "raw",
   "metadata": {},
   "source": [
    "원본 페이지 주소: \n",
    "    https://news.naver.com/main/tvgallery/replay.naver?sid=355&date=20130613#056_0000003462"
   ]
  },
  {
   "cell_type": "raw",
   "metadata": {},
   "source": [
    "iframe 주소\n",
    "/main/readVod.naver?width=780&height=476&callbackHandler=parent.news.gallery.replay.GalleryManager.callback&oid=056&aid=0000003462"
   ]
  },
  {
   "cell_type": "raw",
   "metadata": {},
   "source": [
    "056_0000003462 이부분을 따오는 것이 중요\n",
    "찾아보니 뉴스 페이지의 위 가로 스크롤바 현재 뉴스의 썸네일 or href의 값과 같음"
   ]
  },
  {
   "cell_type": "code",
   "execution_count": 20,
   "metadata": {
    "ExecuteTime": {
     "end_time": "2021-07-25T00:26:41.908839Z",
     "start_time": "2021-07-25T00:26:41.903838Z"
    }
   },
   "outputs": [],
   "source": [
    "vid_num=main_page.find(attrs={'class':'nclicks(rep_kbs.timg) NCR-ASYNC'}).attrs['href']"
   ]
  },
  {
   "cell_type": "code",
   "execution_count": 21,
   "metadata": {
    "ExecuteTime": {
     "end_time": "2021-07-25T00:26:42.223841Z",
     "start_time": "2021-07-25T00:26:42.209838Z"
    }
   },
   "outputs": [],
   "source": [
    "vid_url=\"https://news.naver.com/main/readVod.naver?width=780&height=476&callbackHandler=parent.news.gallery.replay.GalleryManager.callback&oid={}&aid={}\".format(vid_num[1:4],vid_num[5:])"
   ]
  },
  {
   "cell_type": "code",
   "execution_count": 22,
   "metadata": {
    "ExecuteTime": {
     "end_time": "2021-07-25T00:26:42.628839Z",
     "start_time": "2021-07-25T00:26:42.613837Z"
    }
   },
   "outputs": [],
   "source": [
    "headers = {\n",
    "    'user-agent': 'Mozilla/5.0 (Windows NT 10.0; Win64; x64) AppleWebKit/537.36 (KHTML, like Gecko) Chrome/91.0.4472.164 Safari/537.36',\n",
    "    'Referer' : j # 매번 페이지가 바뀌니 페이지 주소를 받아와야 함 (레퍼러 없으면 안불러와짐)\n",
    "}"
   ]
  },
  {
   "cell_type": "code",
   "execution_count": 23,
   "metadata": {
    "ExecuteTime": {
     "end_time": "2021-07-25T00:26:43.303658Z",
     "start_time": "2021-07-25T00:26:43.214855Z"
    }
   },
   "outputs": [],
   "source": [
    "vid_page=bs(request(url=vid_url,headers=headers,method='POST').text,'html5lib')"
   ]
  },
  {
   "cell_type": "code",
   "execution_count": 24,
   "metadata": {
    "ExecuteTime": {
     "end_time": "2021-07-25T00:26:44.295148Z",
     "start_time": "2021-07-25T00:26:44.279153Z"
    },
    "scrolled": false
   },
   "outputs": [
    {
     "data": {
      "text/plain": [
       "<!DOCTYPE html>\n",
       "<html lang=\"ko\"><head>\n",
       "<meta charset=\"utf-8\"/>\n",
       "<meta content=\"IE=edge\" http-equiv=\"X-UA-Compatible\"/>\n",
       "<meta contents=\"always\" name=\"referrer\"/>\n",
       "<style type=\"text/css\">\n",
       "html,body{height:100%;overflow:hidden}\n",
       "</style>\n",
       "</head>\n",
       "<body>\n",
       "<script charset=\"UTF-8\" src=\"https://sstatic-rmcnmv.pstatic.net/js/webplayer_4.18.40.all.26b7e2e3.min.js?dummy=20210722_171150\" type=\"text/javascript\"></script>\n",
       "<script type=\"text/javascript\">\n",
       "document.domain='naver.com';\n",
       "\n",
       "\n",
       "var rmcPlayer = new nhn.rmcnmv.RMCVideoPlayer('5BBBC4CAF42719A59C7E898781CF5D8C032D', {'value':'V124d9712c82c23ca27f8ba6b3d1a47100729ce7e3fcc954ee2b6a2dd0df556fb52f2ba6b3d1a47100729', 'outKeyMode':false}, 0, 0, '2006', null, \"https://serviceapi.rmcnmv.naver.com\");\n",
       "rmcPlayer.setProperties({\n",
       "\tdefaultResolution\t: \"720\",\n",
       "\thasRelativeMovie\t: true,\n",
       "\tshowContentInfo\t\t: false,\n",
       "\tautoPlay\t\t\t: true,\n",
       "\tcoverImageURL\t\t: \"https://imgnews.pstatic.net/image/056/2013/06/13/2674840_20.jpg\",\n",
       "\twmode\t\t\t\t: \"opaque\",\n",
       "\tskinName\t\t\t: \"tvcast_white\",\n",
       "\tcassiodServiceID\t: \"2006\",\n",
       "\tisP2P\t\t\t\t: false,\n",
       "\tprotocol\t\t\t: \"\"\n",
       "});\n",
       "\n",
       "\n",
       "function _callback(status) {\n",
       "\ttry {\n",
       "\t\tparent.news.gallery.replay.GalleryManager.callback(status);\n",
       "\t} catch (e) {\n",
       "\t\tif (console && console.log) {\n",
       "\t\t\tconsole.log(e);\n",
       "\t\t}\n",
       "\t}\n",
       "}\n",
       "rmcPlayer.properties.callbackHandler = \"_callback\";\n",
       "\n",
       "\n",
       "rmcPlayer.displayRMCPlayer();\n",
       "</script>\n",
       "\n",
       "</body></html>"
      ]
     },
     "execution_count": 24,
     "metadata": {},
     "output_type": "execute_result"
    }
   ],
   "source": [
    "vid_page"
   ]
  },
  {
   "cell_type": "code",
   "execution_count": 25,
   "metadata": {
    "ExecuteTime": {
     "end_time": "2021-07-25T00:26:45.211096Z",
     "start_time": "2021-07-25T00:26:45.195092Z"
    }
   },
   "outputs": [],
   "source": [
    "vid_temp0=vid_page.find(\"div\")"
   ]
  },
  {
   "cell_type": "code",
   "execution_count": 26,
   "metadata": {
    "ExecuteTime": {
     "end_time": "2021-07-25T00:26:45.541565Z",
     "start_time": "2021-07-25T00:26:45.530563Z"
    }
   },
   "outputs": [
    {
     "name": "stdout",
     "output_type": "stream",
     "text": [
      "None\n"
     ]
    }
   ],
   "source": [
    "print(vid_temp0)"
   ]
  },
  {
   "cell_type": "code",
   "execution_count": 27,
   "metadata": {
    "ExecuteTime": {
     "end_time": "2021-07-25T00:26:45.932829Z",
     "start_time": "2021-07-25T00:26:45.929828Z"
    }
   },
   "outputs": [],
   "source": [
    "vid_temp1=vid_page.find_all(attrs={'type':'text/javascript'})[1]"
   ]
  },
  {
   "cell_type": "code",
   "execution_count": 28,
   "metadata": {
    "ExecuteTime": {
     "end_time": "2021-07-25T00:26:46.713515Z",
     "start_time": "2021-07-25T00:26:46.699512Z"
    }
   },
   "outputs": [],
   "source": [
    "vid_id=re.findall(\"(?<=\\(\\\\\\')([A-Za-z0-9_-]*)(?=\\\\\\')\",vid_temp1.text)[0]\n",
    "vid_key=re.findall(\"(?<=\\\\\\'value\\\\\\'\\:\\\\')([A-Za-z0-9_-]*)(?=\\\\\\')\",vid_temp1.text)[0]"
   ]
  },
  {
   "cell_type": "code",
   "execution_count": 29,
   "metadata": {
    "ExecuteTime": {
     "end_time": "2021-07-25T00:26:47.133657Z",
     "start_time": "2021-07-25T00:26:47.129656Z"
    }
   },
   "outputs": [
    {
     "data": {
      "text/plain": [
       "('5BBBC4CAF42719A59C7E898781CF5D8C032D',\n",
       " 'V124d9712c82c23ca27f8ba6b3d1a47100729ce7e3fcc954ee2b6a2dd0df556fb52f2ba6b3d1a47100729')"
      ]
     },
     "execution_count": 29,
     "metadata": {},
     "output_type": "execute_result"
    }
   ],
   "source": [
    "vid_id,vid_key"
   ]
  },
  {
   "cell_type": "code",
   "execution_count": 30,
   "metadata": {
    "ExecuteTime": {
     "end_time": "2021-07-25T00:26:47.733836Z",
     "start_time": "2021-07-25T00:26:47.729836Z"
    }
   },
   "outputs": [
    {
     "ename": "SyntaxError",
     "evalue": "invalid syntax (<ipython-input-30-68afb7a69d3c>, line 1)",
     "output_type": "error",
     "traceback": [
      "\u001b[1;36m  File \u001b[1;32m\"<ipython-input-30-68afb7a69d3c>\"\u001b[1;36m, line \u001b[1;32m1\u001b[0m\n\u001b[1;33m    pid 값도 받아야 하는데 아직 못찾음\u001b[0m\n\u001b[1;37m        ^\u001b[0m\n\u001b[1;31mSyntaxError\u001b[0m\u001b[1;31m:\u001b[0m invalid syntax\n"
     ]
    }
   ],
   "source": [
    "pid 값도 받아야 하는데 아직 못찾음 \n",
    "rmcPlayer_16271713763554756"
   ]
  },
  {
   "cell_type": "code",
   "execution_count": 31,
   "metadata": {
    "ExecuteTime": {
     "end_time": "2021-07-25T00:26:48.409227Z",
     "start_time": "2021-07-25T00:26:48.395224Z"
    }
   },
   "outputs": [],
   "source": [
    "vid_params={\n",
    "    \"key\": vid_key,\n",
    "    \"pid\": 'rmcPlayer_16271713763554756',\n",
    "    \"sid\": \"2006\",\n",
    "    \"ver\": \"2.0\",\n",
    "    \"devt\": \"html5_pc\",\n",
    "    \"doct\": \"json\",\n",
    "    \"ptc\": \"https\",\n",
    "    \"sptc\": 'https',\n",
    "    \"cpt\": \"vtt\",\n",
    "    \"ctls\": \"%7B%22visible%22%3A%7B%22fullscreen%22%3Atrue%2C%22logo%22%3Afalse%2C%22playbackRate%22%3Afalse%2C%22scrap%22%3Afalse%2C%22playCount%22%3Atrue%2C%22commentCount%22%3Atrue%2C%22title%22%3Atrue%2C%22writer%22%3Atrue%2C%22expand%22%3Afalse%2C%22subtitles%22%3Atrue%2C%22thumbnails%22%3Atrue%2C%22quality%22%3Atrue%2C%22setting%22%3Atrue%2C%22script%22%3Afalse%2C%22logoDimmed%22%3Atrue%2C%22badge%22%3Atrue%2C%22seekingTime%22%3Atrue%2C%22muted%22%3Atrue%2C%22muteButton%22%3Afalse%2C%22viewerNotice%22%3Afalse%2C%22linkCount%22%3Afalse%2C%22createTime%22%3Afalse%2C%22thumbnail%22%3Atrue%7D%2C%22clicked%22%3A%7B%22expand%22%3Afalse%2C%22subtitles%22%3Afalse%7D%7D\",\n",
    "    \"pv\": \"4.18.40\",\n",
    "    \"dr\": \"2560x1440\",\n",
    "    \"lc\": \"ko_KR\",\n",
    "    \"videoId\": vid_id\n",
    "}"
   ]
  },
  {
   "cell_type": "code",
   "execution_count": 34,
   "metadata": {
    "ExecuteTime": {
     "end_time": "2021-07-25T00:29:20.889465Z",
     "start_time": "2021-07-25T00:29:20.883472Z"
    }
   },
   "outputs": [
    {
     "data": {
      "text/plain": [
       "ParseResult(scheme='https', netloc='apis.naver.com', path='/rmcnmv/rmcnmv/vod/play/v2.0/5BBBC4CAF42719A59C7E898781CF5D8C032D', params='', query='key=V1289d1726102579fa6f2ba6b3d1a47100729ce7e3fcc954ee2b6a2dd0df556fb52f2ba6b3d1a47100729&pid=rmcPlayer_16271713763554756&sid=2006&ver=2.0&devt=html5_pc&doct=json&ptc=https&sptc=https&cpt=vtt&ctls=%7B%22visible%22%3A%7B%22fullscreen%22%3Atrue%2C%22logo%22%3Afalse%2C%22playbackRate%22%3Afalse%2C%22scrap%22%3Afalse%2C%22playCount%22%3Atrue%2C%22commentCount%22%3Atrue%2C%22title%22%3Atrue%2C%22writer%22%3Atrue%2C%22expand%22%3Afalse%2C%22subtitles%22%3Atrue%2C%22thumbnails%22%3Atrue%2C%22quality%22%3Atrue%2C%22setting%22%3Atrue%2C%22script%22%3Afalse%2C%22logoDimmed%22%3Atrue%2C%22badge%22%3Atrue%2C%22seekingTime%22%3Atrue%2C%22muted%22%3Atrue%2C%22muteButton%22%3Afalse%2C%22viewerNotice%22%3Afalse%2C%22linkCount%22%3Afalse%2C%22createTime%22%3Afalse%2C%22thumbnail%22%3Atrue%7D%2C%22clicked%22%3A%7B%22expand%22%3Afalse%2C%22subtitles%22%3Afalse%7D%7D&pv=4.18.40&dr=2560x1440&lc=ko_KR&videoId=5BBBC4CAF42719A59C7E898781CF5D8C032D', fragment='')"
      ]
     },
     "execution_count": 34,
     "metadata": {},
     "output_type": "execute_result"
    }
   ],
   "source": [
    "parse.urlparse(\"https://apis.naver.com/rmcnmv/rmcnmv/vod/play/v2.0/5BBBC4CAF42719A59C7E898781CF5D8C032D?key=V1289d1726102579fa6f2ba6b3d1a47100729ce7e3fcc954ee2b6a2dd0df556fb52f2ba6b3d1a47100729&pid=rmcPlayer_16271713763554756&sid=2006&ver=2.0&devt=html5_pc&doct=json&ptc=https&sptc=https&cpt=vtt&ctls=%7B%22visible%22%3A%7B%22fullscreen%22%3Atrue%2C%22logo%22%3Afalse%2C%22playbackRate%22%3Afalse%2C%22scrap%22%3Afalse%2C%22playCount%22%3Atrue%2C%22commentCount%22%3Atrue%2C%22title%22%3Atrue%2C%22writer%22%3Atrue%2C%22expand%22%3Afalse%2C%22subtitles%22%3Atrue%2C%22thumbnails%22%3Atrue%2C%22quality%22%3Atrue%2C%22setting%22%3Atrue%2C%22script%22%3Afalse%2C%22logoDimmed%22%3Atrue%2C%22badge%22%3Atrue%2C%22seekingTime%22%3Atrue%2C%22muted%22%3Atrue%2C%22muteButton%22%3Afalse%2C%22viewerNotice%22%3Afalse%2C%22linkCount%22%3Afalse%2C%22createTime%22%3Afalse%2C%22thumbnail%22%3Atrue%7D%2C%22clicked%22%3A%7B%22expand%22%3Afalse%2C%22subtitles%22%3Afalse%7D%7D&pv=4.18.40&dr=2560x1440&lc=ko_KR&videoId=5BBBC4CAF42719A59C7E898781CF5D8C032D\")"
   ]
  },
  {
   "cell_type": "code",
   "execution_count": null,
   "metadata": {},
   "outputs": [],
   "source": []
  },
  {
   "cell_type": "code",
   "execution_count": null,
   "metadata": {},
   "outputs": [],
   "source": []
  },
  {
   "cell_type": "code",
   "execution_count": null,
   "metadata": {},
   "outputs": [],
   "source": []
  },
  {
   "cell_type": "code",
   "execution_count": null,
   "metadata": {},
   "outputs": [],
   "source": []
  },
  {
   "cell_type": "code",
   "execution_count": null,
   "metadata": {},
   "outputs": [],
   "source": []
  },
  {
   "cell_type": "code",
   "execution_count": null,
   "metadata": {},
   "outputs": [],
   "source": []
  },
  {
   "cell_type": "code",
   "execution_count": null,
   "metadata": {},
   "outputs": [],
   "source": []
  },
  {
   "cell_type": "code",
   "execution_count": 8,
   "metadata": {
    "ExecuteTime": {
     "end_time": "2021-07-25T00:10:08.681235Z",
     "start_time": "2021-07-25T00:10:08.665230Z"
    }
   },
   "outputs": [],
   "source": [
    "headersT={\n",
    "    \"y\": \"news.naver.com\",\n",
    "    \"accept\": \"*/*\",\n",
    "    \"accept-encoding\": \"gzip, deflate, br\",\n",
    "    \"accept-language\": \"ko-KR,ko;q=0.9\",\n",
    "    \"charset\": \"utf-8\",\n",
    "    \"content-length\": \"0\",\n",
    "    \"content-type\": \"application/x-www-form-urlencoded; charset=utf-8\",\n",
    "    \"cookie\": \"JSESSIONID=10DF963758A4D9F14BE0A437C2534AB5\",\n",
    "    \"origin\": \"https://news.naver.com\",\n",
    "    \"referer\": \"https://news.naver.com/main/tvgallery/replay.naver?sid=355&date=20130613\",\n",
    "    \"sec-ch-ua\": '\" Not;A Brand\";v=\"99\", \"Google Chrome\";v=\"91\", \"Chromium\";v=\"91\"',\n",
    "    \"sec-ch-ua-mobile\": \"?0\",\n",
    "    \"sec-fetch-dest\": \"empty\",\n",
    "    \"sec-fetch-mode\": \"cors\",\n",
    "    \"sec-fetch-site\": \"same-origin\",\n",
    "    \"user-agent\": 'Mozilla/5.0 (Windows NT 10.0; Win64; x64) AppleWebKit/537.36 (KHTML, like Gecko) Chrome/91.0.4472.164 Safari/537.3'\n",
    "\n",
    "}"
   ]
  },
  {
   "cell_type": "code",
   "execution_count": 9,
   "metadata": {
    "ExecuteTime": {
     "end_time": "2021-07-25T00:10:09.208431Z",
     "start_time": "2021-07-25T00:10:09.095229Z"
    }
   },
   "outputs": [],
   "source": [
    "test_page = bs(request(url='https://news.naver.com/main/tvgallery/item.naver?mode=undefined&oid=056&aid=0000003462',\n",
    "                       headers=headersT, method='POST').text, 'html5lib')"
   ]
  },
  {
   "cell_type": "code",
   "execution_count": 11,
   "metadata": {
    "ExecuteTime": {
     "end_time": "2021-07-25T00:10:23.197888Z",
     "start_time": "2021-07-25T00:10:23.184884Z"
    }
   },
   "outputs": [
    {
     "data": {
      "text/plain": [
       "<html><head></head><body>{oid:\"056\",\n",
       "aid:\"0000003462\",\n",
       "gdid:\"88000114_000000000000000000003462\",\n",
       "type:\"2\",\n",
       "title:\"\\uCF54\\uC2A4\\uD53C \\uC5F0\\uC911 \\uCD5C\\uC800\\uCE58\\u2026\\uC544\\uC2DC\\uC544 \\uC99D\\uC2DC\\uB3C4 \\uD3ED\\uB77D\",\n",
       "officeName:\"KBS\",\n",
       "createDate:\"2013-06-13 22:25\",\n",
       "modifyDate:\"2013-06-13 22:25\",\n",
       "content:\"&lt;\\uC575\\uCEE4 \\uBA58\\uD2B8&gt;  \\uC2DC\\uCCAD\\uC790 \\uC5EC\\uB7EC\\uBD84,  \\uC548\\uB155\\uD558\\uC2ED\\uB2C8\\uAE4C? \\uC624\\uB298 \\uCF54\\uC2A4\\uD53C \\uC9C0\\uC218\\uAC00 \\uC62C \\uB4E4\\uC5B4 \\uCD5C\\uC800\\uCE58\\uB85C  \\uB5A8\\uC5B4\\uC84C\\uC2B5\\uB2C8\\uB2E4. \\uC6B0\\uB9AC \\uC99D\\uC2DC\\uBFD0 \\uC544\\uB2C8\\uB77C \\uC77C\\uBCF8\\uACFC \\uD64D\\uCF69 \\uB4F1 \\uC544\\uC2DC\\uC544 \\uC99D\\uC2DC \\uC804\\uBC18\\uC774 \\uD070 \\uD558\\uB77D\\uC138\\uB97C \\uBCF4\\uC774\\uACE0 \\uC788\\uC2B5\\uB2C8\\uB2E4. \\uBA3C\\uC800 \\uBC15\\uC77C\\uC911 \\uAE30\\uC790\\uAC00  \\uBCF4\\uB3C4\\uD569\\uB2C8\\uB2E4.    &lt;\\uB9AC\\uD3EC\\uD2B8&gt;  \\uCF54\\uC2A4\\uD53C\\uAC00  \\uC0AC\\uD758 \\uC5F0\\uC18D \\uD558\\uB77D\\uD588\\uC2B5\\uB2C8\\uB2E4.  \\uB354\\uC6B0\\uAE30 1,900\\uC120\\uAE4C\\uC9C0 \\uBB34\\uB108\\uC84C\\uC2B5\\uB2C8\\uB2E4.  \\uC5B4\\uC81C\\uBCF4\\uB2E4  27.18\\uD3EC\\uC778\\uD2B8 \\uB0B4\\uB9B0 \\uAC74\\uB370 \\uC5F0\\uC911 \\uCD5C\\uC800\\uCE58\\uC600\\uC2B5\\uB2C8\\uB2E4.  \\uC624\\uB298\\uB3C4 \\uC8FC\\uC6D0\\uC778\\uC740 \\uC678\\uAD6D\\uC778\\uC774\\u2026\",\n",
       "iframeVodSrc:\"\",\n",
       "commentCount:\"{\\\"success\\\":true,\\\"code\\\":\\\"1000\\\",\\\"message\\\":\\\"요청을 성공적으로 처리하였습니다.\\\",\\\"lang\\\":\\\"ko\\\",\\\"country\\\":\\\"KR\\\",\\\"result\\\":{\\\"comment\\\":0,\\\"reply\\\":0,\\\"delCommentByUser\\\":null,\\\"delCommentByMon\\\":null,\\\"blindCommentByUser\\\":null,\\\"blindReplyByUser\\\":null,\\\"exposureConfig\\\":{\\\"reason\\\":null,\\\"status\\\":\\\"COMMENT_ON\\\"},\\\"count\\\":0},\\\"date\\\":\\\"2021-07-25T00:10:09+0000\\\"}\",\n",
       "mainRecommendTemplateType:\"N\",\n",
       "foreignIP:false,\n",
       "\n",
       "    \n",
       "        \n",
       "videoInfo : {\n",
       "    videoId: '5BBBC4CAF42719A59C7E898781CF5D8C032D',\n",
       "    inKey: 'V122a328db9c9e73f8e2dba6b3d1a47100729ce7e3fcc954ee2b6a2dd0df556fb52f2ba6b3d1a47100729',\n",
       "    coverImageURL: 'https://imgnews.pstatic.net/image/056/2013/06/13/2674840_20.jpg'\n",
       "}\n",
       "    \n",
       "    \n",
       "\n",
       "}</body></html>"
      ]
     },
     "execution_count": 11,
     "metadata": {},
     "output_type": "execute_result"
    }
   ],
   "source": [
    "test_page"
   ]
  },
  {
   "cell_type": "code",
   "execution_count": null,
   "metadata": {},
   "outputs": [],
   "source": []
  }
 ],
 "metadata": {
  "kernelspec": {
   "display_name": "Python 3",
   "language": "python",
   "name": "python3"
  },
  "language_info": {
   "codemirror_mode": {
    "name": "ipython",
    "version": 3
   },
   "file_extension": ".py",
   "mimetype": "text/x-python",
   "name": "python",
   "nbconvert_exporter": "python",
   "pygments_lexer": "ipython3",
   "version": "3.7.9"
  },
  "toc": {
   "base_numbering": 1,
   "nav_menu": {},
   "number_sections": true,
   "sideBar": true,
   "skip_h1_title": false,
   "title_cell": "Table of Contents",
   "title_sidebar": "Contents",
   "toc_cell": false,
   "toc_position": {},
   "toc_section_display": true,
   "toc_window_display": false
  },
  "varInspector": {
   "cols": {
    "lenName": 16,
    "lenType": 16,
    "lenVar": 40
   },
   "kernels_config": {
    "python": {
     "delete_cmd_postfix": "",
     "delete_cmd_prefix": "del ",
     "library": "var_list.py",
     "varRefreshCmd": "print(var_dic_list())"
    },
    "r": {
     "delete_cmd_postfix": ") ",
     "delete_cmd_prefix": "rm(",
     "library": "var_list.r",
     "varRefreshCmd": "cat(var_dic_list()) "
    }
   },
   "types_to_exclude": [
    "module",
    "function",
    "builtin_function_or_method",
    "instance",
    "_Feature"
   ],
   "window_display": false
  }
 },
 "nbformat": 4,
 "nbformat_minor": 4
}
