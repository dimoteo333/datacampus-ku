{
 "cells": [
  {
   "cell_type": "code",
   "execution_count": 173,
   "id": "optional-delaware",
   "metadata": {},
   "outputs": [],
   "source": [
    "import json\n",
    "import re\n",
    "import urllib.request\n",
    "from datetime import datetime, timedelta\n",
    "from urllib.parse import urlparse, parse_qs\n",
    "from bs4 import BeautifulSoup\n",
    "from requests import request, HTTPError\n",
    "from requests.compat import urljoin, urlparse, quote, unquote\n",
    "from requests.sessions import Session\n",
    "from time import sleep"
   ]
  },
  {
   "cell_type": "code",
   "execution_count": 9,
   "id": "advanced-dependence",
   "metadata": {},
   "outputs": [],
   "source": [
    "from selenium.webdriver import Chrome, ChromeOptions"
   ]
  },
  {
   "cell_type": "code",
   "execution_count": 337,
   "id": "proof-titanium",
   "metadata": {},
   "outputs": [],
   "source": [
    "# options = ChromeOptions()\n",
    "# options.add_argument(\"user-agent=Mozilla/5.0 (X11; Linux x86_64) AppleWebKit/537.36 (KHTML, like Gecko) Chrome/80.0.3987.87 Safari/537.36\")\n",
    "# driver = Chrome(options=options)\n",
    "\n",
    "headers = {\n",
    "    'user-agent':'Mozilla/5.0 (X11; Linux x86_64) AppleWebKit/537.36 (KHTML, like Gecko) Chrome/80.0.3987.87 Safari/537.36'\n",
    "}"
   ]
  },
  {
   "cell_type": "code",
   "execution_count": 338,
   "id": "hispanic-source",
   "metadata": {},
   "outputs": [],
   "source": [
    "def download(url, params={}, headers=headers, method='GET', maximum=2):\n",
    "    resp = request(url=url, params=params if method=='GET' else {},\n",
    "            data=params if method=='POST' else {},\n",
    "            headers=headers, method=method)\n",
    "    \n",
    "    \n",
    "    try:\n",
    "        resp.raise_for_status()\n",
    "    except HTTPError as e:\n",
    "        if 500 <= e.response.status_code < 600 and maximum > 0:\n",
    "            print('retry')\n",
    "            sleep(1) # 1초?\n",
    "            resp = download(url, params, headers, method, maximum-1) # inf loop\n",
    "        else:\n",
    "            print(e)\n",
    "        \n",
    "    return resp"
   ]
  },
  {
   "cell_type": "code",
   "execution_count": 339,
   "id": "loving-found",
   "metadata": {},
   "outputs": [],
   "source": [
    "def cleaning(data):\n",
    "    data = re.sub(r'오류를 우회하기 위한 함수 추가', '', data)\n",
    "    # 안지워질 때를 대비\n",
    "    data = re.sub(r'\\b[a-z_][a-zA-Z_()]{4,}\\b', '', data)\n",
    "    # 1. 사이드 스페이스가 있을 때 반드시 소문자+_  1글자로 시작, 영문(대소문자 포함) 4글자 이상 삭제 => 제일 뒷줄의 javascript 제거\n",
    "    data = re.sub(r'\\b[(){}/]{2,}', '', data)\n",
    "    # 2. 함수 기호 삭제 => () {} 제거\n",
    "    data = re.sub(r'([.,?!])(\\w)', '\\g<1> \\g<2>', data)\n",
    "    # 3. 구두점 다음에 글자가 있는 경우 공백 추가 => .단어 => . 단어로 변경\n",
    "    data = re.sub(r'\\s{2,}', '\\n', data).strip()\n",
    "    # 4. 공백 2개 이상 반복되는 경우 한 개만 => \\n\\n\\n\\n\\n 또는      =>\\n 또는 \n",
    "    data = re.sub(r'[^\\s\\w\\d.,?!:\\'\\\"]', '', data)\n",
    "    # 5. 공백, 문자, 숫자, 구두점을 제외한 나머지 글자 삭제 => 모든 특수문자 제거\n",
    "    data ='\\n'.join(data.splitlines()[1:])\n",
    "    # * 네이버에서 수집한 뉴스는 첫 줄에 주석이 달려있음 => 첫 줄 주석 삭제\n",
    "    return data"
   ]
  },
  {
   "cell_type": "code",
   "execution_count": 340,
   "id": "technological-spine",
   "metadata": {},
   "outputs": [],
   "source": [
    "#방송사별 가장 첫 뉴스 주소\n",
    "news_list={\n",
    "    'KBS' : 'https://news.naver.com/main/tvgallery/replay.naver?sid=355&date=20130613',\n",
    "    'MBC' : 'https://news.naver.com/main/tvgallery/replay.naver?sid=370&date=201300101',\n",
    "    'SBS' : 'https://news.naver.com/main/tvgallery/replay.naver?sid=371&date=201300101',\n",
    "    'JTBC' : 'https://news.naver.com/main/tvgallery/replay.naver?sid=742&date=20131014',\n",
    "    'TVC' : 'https://news.naver.com/main/tvgallery/replay.naver?sid=750&date=20131125',\n",
    "    'YTN' : 'https://news.naver.com/main/tvgallery/replay.naver?sid=751&date=20131121',\n",
    "    'CHA' : 'https://news.naver.com/main/tvgallery/replay.naver?sid=74b&date=20131125',\n",
    "    'MBN' : 'https://news.naver.com/main/tvgallery/replay.naver?sid=74e&date=20131125',\n",
    "    'NESY' : 'https://news.naver.com/main/tvgallery/replay.naver?sid=74f&date=20140106',   \n",
    "}"
   ]
  },
  {
   "cell_type": "markdown",
   "id": "stone-dallas",
   "metadata": {},
   "source": [
    "### KBS 뉴스 출력"
   ]
  },
  {
   "cell_type": "code",
   "execution_count": 376,
   "id": "disciplinary-christianity",
   "metadata": {},
   "outputs": [],
   "source": [
    "base_url = 'https://news.naver.com/main/tvgallery/replay.naver?sid=355&date='\n",
    "text_url = 'https://news.naver.com/main/read.naver'\n",
    "video_base = 'https://'\n",
    "date = '20130613'\n",
    "broadcast = '355'"
   ]
  },
  {
   "cell_type": "code",
   "execution_count": 377,
   "id": "upset-geneva",
   "metadata": {},
   "outputs": [],
   "source": [
    "def download_news(start, param, broadcast):\n",
    "#     download_video(start, param, broadcast)\n",
    "    \n",
    "    \n",
    "    download_text(start, param, broadcast)\n",
    "    return True"
   ]
  },
  {
   "cell_type": "code",
   "execution_count": 380,
   "id": "continuous-highway",
   "metadata": {},
   "outputs": [],
   "source": [
    "def download_text(start, param, broadcast):\n",
    "    news_url = ''.join([text_url, '?sid1=', broadcast, '&oid=', re.findall(r'([\\d]*)_', param)[0], \n",
    "                             '&aid=', re.findall(r'_([\\d]*)', param)[0]])\n",
    "    print(news_url)\n",
    "    news = download(news_url)\n",
    "    dom = BeautifulSoup(news.text, 'lxml')\n",
    "    main_area = dom.select_one('#main_content')\n",
    "    article_area = dom.select_one('#articleBodyContents')\n",
    "    file_name = re.sub(r'\\W', '', news_url.split('/')[-1])\n",
    "    with open('TXT/'+file_name+'.txt', 'w', encoding='utf-8') as f: # TXT 폴더에 저장\n",
    "        f.write(cleaning(article_area.text))"
   ]
  },
  {
   "cell_type": "code",
   "execution_count": null,
   "id": "hispanic-amateur",
   "metadata": {},
   "outputs": [],
   "source": [
    "def download_video(start, param, broadcast):\n",
    "    video_url = "
   ]
  },
  {
   "cell_type": "code",
   "execution_count": 379,
   "id": "entire-click",
   "metadata": {},
   "outputs": [
    {
     "name": "stdout",
     "output_type": "stream",
     "text": [
      "056_0000003463\n",
      "https://news.naver.com/main/read.naver?sid1=355&oid=056&aid=0000003463\n",
      "056_0000003464\n",
      "https://news.naver.com/main/read.naver?sid1=355&oid=056&aid=0000003464\n",
      "056_0000003465\n",
      "https://news.naver.com/main/read.naver?sid1=355&oid=056&aid=0000003465\n",
      "056_0000003466\n",
      "https://news.naver.com/main/read.naver?sid1=355&oid=056&aid=0000003466\n",
      "056_0000003467\n",
      "https://news.naver.com/main/read.naver?sid1=355&oid=056&aid=0000003467\n",
      "056_0000003468\n",
      "https://news.naver.com/main/read.naver?sid1=355&oid=056&aid=0000003468\n",
      "056_0000003469\n",
      "https://news.naver.com/main/read.naver?sid1=355&oid=056&aid=0000003469\n",
      "056_0000003470\n",
      "https://news.naver.com/main/read.naver?sid1=355&oid=056&aid=0000003470\n",
      "056_0000003471\n",
      "https://news.naver.com/main/read.naver?sid1=355&oid=056&aid=0000003471\n",
      "056_0000003472\n",
      "https://news.naver.com/main/read.naver?sid1=355&oid=056&aid=0000003472\n",
      "056_0000003474\n",
      "https://news.naver.com/main/read.naver?sid1=355&oid=056&aid=0000003474\n",
      "056_0000003475\n",
      "https://news.naver.com/main/read.naver?sid1=355&oid=056&aid=0000003475\n",
      "056_0000003476\n",
      "https://news.naver.com/main/read.naver?sid1=355&oid=056&aid=0000003476\n",
      "056_0000003477\n",
      "https://news.naver.com/main/read.naver?sid1=355&oid=056&aid=0000003477\n",
      "056_0000003478\n",
      "https://news.naver.com/main/read.naver?sid1=355&oid=056&aid=0000003478\n",
      "056_0000003480\n",
      "https://news.naver.com/main/read.naver?sid1=355&oid=056&aid=0000003480\n",
      "056_0000003481\n",
      "https://news.naver.com/main/read.naver?sid1=355&oid=056&aid=0000003481\n",
      "056_0000003534\n",
      "https://news.naver.com/main/read.naver?sid1=355&oid=056&aid=0000003534\n",
      "056_0000003533\n",
      "https://news.naver.com/main/read.naver?sid1=355&oid=056&aid=0000003533\n",
      "056_0000003532\n",
      "https://news.naver.com/main/read.naver?sid1=355&oid=056&aid=0000003532\n",
      "056_0000003531\n",
      "https://news.naver.com/main/read.naver?sid1=355&oid=056&aid=0000003531\n",
      "056_0000003530\n",
      "https://news.naver.com/main/read.naver?sid1=355&oid=056&aid=0000003530\n",
      "056_0000003529\n",
      "https://news.naver.com/main/read.naver?sid1=355&oid=056&aid=0000003529\n",
      "056_0000003528\n",
      "https://news.naver.com/main/read.naver?sid1=355&oid=056&aid=0000003528\n",
      "056_0000003527\n",
      "https://news.naver.com/main/read.naver?sid1=355&oid=056&aid=0000003527\n",
      "056_0000003526\n",
      "https://news.naver.com/main/read.naver?sid1=355&oid=056&aid=0000003526\n",
      "056_0000003525\n",
      "https://news.naver.com/main/read.naver?sid1=355&oid=056&aid=0000003525\n",
      "056_0000003524\n",
      "https://news.naver.com/main/read.naver?sid1=355&oid=056&aid=0000003524\n",
      "056_0000003523\n",
      "https://news.naver.com/main/read.naver?sid1=355&oid=056&aid=0000003523\n",
      "056_0000003522\n",
      "https://news.naver.com/main/read.naver?sid1=355&oid=056&aid=0000003522\n",
      "056_0000003521\n",
      "https://news.naver.com/main/read.naver?sid1=355&oid=056&aid=0000003521\n",
      "056_0000003520\n",
      "https://news.naver.com/main/read.naver?sid1=355&oid=056&aid=0000003520\n",
      "056_0000003519\n",
      "https://news.naver.com/main/read.naver?sid1=355&oid=056&aid=0000003519\n",
      "056_0000003518\n",
      "https://news.naver.com/main/read.naver?sid1=355&oid=056&aid=0000003518\n",
      "056_0000003517\n",
      "https://news.naver.com/main/read.naver?sid1=355&oid=056&aid=0000003517\n",
      "056_0000003516\n",
      "https://news.naver.com/main/read.naver?sid1=355&oid=056&aid=0000003516\n",
      "056_0000003515\n",
      "https://news.naver.com/main/read.naver?sid1=355&oid=056&aid=0000003515\n",
      "056_0000003514\n",
      "https://news.naver.com/main/read.naver?sid1=355&oid=056&aid=0000003514\n",
      "056_0000003608\n",
      "https://news.naver.com/main/read.naver?sid1=355&oid=056&aid=0000003608\n"
     ]
    },
    {
     "ename": "AttributeError",
     "evalue": "'NoneType' object has no attribute 'text'",
     "output_type": "error",
     "traceback": [
      "\u001b[1;31m---------------------------------------------------------------------------\u001b[0m",
      "\u001b[1;31mAttributeError\u001b[0m                            Traceback (most recent call last)",
      "\u001b[1;32m<ipython-input-379-d19b91205809>\u001b[0m in \u001b[0;36m<module>\u001b[1;34m\u001b[0m\n\u001b[0;32m      5\u001b[0m     \u001b[1;32mfor\u001b[0m \u001b[0m_\u001b[0m \u001b[1;32min\u001b[0m \u001b[0mnlist\u001b[0m\u001b[1;33m[\u001b[0m\u001b[1;36m1\u001b[0m\u001b[1;33m:\u001b[0m\u001b[1;33m-\u001b[0m\u001b[1;36m1\u001b[0m\u001b[1;33m]\u001b[0m\u001b[1;33m:\u001b[0m\u001b[1;33m\u001b[0m\u001b[1;33m\u001b[0m\u001b[0m\n\u001b[0;32m      6\u001b[0m         \u001b[0mprint\u001b[0m\u001b[1;33m(\u001b[0m\u001b[0m_\u001b[0m\u001b[1;33m)\u001b[0m\u001b[1;33m\u001b[0m\u001b[1;33m\u001b[0m\u001b[0m\n\u001b[1;32m----> 7\u001b[1;33m         \u001b[0mdownload_news\u001b[0m\u001b[1;33m(\u001b[0m\u001b[0mstart\u001b[0m\u001b[1;33m,\u001b[0m \u001b[0m_\u001b[0m\u001b[1;33m,\u001b[0m \u001b[0mbroadcast\u001b[0m\u001b[1;33m)\u001b[0m\u001b[1;33m\u001b[0m\u001b[1;33m\u001b[0m\u001b[0m\n\u001b[0m\u001b[0;32m      8\u001b[0m     \u001b[0mdate\u001b[0m \u001b[1;33m=\u001b[0m \u001b[1;33m(\u001b[0m\u001b[0mdatetime\u001b[0m\u001b[1;33m.\u001b[0m\u001b[0mstrptime\u001b[0m\u001b[1;33m(\u001b[0m\u001b[0mdate\u001b[0m\u001b[1;33m,\u001b[0m \u001b[1;34m'%Y%m%d'\u001b[0m\u001b[1;33m)\u001b[0m \u001b[1;33m+\u001b[0m \u001b[0mtimedelta\u001b[0m\u001b[1;33m(\u001b[0m\u001b[0mdays\u001b[0m\u001b[1;33m=\u001b[0m\u001b[1;36m1\u001b[0m\u001b[1;33m)\u001b[0m\u001b[1;33m)\u001b[0m\u001b[1;33m.\u001b[0m\u001b[0mstrftime\u001b[0m\u001b[1;33m(\u001b[0m\u001b[1;34m'%Y%m%d'\u001b[0m\u001b[1;33m)\u001b[0m\u001b[1;33m\u001b[0m\u001b[1;33m\u001b[0m\u001b[0m\n\u001b[0;32m      9\u001b[0m     \u001b[0mstart\u001b[0m \u001b[1;33m=\u001b[0m \u001b[1;34m''\u001b[0m\u001b[1;33m.\u001b[0m\u001b[0mjoin\u001b[0m\u001b[1;33m(\u001b[0m\u001b[1;33m[\u001b[0m\u001b[1;34m'https://news.naver.com/main/tvgallery/replay.naver?sid=355&date='\u001b[0m\u001b[1;33m,\u001b[0m \u001b[0mdate\u001b[0m\u001b[1;33m]\u001b[0m\u001b[1;33m)\u001b[0m\u001b[1;33m\u001b[0m\u001b[1;33m\u001b[0m\u001b[0m\n",
      "\u001b[1;32m<ipython-input-377-924099d1cb70>\u001b[0m in \u001b[0;36mdownload_news\u001b[1;34m(start, param, broadcast)\u001b[0m\n\u001b[0;32m      3\u001b[0m \u001b[1;33m\u001b[0m\u001b[0m\n\u001b[0;32m      4\u001b[0m \u001b[1;33m\u001b[0m\u001b[0m\n\u001b[1;32m----> 5\u001b[1;33m     \u001b[0mdownload_text\u001b[0m\u001b[1;33m(\u001b[0m\u001b[0mstart\u001b[0m\u001b[1;33m,\u001b[0m \u001b[0mparam\u001b[0m\u001b[1;33m,\u001b[0m \u001b[0mbroadcast\u001b[0m\u001b[1;33m)\u001b[0m\u001b[1;33m\u001b[0m\u001b[1;33m\u001b[0m\u001b[0m\n\u001b[0m\u001b[0;32m      6\u001b[0m     \u001b[1;32mreturn\u001b[0m \u001b[1;32mTrue\u001b[0m\u001b[1;33m\u001b[0m\u001b[1;33m\u001b[0m\u001b[0m\n",
      "\u001b[1;32m<ipython-input-378-9e8768295559>\u001b[0m in \u001b[0;36mdownload_text\u001b[1;34m(start, param, broadcast)\u001b[0m\n\u001b[0;32m      9\u001b[0m     \u001b[0mfile_name\u001b[0m \u001b[1;33m=\u001b[0m \u001b[0mre\u001b[0m\u001b[1;33m.\u001b[0m\u001b[0msub\u001b[0m\u001b[1;33m(\u001b[0m\u001b[1;34mr'\\W'\u001b[0m\u001b[1;33m,\u001b[0m \u001b[1;34m''\u001b[0m\u001b[1;33m,\u001b[0m \u001b[0mnews_url\u001b[0m\u001b[1;33m.\u001b[0m\u001b[0msplit\u001b[0m\u001b[1;33m(\u001b[0m\u001b[1;34m'/'\u001b[0m\u001b[1;33m)\u001b[0m\u001b[1;33m[\u001b[0m\u001b[1;33m-\u001b[0m\u001b[1;36m1\u001b[0m\u001b[1;33m]\u001b[0m\u001b[1;33m)\u001b[0m\u001b[1;33m\u001b[0m\u001b[1;33m\u001b[0m\u001b[0m\n\u001b[0;32m     10\u001b[0m     \u001b[1;32mwith\u001b[0m \u001b[0mopen\u001b[0m\u001b[1;33m(\u001b[0m\u001b[1;34m'TXT/'\u001b[0m\u001b[1;33m+\u001b[0m\u001b[0mfile_name\u001b[0m\u001b[1;33m+\u001b[0m\u001b[1;34m'.txt'\u001b[0m\u001b[1;33m,\u001b[0m \u001b[1;34m'w'\u001b[0m\u001b[1;33m,\u001b[0m \u001b[0mencoding\u001b[0m\u001b[1;33m=\u001b[0m\u001b[1;34m'utf-8'\u001b[0m\u001b[1;33m)\u001b[0m \u001b[1;32mas\u001b[0m \u001b[0mf\u001b[0m\u001b[1;33m:\u001b[0m \u001b[1;31m# TXT 폴더에 저장\u001b[0m\u001b[1;33m\u001b[0m\u001b[1;33m\u001b[0m\u001b[0m\n\u001b[1;32m---> 11\u001b[1;33m         \u001b[0mf\u001b[0m\u001b[1;33m.\u001b[0m\u001b[0mwrite\u001b[0m\u001b[1;33m(\u001b[0m\u001b[0mcleaning\u001b[0m\u001b[1;33m(\u001b[0m\u001b[0marticle_area\u001b[0m\u001b[1;33m.\u001b[0m\u001b[0mtext\u001b[0m\u001b[1;33m)\u001b[0m\u001b[1;33m)\u001b[0m\u001b[1;33m\u001b[0m\u001b[1;33m\u001b[0m\u001b[0m\n\u001b[0m",
      "\u001b[1;31mAttributeError\u001b[0m: 'NoneType' object has no attribute 'text'"
     ]
    }
   ],
   "source": [
    "while(date != '20210725'):\n",
    "    resp = download(''.join([base_url, date]))\n",
    "    nlist = re.findall('<a href=\"#([0-9_]+)\"', resp.text)\n",
    "    # 맨 앞과 맨 마지막 뉴스 제외\n",
    "    for _ in nlist[1:-1]:\n",
    "        print(_)\n",
    "        download_news(start, _, broadcast)    \n",
    "    date = (datetime.strptime(date, '%Y%m%d') + timedelta(days=1)).strftime('%Y%m%d')\n",
    "    start = ''.join(['https://news.naver.com/main/tvgallery/replay.naver?sid=355&date=', date])"
   ]
  },
  {
   "cell_type": "code",
   "execution_count": null,
   "id": "professional-northern",
   "metadata": {},
   "outputs": [],
   "source": []
  },
  {
   "cell_type": "code",
   "execution_count": null,
   "id": "collaborative-booth",
   "metadata": {},
   "outputs": [],
   "source": []
  },
  {
   "cell_type": "code",
   "execution_count": null,
   "id": "about-boxing",
   "metadata": {},
   "outputs": [],
   "source": []
  }
 ],
 "metadata": {
  "kernelspec": {
   "display_name": "Python 3",
   "language": "python",
   "name": "python3"
  },
  "language_info": {
   "codemirror_mode": {
    "name": "ipython",
    "version": 3
   },
   "file_extension": ".py",
   "mimetype": "text/x-python",
   "name": "python",
   "nbconvert_exporter": "python",
   "pygments_lexer": "ipython3",
   "version": "3.7.9"
  }
 },
 "nbformat": 4,
 "nbformat_minor": 5
}
