{
 "cells": [
  {
   "cell_type": "markdown",
   "id": "bridal-tracker",
   "metadata": {},
   "source": [
    "## 네이버 뉴스 수집기\n",
    "---\n",
    "### 사용한 버젼"
   ]
  },
  {
   "cell_type": "code",
   "execution_count": 178,
   "id": "covered-uruguay",
   "metadata": {},
   "outputs": [
    {
     "name": "stdout",
     "output_type": "stream",
     "text": [
      "Author: datacampus-ku\n",
      "\n",
      "Python implementation: CPython\n",
      "Python version       : 3.7.9\n",
      "IPython version      : 7.20.0\n",
      "\n",
      "json   : 2.0.9\n",
      "urllib3: 1.26.3\n",
      "parser : 0.5\n",
      "re     : 2.2.1\n",
      "\n"
     ]
    }
   ],
   "source": [
    "# %load_ext watermark\n",
    "%watermark -adatacampus-ku -d -v --iversions"
   ]
  },
  {
   "cell_type": "code",
   "execution_count": 177,
   "id": "turned-defense",
   "metadata": {},
   "outputs": [],
   "source": [
    "import json\n",
    "import re\n",
    "import urllib.request\n",
    "from urllib.parse import urlparse, parse_qs\n",
    "from bs4 import BeautifulSoup\n",
    "from requests import request, HTTPError\n",
    "from requests.compat import urljoin, urlparse, quote, unquote\n",
    "from requests.sessions import Session\n",
    "from time import sleep"
   ]
  },
  {
   "cell_type": "code",
   "execution_count": 6,
   "id": "middle-necessity",
   "metadata": {},
   "outputs": [],
   "source": [
    "def download(url, params={}, headers={}, method='GET', maximum=2):\n",
    "    resp = request(url=url, params=params if method=='GET' else {},\n",
    "            data=params if method=='POST' else {},\n",
    "            headers=headers, method=method)\n",
    "    \n",
    "    \n",
    "    try:\n",
    "        resp.raise_for_status()\n",
    "    except HTTPError as e:\n",
    "        if 500 <= e.response.status_code < 600 and maximum > 0:\n",
    "            print('retry')\n",
    "            sleep(1) # 1초?\n",
    "            resp = download(url, params, headers, method, maximum-1) # inf loop\n",
    "        else:\n",
    "            print(e)\n",
    "        \n",
    "    return resp"
   ]
  },
  {
   "cell_type": "code",
   "execution_count": 172,
   "id": "ambient-cornwall",
   "metadata": {},
   "outputs": [],
   "source": [
    "def can_fetch(url, path):\n",
    "    resp = download(urljoin(url, '/robots.txt'))\n",
    "    allow = list()\n",
    "    disallow = list()\n",
    "    \n",
    "    \n",
    "    if resp.status_code == 200:\n",
    "        useragent = '*'\n",
    "        for _ in resp.text.splitlines():\n",
    "            pair = _.split(':')\n",
    "            if len(pair) == 2:\n",
    "                if pair[0].strip() == 'User-agent':\n",
    "                    useragent = pair[1]\n",
    "                else:\n",
    "                    if pair[1].strip() == 'Allow':\n",
    "                        allow.append(pair[1].strip())\n",
    "                    else:\n",
    "                        disallow.append(pair[1].strip())\n",
    "      \n",
    "    return True if path in allow else False, allow, disallow"
   ]
  },
  {
   "cell_type": "code",
   "execution_count": 174,
   "id": "innovative-defense",
   "metadata": {},
   "outputs": [],
   "source": [
    "def download_video(url):\n",
    "    save_file = './MOV/temp.mp4'\n",
    "    urllib.request.urlretrieve(url, save_file)\n",
    "    \n",
    "    return True"
   ]
  },
  {
   "cell_type": "code",
   "execution_count": 24,
   "id": "smoking-percentage",
   "metadata": {},
   "outputs": [],
   "source": [
    "# options = ChromeOptions()\n",
    "# options.add_argument(\"user-agent=Mozilla/5.0 (X11; Linux x86_64) AppleWebKit/537.36 (KHTML, like Gecko) Chrome/80.0.3987.87 Safari/537.36\")\n",
    "# driver = Chrome(options=options)\n",
    "\n",
    "headers = {\n",
    "    'user-agent':'Mozilla/5.0 (X11; Linux x86_64) AppleWebKit/537.36 (KHTML, like Gecko) Chrome/80.0.3987.87 Safari/537.36'\n",
    "}"
   ]
  },
  {
   "cell_type": "code",
   "execution_count": 179,
   "id": "bearing-tourist",
   "metadata": {},
   "outputs": [],
   "source": [
    "# 찾을 뉴스 URL\n",
    "url = \"https://news.naver.com/main/tvgallery/replay.naver?sid=751&date=20200101#052_0001383422\"\n",
    "\n",
    "# 동영상을 다운받을 서버\n",
    "base_url = \"https://apis.naver.com/rmcnmv/rmcnmv/vod/play/v2.0\""
   ]
  },
  {
   "cell_type": "code",
   "execution_count": 165,
   "id": "constitutional-spokesman",
   "metadata": {},
   "outputs": [],
   "source": [
    "# Network에서 XHR로 통신하는 링크 : \n",
    "request_url = \"https://apis.naver.com/rmcnmv/rmcnmv/vod/play/v2.0/BAA1BD447C6AEAAAFC86174FC5C8BA8DCF46?key=V125b02e82c56f176158790ee53ef26e33e09d79e50772ed27e1b5d2aa1623c99302a90ee53ef26e33e09&pid=rmcPlayer_16269668385546947&sid=2006&ver=2.0&devt=html5_mo&doct=json&ptc=https&sptc=https&cpt=vtt&ctls=%7B%22visible%22%3A%7B%22fullscreen%22%3Atrue%2C%22logo%22%3Afalse%2C%22playbackRate%22%3Afalse%2C%22scrap%22%3Afalse%2C%22playCount%22%3Atrue%2C%22commentCount%22%3Atrue%2C%22title%22%3Atrue%2C%22writer%22%3Atrue%2C%22expand%22%3Afalse%2C%22subtitles%22%3Atrue%2C%22thumbnails%22%3Atrue%2C%22quality%22%3Atrue%2C%22setting%22%3Atrue%2C%22script%22%3Afalse%2C%22logoDimmed%22%3Atrue%2C%22badge%22%3Atrue%2C%22seekingTime%22%3Atrue%2C%22muted%22%3Atrue%2C%22muteButton%22%3Afalse%2C%22viewerNotice%22%3Afalse%2C%22linkCount%22%3Afalse%2C%22createTime%22%3Afalse%2C%22thumbnail%22%3Atrue%7D%2C%22clicked%22%3A%7B%22expand%22%3Afalse%2C%22subtitles%22%3Afalse%7D%7D&pv=4.18.40&dr=2560x1440&lc=ko_KR&videoId=BAA1BD447C6AEAAAFC86174FC5C8BA8DCF46\""
   ]
  },
  {
   "cell_type": "code",
   "execution_count": 70,
   "id": "royal-insight",
   "metadata": {},
   "outputs": [],
   "source": [
    "# data에 parameter들을 나눠서 저장\n",
    "keys = re.findall(r'\\?(key=.+)', request_url)[0]\n",
    "data = parse_qs(urljoin(base=base_url, url=''.join(['&', keys])))"
   ]
  },
  {
   "cell_type": "code",
   "execution_count": 74,
   "id": "interracial-stretch",
   "metadata": {},
   "outputs": [],
   "source": [
    "# 동영상 링크 주소를 얻기 위해 GET\n",
    "respond = download(''.join([temp, '/', data['videoId'][0], '?', keys]), headers=headers)"
   ]
  },
  {
   "cell_type": "code",
   "execution_count": 141,
   "id": "important-bible",
   "metadata": {},
   "outputs": [],
   "source": [
    "rmcPlayer = json.dumps(respond.json()['videos'])"
   ]
  },
  {
   "cell_type": "code",
   "execution_count": 163,
   "id": "about-jacob",
   "metadata": {},
   "outputs": [],
   "source": [
    "# 최종 뉴스 720P 영상 링크\n",
    "video_link = re.findall(r'\"720P\".+?\"source\": \"(.+)\",', rmcPlayer)[0]"
   ]
  },
  {
   "cell_type": "code",
   "execution_count": 175,
   "id": "square-packing",
   "metadata": {},
   "outputs": [
    {
     "data": {
      "text/plain": [
       "True"
      ]
     },
     "execution_count": 175,
     "metadata": {},
     "output_type": "execute_result"
    }
   ],
   "source": [
    "# 다운로드 속도가 생각보다 많이 느리다.. 31MB를 다운받는데 20초 걸린듯?\n",
    "download_video(video_link)"
   ]
  }
 ],
 "metadata": {
  "kernelspec": {
   "display_name": "Python 3",
   "language": "python",
   "name": "python3"
  },
  "language_info": {
   "codemirror_mode": {
    "name": "ipython",
    "version": 3
   },
   "file_extension": ".py",
   "mimetype": "text/x-python",
   "name": "python",
   "nbconvert_exporter": "python",
   "pygments_lexer": "ipython3",
   "version": "3.7.9"
  }
 },
 "nbformat": 4,
 "nbformat_minor": 5
}
