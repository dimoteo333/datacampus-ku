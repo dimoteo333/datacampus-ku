{
 "cells": [
  {
   "cell_type": "code",
   "execution_count": 1,
   "id": "8acab624",
   "metadata": {},
   "outputs": [],
   "source": [
    "import os\n",
    "import cv2\n",
    "import numpy as np\n",
    "from moviepy.editor import VideoFileClip\n",
    "import datetime\n",
    "import time\n",
    "from tqdm import notebook\n",
    "import re"
   ]
  },
  {
   "cell_type": "code",
   "execution_count": 2,
   "id": "04f2f7c5",
   "metadata": {},
   "outputs": [],
   "source": [
    "# [ 참고 사항 ]\n",
    "# mp4 파일 : 5개 사용 \n",
    "    # 2분 초과 데이터 : 1개 포함\n",
    "    # 초반부터 2명 이상의 얼굴이 나오는 데이터 : 2개 포함\n",
    "    # -> 우리는 1명의 앵커 얼굴만 나오는 데이터가 필요함"
   ]
  },
  {
   "cell_type": "code",
   "execution_count": 3,
   "id": "79467c7b",
   "metadata": {},
   "outputs": [],
   "source": [
    "# 코드 실행시간 측정\n",
    "# start = time.time()"
   ]
  },
  {
   "cell_type": "code",
   "execution_count": 4,
   "id": "7e489e9b",
   "metadata": {},
   "outputs": [],
   "source": [
    "# Whole_MOV_List 함수 : 전체 동영상 리스트 받아오기\n",
    "# mp4 파일이 들어있는 폴더명 입력\n",
    "def Whole_MOV_List(MOV_Directory):\n",
    "    MOV_List = os.listdir(MOV_Directory)\n",
    "\n",
    "    # ./MOV/파일이름.mp4 형태로 파일명 변형\n",
    "    Using_MOV = np.array([MOV_Directory+'/'+i for i in MOV_List])\n",
    "    \n",
    "    return Using_MOV"
   ]
  },
  {
   "cell_type": "code",
   "execution_count": 5,
   "id": "d8e5626d",
   "metadata": {},
   "outputs": [],
   "source": [
    "# 전체 파일 숫자 : 5개\n",
    "# a = Whole_MOV_List('./MOV')\n",
    "# print(a)"
   ]
  },
  {
   "cell_type": "code",
   "execution_count": 6,
   "id": "221e267c",
   "metadata": {},
   "outputs": [],
   "source": [
    "# Two_min_under_MOV 함수 : 2분 이하 동영상 선별 \n",
    "\n",
    "def Two_min_under_MOV(MOV_List):\n",
    "    \n",
    "    # Using_List : 사용할 영상들 file_name 모음 \n",
    "    Using_List = MOV_List[:]\n",
    "    \n",
    "    # del_index : 삭제할 영상들 index 모음\n",
    "    del_index = np.array([])\n",
    "    del_index = del_index.astype(int)\n",
    "    \n",
    "    for i in notebook.tqdm(range(len(MOV_List))):\n",
    "        clip = VideoFileClip(MOV_List[i])\n",
    "        play_time = clip.duration\n",
    "        \n",
    "        # 재생 시간이 2분을 넘는 경우 -> Using_list에서 제외\n",
    "        if play_time > 60*2 :\n",
    "            print('Except MOV_file name :', Using_List[i])\n",
    "            del_index = np.append(del_index, [i])\n",
    "            \n",
    "    Using_List = np.delete(Using_List, del_index)\n",
    "            \n",
    "    # 2분 미만인 동영상 리스트\n",
    "    return Using_List"
   ]
  },
  {
   "cell_type": "code",
   "execution_count": 7,
   "id": "99d64039",
   "metadata": {},
   "outputs": [],
   "source": [
    "# 남은 파일 숫자 ; 4개\n",
    "# b = Two_min_under_MOV(a)\n",
    "# print('\\n', b)"
   ]
  },
  {
   "cell_type": "code",
   "execution_count": 8,
   "id": "bd8abe0b",
   "metadata": {},
   "outputs": [],
   "source": [
    "# 전처리 1-1 : 앵커 1명의 얼굴로 시작되는 영상 리스트 찾기\n",
    "\n",
    "def one_anchor_starts_MOV(MOV_List):\n",
    "     \n",
    "    Using_MOV = MOV_List[:]\n",
    "    \n",
    "    # 파일 확장자를 제외한 순수한 파일명\n",
    "    Origin_file_name = np.array([])\n",
    "    Origin_file_name = Origin_file_name.astype(str)\n",
    "    \n",
    "    # 가중치 파일 경로\n",
    "    cascade_filename = 'haarcascade_frontalface_alt.xml'\n",
    "    # 모델 불러오기\n",
    "    cascade = cv2.CascadeClassifier(cascade_filename)\n",
    "    \n",
    "    # 첫 장면에서 인식한 얼굴의 수\n",
    "    face_num_list = np.array([])\n",
    "    face_num_list = face_num_list.astype(int)\n",
    "    \n",
    "    for i in notebook.tqdm(range(len(MOV_List))):\n",
    "        video = cv2.VideoCapture(MOV_List[i]) #video name change\n",
    "        ret, frame = video.read()\n",
    "        \n",
    "        # 첫 번째로 등장하는 프레임만 취급\n",
    "        frame[0]\n",
    "\n",
    "        gray = cv2.cvtColor(frame, cv2.COLOR_BGR2GRAY)\n",
    "        results = cascade.detectMultiScale(gray,\n",
    "                                          scaleFactor=2,\n",
    "                                          minNeighbors=3,\n",
    "                                          minSize=(20,20))\n",
    "        \n",
    "        face_num_list = np.append(face_num_list, [len(results)])\n",
    "    \n",
    "    # del_index : 삭제할 영상들 index 모음\n",
    "    del_index = np.array([])\n",
    "    del_index = del_index.astype(int)\n",
    "    \n",
    "    # 앵커 1명으로 시작하는 영상 찾기\n",
    "    for k in range(len(face_num_list)):\n",
    "        if face_num_list[k]!=1:\n",
    "            del_index = np.append(del_index, [k])\n",
    "    \n",
    "    Using_MOV = np.delete(Using_MOV, del_index)\n",
    "    \n",
    "    for MOV in Using_MOV:\n",
    "        MOV_origin = re.sub(pattern='.\\/MOV\\/', repl='', string=MOV)\n",
    "        MOV_origin = re.sub(pattern='.mp4', repl='', string=MOV_origin)\n",
    "        \n",
    "        Origin_file_name = np.append(Origin_file_name, MOV_origin)\n",
    "\n",
    "    # 파일 처리 쉽게 할 수 있는 것을 목표 \n",
    "    # -> MOV 원본 파일 주소, MOV 파일확장자 지운 버전 모두 제공 \n",
    "    return Using_MOV, Origin_file_name"
   ]
  },
  {
   "cell_type": "code",
   "execution_count": 9,
   "id": "0dd53cb6",
   "metadata": {
    "scrolled": true
   },
   "outputs": [],
   "source": [
    "# 남은 파일 숫자 : 2개\n",
    "# Using_MOV, Origin_file_name = one_anchor_starts_MOV(b)\n",
    "# print(Using_MOV, '\\n')\n",
    "# print(Origin_file_name)"
   ]
  },
  {
   "cell_type": "code",
   "execution_count": 10,
   "id": "88d38581",
   "metadata": {
    "scrolled": true
   },
   "outputs": [],
   "source": [
    "# 실행시간 결과\n",
    "# sec = time.time()-start\n",
    "# times = str(datetime.timedelta(seconds=sec)).split(\".\")\n",
    "# times = times[0]\n",
    "# print(times)"
   ]
  }
 ],
 "metadata": {
  "kernelspec": {
   "display_name": "Python 3",
   "language": "python",
   "name": "python3"
  },
  "language_info": {
   "codemirror_mode": {
    "name": "ipython",
    "version": 3
   },
   "file_extension": ".py",
   "mimetype": "text/x-python",
   "name": "python",
   "nbconvert_exporter": "python",
   "pygments_lexer": "ipython3",
   "version": "3.8.8"
  }
 },
 "nbformat": 4,
 "nbformat_minor": 5
}
