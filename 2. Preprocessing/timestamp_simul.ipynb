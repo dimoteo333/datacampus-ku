{
 "cells": [
  {
   "cell_type": "code",
   "execution_count": 50,
   "id": "c6dd10b2",
   "metadata": {},
   "outputs": [],
   "source": [
    "f = open('./MOV\\\\000001.txt', mode='rt', encoding='utf-8')\n",
    "sub = f.read()"
   ]
  },
  {
   "cell_type": "code",
   "execution_count": 51,
   "id": "5b230940",
   "metadata": {},
   "outputs": [],
   "source": [
    "f = open('./MOV\\\\000001_2.txt', mode='rt', encoding='utf-8')\n",
    "sub2 = f.read()"
   ]
  },
  {
   "cell_type": "code",
   "execution_count": 52,
   "id": "5a08bca7",
   "metadata": {},
   "outputs": [],
   "source": [
    "import ast\n",
    "\n",
    "sub = ast.literal_eval(sub)\n",
    "sub2 = ast.literal_eval(sub2)"
   ]
  },
  {
   "cell_type": "code",
   "execution_count": 53,
   "id": "07f9ba75",
   "metadata": {},
   "outputs": [],
   "source": [
    "end = (item for item in sub if '니다' in item['text'])"
   ]
  },
  {
   "cell_type": "code",
   "execution_count": 54,
   "id": "9ad4fac1",
   "metadata": {},
   "outputs": [],
   "source": [
    "end2 = (item for item in sub2 if '니다' in item['text'])"
   ]
  },
  {
   "cell_type": "code",
   "execution_count": null,
   "id": "243f7411",
   "metadata": {},
   "outputs": [],
   "source": []
  },
  {
   "cell_type": "code",
   "execution_count": 55,
   "id": "c9ff938f",
   "metadata": {},
   "outputs": [],
   "source": [
    "dict1 = next(end, False) #dict 1으로는 text 파일을 생성할 것"
   ]
  },
  {
   "cell_type": "code",
   "execution_count": 56,
   "id": "7fafc93d",
   "metadata": {},
   "outputs": [],
   "source": [
    "num = next((i for i, item in enumerate(sub) if '니다' in item['text']), None)"
   ]
  },
  {
   "cell_type": "code",
   "execution_count": 57,
   "id": "23c5371b",
   "metadata": {},
   "outputs": [
    {
     "data": {
      "text/plain": [
       "1"
      ]
     },
     "execution_count": 57,
     "metadata": {},
     "output_type": "execute_result"
    }
   ],
   "source": [
    "num"
   ]
  },
  {
   "cell_type": "code",
   "execution_count": 72,
   "id": "47f0620b",
   "metadata": {},
   "outputs": [],
   "source": [
    "trans = []\n",
    "for i in range(num+1):\n",
    "    trans.append(sub[i]['text'])"
   ]
  },
  {
   "cell_type": "code",
   "execution_count": 73,
   "id": "1c676b83",
   "metadata": {},
   "outputs": [
    {
     "data": {
      "text/plain": [
       "['-(기상캐스터) 내륙은 산발적으로  소나기 구름이 피어오르는가 하면', '남해안 지방은 내내 비구름이 머물고있습니다.']"
      ]
     },
     "execution_count": 73,
     "metadata": {},
     "output_type": "execute_result"
    }
   ],
   "source": [
    "trans #대본이 될 부분"
   ]
  },
  {
   "cell_type": "code",
   "execution_count": null,
   "id": "62af9467",
   "metadata": {},
   "outputs": [],
   "source": []
  },
  {
   "cell_type": "code",
   "execution_count": null,
   "id": "25922bd3",
   "metadata": {},
   "outputs": [],
   "source": []
  },
  {
   "cell_type": "code",
   "execution_count": null,
   "id": "6b751184",
   "metadata": {},
   "outputs": [],
   "source": []
  },
  {
   "cell_type": "code",
   "execution_count": 32,
   "id": "14bfbcf0",
   "metadata": {},
   "outputs": [],
   "source": [
    "dict2 = next(end2, False)"
   ]
  },
  {
   "cell_type": "code",
   "execution_count": 33,
   "id": "c353b1d3",
   "metadata": {},
   "outputs": [],
   "source": [
    "text = dict2['text']"
   ]
  },
  {
   "cell_type": "code",
   "execution_count": 34,
   "id": "f1ae894c",
   "metadata": {},
   "outputs": [
    {
     "data": {
      "text/plain": [
       "'비 구름이 머물고 있습니다'"
      ]
     },
     "execution_count": 34,
     "metadata": {},
     "output_type": "execute_result"
    }
   ],
   "source": [
    "text"
   ]
  },
  {
   "cell_type": "code",
   "execution_count": 35,
   "id": "8b92a7ad",
   "metadata": {},
   "outputs": [],
   "source": [
    "start = dict2['start']"
   ]
  },
  {
   "cell_type": "code",
   "execution_count": 36,
   "id": "447a6c40",
   "metadata": {},
   "outputs": [
    {
     "data": {
      "text/plain": [
       "9.059"
      ]
     },
     "execution_count": 36,
     "metadata": {},
     "output_type": "execute_result"
    }
   ],
   "source": [
    "start"
   ]
  },
  {
   "cell_type": "code",
   "execution_count": 37,
   "id": "8d9b4cdf",
   "metadata": {},
   "outputs": [],
   "source": [
    "num = next((i for i, item in enumerate(sub2) if '니다' in item['text']), None)"
   ]
  },
  {
   "cell_type": "code",
   "execution_count": 38,
   "id": "ed0bcc04",
   "metadata": {},
   "outputs": [
    {
     "data": {
      "text/plain": [
       "3"
      ]
     },
     "execution_count": 38,
     "metadata": {},
     "output_type": "execute_result"
    }
   ],
   "source": [
    "num"
   ]
  },
  {
   "cell_type": "code",
   "execution_count": 39,
   "id": "4eda9e20",
   "metadata": {},
   "outputs": [
    {
     "data": {
      "text/plain": [
       "9.059"
      ]
     },
     "execution_count": 39,
     "metadata": {},
     "output_type": "execute_result"
    }
   ],
   "source": [
    "sub2[num]['start']"
   ]
  },
  {
   "cell_type": "code",
   "execution_count": 40,
   "id": "ab7ed880",
   "metadata": {},
   "outputs": [
    {
     "data": {
      "text/plain": [
       "10.799"
      ]
     },
     "execution_count": 40,
     "metadata": {},
     "output_type": "execute_result"
    }
   ],
   "source": [
    "sub2[num+1]['start'] #이게 영상의 end_timestamp가 될 것"
   ]
  },
  {
   "cell_type": "code",
   "execution_count": null,
   "id": "eccbbcd1",
   "metadata": {},
   "outputs": [],
   "source": []
  },
  {
   "cell_type": "code",
   "execution_count": 41,
   "id": "f2f8d53c",
   "metadata": {},
   "outputs": [],
   "source": [
    "end3 = (item for item in sub2 if len(item['text']) > 2)"
   ]
  },
  {
   "cell_type": "code",
   "execution_count": 42,
   "id": "1767f540",
   "metadata": {},
   "outputs": [],
   "source": [
    "dict3 = next(end3, False)"
   ]
  },
  {
   "cell_type": "code",
   "execution_count": 43,
   "id": "441b25de",
   "metadata": {},
   "outputs": [],
   "source": [
    "text = dict3['text']"
   ]
  },
  {
   "cell_type": "code",
   "execution_count": 44,
   "id": "4a0e3dc8",
   "metadata": {},
   "outputs": [
    {
     "data": {
      "text/plain": [
       "'내려고 산발적으로 소나기 구름이'"
      ]
     },
     "execution_count": 44,
     "metadata": {},
     "output_type": "execute_result"
    }
   ],
   "source": [
    "text"
   ]
  },
  {
   "cell_type": "code",
   "execution_count": 45,
   "id": "c0ea9bb8",
   "metadata": {},
   "outputs": [],
   "source": [
    "start = dict3['start']"
   ]
  },
  {
   "cell_type": "code",
   "execution_count": 46,
   "id": "25bbe965",
   "metadata": {},
   "outputs": [
    {
     "data": {
      "text/plain": [
       "4.56"
      ]
     },
     "execution_count": 46,
     "metadata": {},
     "output_type": "execute_result"
    }
   ],
   "source": [
    "start #이게 영상의 start 포인트가 될 것"
   ]
  },
  {
   "cell_type": "code",
   "execution_count": null,
   "id": "3992e8c0",
   "metadata": {},
   "outputs": [],
   "source": []
  }
 ],
 "metadata": {
  "kernelspec": {
   "display_name": "Python 3",
   "language": "python",
   "name": "python3"
  },
  "language_info": {
   "codemirror_mode": {
    "name": "ipython",
    "version": 3
   },
   "file_extension": ".py",
   "mimetype": "text/x-python",
   "name": "python",
   "nbconvert_exporter": "python",
   "pygments_lexer": "ipython3",
   "version": "3.8.8"
  }
 },
 "nbformat": 4,
 "nbformat_minor": 5
}
