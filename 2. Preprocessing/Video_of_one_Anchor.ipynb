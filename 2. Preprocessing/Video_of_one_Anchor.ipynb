{
 "cells": [
  {
   "cell_type": "code",
   "execution_count": 1,
   "id": "339fca2d",
   "metadata": {},
   "outputs": [],
   "source": [
    "import os\n",
    "import cv2"
   ]
  },
  {
   "cell_type": "markdown",
   "id": "8ecdab75",
   "metadata": {},
   "source": [
    "## 0. Video_of_one_Anchor 전처리 과정 설명"
   ]
  },
  {
   "cell_type": "code",
   "execution_count": 2,
   "id": "33973465",
   "metadata": {},
   "outputs": [],
   "source": [
    "# 1. face detection이 2명 이상 되었을 때 drop out시키기\n",
    "# -> 1-1. 영상 첫 장면을 사진 변환하기 \n",
    "# -> 1-2. 첫 장면에서부터 얼굴 2개가 검출될 경우(인물 배경 뉴스)에는 영상 편집에서 아예 제외 \n",
    "# 2. 처음에 나온 긴 침묵을 기준으로 영상 모두 자르기\n",
    "# 3. 얼굴 2명이 나온 경우에 영상 자르기\n",
    "\n",
    "# 1-1번에서 제외된 영상은 stt 기준으로 전처리 (주로 정치인 관련 영상들)\n",
    "# ->'기자'라는 단어가 처음으로 언급되는 시점에 영상 자르기 \n",
    "# (ex. OOO 기자 연결하겠습니다.)\n",
    "\n",
    "\n",
    "# [Git readmemd에 올려뒀던 전처리 방법]\n",
    "# face detection이 2명 이상 되었을 때 -> drop out\n",
    "# 긴 침묵 (video_segment)을 기준으로 crop\n",
    "# 만약 2로 잘 잘리지 않는다면, stt 사용 고려"
   ]
  },
  {
   "cell_type": "markdown",
   "id": "9911d183",
   "metadata": {},
   "source": [
    "## 1-1. 영상 첫 장면을 사진으로 변환하기"
   ]
  },
  {
   "cell_type": "code",
   "execution_count": 3,
   "id": "05de8873",
   "metadata": {},
   "outputs": [
    {
     "name": "stdout",
     "output_type": "stream",
     "text": [
      "['readnaversid1750oid448aid0000195268.mp4', 'readnaversid1750oid448aid0000195576.mp4', 'readnaversid1750oid448aid0000196603.mp4', 'video.mp4']\n"
     ]
    }
   ],
   "source": [
    "# 영상들 리스트로 만들기\n",
    "MOV_Directory = './MOV'\n",
    "MOV_List = os.listdir(MOV_Directory)\n",
    "print(MOV_List)"
   ]
  },
  {
   "cell_type": "code",
   "execution_count": 4,
   "id": "a19fcd82",
   "metadata": {},
   "outputs": [],
   "source": [
    "i = 0\n",
    "\n",
    "for MOV in MOV_List:\n",
    "    MOV_name = MOV_Directory + '/' + MOV\n",
    "    video = cv2.VideoCapture(MOV_name) #video name change\n",
    "    ret, frame = video.read()\n",
    "    frame[0]\n",
    "    cv2.imwrite(\"./First_scene/Picture%d.jpg\" %i, frame) # [필수] 디렉토리 재설정\n",
    "    video.release() \n",
    "    i += 1"
   ]
  },
  {
   "cell_type": "markdown",
   "id": "d79ca966",
   "metadata": {},
   "source": [
    "## 1-2. 첫 장면에서부터 얼굴 2개가 검출될 경우 : 영상 편집에서 아예 제외 (제외된 케이스들은 STT로 처리)"
   ]
  },
  {
   "cell_type": "code",
   "execution_count": 5,
   "id": "6ae186ed",
   "metadata": {},
   "outputs": [
    {
     "name": "stdout",
     "output_type": "stream",
     "text": [
      "['Picture0.jpg', 'Picture1.jpg', 'Picture2.jpg', 'Picture3.jpg']\n"
     ]
    }
   ],
   "source": [
    "First_img_Directory = './First_scene'\n",
    "First_img_List = os.listdir(First_img_Directory)\n",
    "\n",
    "print(First_img_List)"
   ]
  },
  {
   "cell_type": "code",
   "execution_count": 6,
   "id": "fd54bfaf",
   "metadata": {
    "scrolled": true
   },
   "outputs": [],
   "source": [
    "# 가중치 파일 경로\n",
    "cascade_filename = 'haarcascade_frontalface_alt.xml'\n",
    "# 모델 불러오기\n",
    "cascade = cv2.CascadeClassifier(cascade_filename)"
   ]
  },
  {
   "cell_type": "code",
   "execution_count": 7,
   "id": "7a0b4478",
   "metadata": {
    "scrolled": true
   },
   "outputs": [
    {
     "name": "stdout",
     "output_type": "stream",
     "text": [
      "[2, 3]\n"
     ]
    }
   ],
   "source": [
    "# 얼굴 검출 결과값 저장하는 리스트\n",
    "results_list = []\n",
    "\n",
    "# 처리하지 말아야 하는 동영상 index 저장하는 리스트\n",
    "not_processing = []\n",
    "\n",
    "# 얼굴 인식\n",
    "for img in First_img_List:\n",
    "    First_img_name = First_img_Directory + '/' + img\n",
    "    First_img = cv2.imread(First_img_name)\n",
    "    \n",
    "    # 영상 압축\n",
    "    img = cv2.resize(First_img,dsize=None,fx=1.0,fy=1.0)\n",
    "    # 그레이 스케일 변환\n",
    "    gray = cv2.cvtColor(img, cv2.COLOR_BGR2GRAY) \n",
    "    # cascade 얼굴 탐지 알고리즘 \n",
    "    results = cascade.detectMultiScale(gray,            # 입력 이미지\n",
    "                                       scaleFactor= 2,# 이미지 피라미드 스케일 factor\n",
    "                                       minNeighbors=3,  # 인접 객체 최소 거리 픽셀\n",
    "                                       minSize=(20,20)  # 탐지 객체 최소 크기\n",
    "                                       )        \n",
    "    \n",
    "    results_list.append(results)\n",
    "\n",
    "for i in range(len(results_list)):\n",
    "    if len(results_list[i]) >= 2:\n",
    "        not_processing.append(i)\n",
    "        \n",
    "# STT 사용해서 전처리해야 하는 영상들 index\n",
    "print(not_processing)\n"
   ]
  },
  {
   "cell_type": "markdown",
   "id": "01927d46",
   "metadata": {},
   "source": [
    "## 1-3. STT 없이 처리 가능한 동영상 리스트 추출"
   ]
  },
  {
   "cell_type": "code",
   "execution_count": 8,
   "id": "a0c33c66",
   "metadata": {},
   "outputs": [
    {
     "name": "stdout",
     "output_type": "stream",
     "text": [
      "{0: 'readnaversid1750oid448aid0000195268.mp4', 1: 'readnaversid1750oid448aid0000195576.mp4'}\n"
     ]
    },
    {
     "data": {
      "text/plain": [
       "[0, 1]"
      ]
     },
     "execution_count": 8,
     "metadata": {},
     "output_type": "execute_result"
    }
   ],
   "source": [
    "# STT 없이 처리 가능한 동영상 index 추출\n",
    "need_idx = {}\n",
    "for i in range(len(MOV_List)):\n",
    "    need_idx[i] = MOV_List[i]\n",
    "\n",
    "for i in not_processing:\n",
    "    del need_idx[i]\n",
    "        \n",
    "print(need_idx)\n",
    "need_idx = list(need_idx)\n",
    "\n",
    "need_idx"
   ]
  },
  {
   "cell_type": "code",
   "execution_count": 9,
   "id": "604222bf",
   "metadata": {},
   "outputs": [
    {
     "name": "stdout",
     "output_type": "stream",
     "text": [
      "['readnaversid1750oid448aid0000195268.mp4', 'readnaversid1750oid448aid0000195576.mp4']\n"
     ]
    }
   ],
   "source": [
    "# STT 없어도 처리 가능한 동영상 이름 추출\n",
    "need_processing = []\n",
    "for i in need_idx:\n",
    "    need_processing.append(MOV_List[i])\n",
    "    \n",
    "print(need_processing)"
   ]
  },
  {
   "cell_type": "markdown",
   "id": "278fcae3",
   "metadata": {},
   "source": [
    "## 2. 앵커 1명의 얼굴만 나올 때 crop"
   ]
  },
  {
   "cell_type": "code",
   "execution_count": 10,
   "id": "04ec0230",
   "metadata": {
    "scrolled": false
   },
   "outputs": [
    {
     "ename": "error",
     "evalue": "OpenCV(4.5.3) C:\\Users\\runneradmin\\AppData\\Local\\Temp\\pip-req-build-u4kjpz2z\\opencv\\modules\\imgproc\\src\\color.cpp:182: error: (-215:Assertion failed) !_src.empty() in function 'cv::cvtColor'\n",
     "output_type": "error",
     "traceback": [
      "\u001b[1;31m---------------------------------------------------------------------------\u001b[0m",
      "\u001b[1;31merror\u001b[0m                                     Traceback (most recent call last)",
      "\u001b[1;32m<ipython-input-10-2c2c61c9892c>\u001b[0m in \u001b[0;36m<module>\u001b[1;34m\u001b[0m\n\u001b[0;32m     31\u001b[0m \u001b[1;33m\u001b[0m\u001b[0m\n\u001b[0;32m     32\u001b[0m         \u001b[1;31m# 그레이 스케일 변환\u001b[0m\u001b[1;33m\u001b[0m\u001b[1;33m\u001b[0m\u001b[1;33m\u001b[0m\u001b[0m\n\u001b[1;32m---> 33\u001b[1;33m         \u001b[0mgray\u001b[0m \u001b[1;33m=\u001b[0m \u001b[0mcv2\u001b[0m\u001b[1;33m.\u001b[0m\u001b[0mcvtColor\u001b[0m\u001b[1;33m(\u001b[0m\u001b[0mframe\u001b[0m\u001b[1;33m,\u001b[0m \u001b[0mcv2\u001b[0m\u001b[1;33m.\u001b[0m\u001b[0mCOLOR_BGR2GRAY\u001b[0m\u001b[1;33m)\u001b[0m\u001b[1;33m\u001b[0m\u001b[1;33m\u001b[0m\u001b[0m\n\u001b[0m\u001b[0;32m     34\u001b[0m         \u001b[1;31m# cascade 얼굴 탐지 알고리즘\u001b[0m\u001b[1;33m\u001b[0m\u001b[1;33m\u001b[0m\u001b[1;33m\u001b[0m\u001b[0m\n\u001b[0;32m     35\u001b[0m         results = cascade.detectMultiScale(gray,            # 입력 이미지\n",
      "\u001b[1;31merror\u001b[0m: OpenCV(4.5.3) C:\\Users\\runneradmin\\AppData\\Local\\Temp\\pip-req-build-u4kjpz2z\\opencv\\modules\\imgproc\\src\\color.cpp:182: error: (-215:Assertion failed) !_src.empty() in function 'cv::cvtColor'\n"
     ]
    }
   ],
   "source": [
    "# 가중치 파일 경로\n",
    "# cascade_filename = 'haarcascade_frontalface_alt.xml'\n",
    "# 모델 불러오기\n",
    "# cascade = cv2.CascadeClassifier(cascade_filename)\n",
    "\n",
    "\n",
    "for MOV in need_processing:\n",
    "    MOV_name = MOV_Directory + '/' + MOV\n",
    "    \n",
    "    cap = cv2.VideoCapture(MOV_name)\n",
    "\n",
    "    w = round(cap.get(cv2.CAP_PROP_FRAME_WIDTH))\n",
    "    h = round(cap.get(cv2.CAP_PROP_FRAME_HEIGHT))\n",
    "    fps = cap.get(cv2.CAP_PROP_FPS)\n",
    "\n",
    "    fourcc = cv2.VideoWriter_fourcc(*'DIVX')\n",
    "\n",
    "    delay = round(1000/fps)\n",
    "\n",
    "    i = 0\n",
    "    out = cv2.VideoWriter('./News_Anchor/%s.avi' %MOV, fourcc, fps, (w, h))\n",
    "\n",
    "    if not out.isOpened():\n",
    "        print('File open failed!')\n",
    "        cap.release()\n",
    "        sys.exit()\n",
    "    \n",
    "    while True:\n",
    "        # 캡처 이미지 불러오기\n",
    "        ret, frame = cap.read()\n",
    "    \n",
    "        # 그레이 스케일 변환\n",
    "        gray = cv2.cvtColor(frame, cv2.COLOR_BGR2GRAY) \n",
    "        # cascade 얼굴 탐지 알고리즘 \n",
    "        results = cascade.detectMultiScale(gray,            # 입력 이미지\n",
    "                                            scaleFactor=2,# 이미지 피라미드 스케일 factor\n",
    "                                            minNeighbors=5,  # 인접 객체 최소 거리 픽셀\n",
    "                                            minSize=(30,30)) # 탐지 객체 최소 크기  \n",
    "        \n",
    "        for box in results:\n",
    "            x, y, w, h = box\n",
    "            cv2.rectangle(frame, (x,y), (x+w, y+h), (255,255,255), thickness=2)\n",
    "            \n",
    "        # cv2.imshow('facenet', frame)\n",
    "        \n",
    "        # 앵커 1명이 아닐 경우에 영상 자르기\n",
    "        if len(results) != 1:\n",
    "            out.write(frame)\n",
    "\n",
    "        #  cap.release()\n",
    "            out.release()\n",
    "        #   cv2.destroyAllWindows()\n",
    "\n",
    "    i += 1\n",
    "            \n",
    "                    \n",
    "# [문제점 발생]\n",
    "# 1명의 얼굴을 잘 인식하다가도 0명 또는 2명이라고 인식하는 사태가 발생하였음.\n",
    "# -> 영상을 자르는 기준이 애매모호해짐... \n",
    "# -> 어떤 식으로 해야 앵커만 나오도록 영상을 잘 자를 수 있을까?\n",
    "# -> 현재 상태로는 detectMultiScale 인수 조정을 고려하고 있음.\n",
    "\n",
    "# 분명히 앵커 1명이 말하고 있는 상황임에도 불구하고...  \n",
    "# 가끔 극초반에서부터 0명이라고 인식해서 \n",
    "# 1초만에 영상이 잘리거나 아예 값이 없는 empty 오류가 발생하기도 함.\n",
    "\n",
    "# 노트북으로 작업하면 컴퓨터 엄청 뜨거워짐. \n",
    "# -> 데스크탑으로 재작업 시도해야겠음...!"
   ]
  }
 ],
 "metadata": {
  "kernelspec": {
   "display_name": "Python 3",
   "language": "python",
   "name": "python3"
  },
  "language_info": {
   "codemirror_mode": {
    "name": "ipython",
    "version": 3
   },
   "file_extension": ".py",
   "mimetype": "text/x-python",
   "name": "python",
   "nbconvert_exporter": "python",
   "pygments_lexer": "ipython3",
   "version": "3.8.8"
  }
 },
 "nbformat": 4,
 "nbformat_minor": 5
}
