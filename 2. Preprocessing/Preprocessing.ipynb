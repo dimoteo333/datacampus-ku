{
 "cells": [
  {
   "cell_type": "code",
   "execution_count": null,
   "metadata": {},
   "outputs": [],
   "source": [
    "[전처리 순서 (미완)]\n",
    "\n",
    "1. 다운받은 영상 데이터 불러오기\n",
    "2. 영상 데이터(.mp4)를 음성 데이터(.wav)로 전환시킨 후에 따로 저장하기 -> data_1\n",
    "3. data_1 파일 텍스트로 변환시켜서 단어 단위로 컷팅하고, 컷팅한 위치를 리스트 안에 저장하기\n",
    "4. 영상 데이터에서 소리 제거한 후에 따로 저장하기 -> data_2\n",
    "5. 음성 컷팅 위치와 data2를 대응시킨 후에 그 부분을 컷팅하여 따로 저장하기\n",
    "    -> data_3\n",
    "6. data_3 파일에서 하관/입술 부분만 크롭한 형태로 따로 저장하기 -> data_4"
   ]
  },
  {
   "cell_type": "markdown",
   "metadata": {},
   "source": [
    "## 1. 영상 데이터 불러오기"
   ]
  },
  {
   "cell_type": "code",
   "execution_count": 1,
   "metadata": {},
   "outputs": [],
   "source": [
    "import os\n",
    "import re"
   ]
  },
  {
   "cell_type": "code",
   "execution_count": 2,
   "metadata": {},
   "outputs": [],
   "source": [
    "# [필수] 파일 주소 재설정 \n",
    "MOV_Directory = '../1. Crawling/MOV' \n",
    "VideoList = os.listdir(MOV_Directory)"
   ]
  },
  {
   "cell_type": "markdown",
   "metadata": {},
   "source": [
    "## 2. 영상 파일을 음성 파일로 전환"
   ]
  },
  {
   "cell_type": "code",
   "execution_count": 3,
   "metadata": {},
   "outputs": [],
   "source": [
    "# !pip install moviepy\n",
    "import moviepy.editor as mp\n",
    "from pydub import AudioSegment"
   ]
  },
  {
   "cell_type": "code",
   "execution_count": 4,
   "metadata": {
    "collapsed": true
   },
   "outputs": [
    {
     "name": "stderr",
     "output_type": "stream",
     "text": [
      "chunk:   3%|██                                                            | 86/2550 [00:00<00:02, 859.81it/s, now=None]"
     ]
    },
    {
     "name": "stdout",
     "output_type": "stream",
     "text": [
      "MoviePy - Writing audio in ./WAV_streo/readnaversid1355oid056aid0000003463.wav\n"
     ]
    },
    {
     "name": "stderr",
     "output_type": "stream",
     "text": [
      "                                                                                                                       \r"
     ]
    },
    {
     "name": "stdout",
     "output_type": "stream",
     "text": [
      "MoviePy - Done.\n"
     ]
    },
    {
     "name": "stderr",
     "output_type": "stream",
     "text": [
      "chunk:   2%|█▎                                                            | 62/2868 [00:00<00:04, 619.87it/s, now=None]"
     ]
    },
    {
     "name": "stdout",
     "output_type": "stream",
     "text": [
      "MoviePy - Writing audio in ./WAV_streo/readnaversid1355oid056aid0000003464.wav\n"
     ]
    },
    {
     "name": "stderr",
     "output_type": "stream",
     "text": [
      "                                                                                                                       \r"
     ]
    },
    {
     "name": "stdout",
     "output_type": "stream",
     "text": [
      "MoviePy - Done.\n"
     ]
    },
    {
     "name": "stderr",
     "output_type": "stream",
     "text": [
      "chunk:   3%|█▋                                                            | 88/3178 [00:00<00:03, 879.81it/s, now=None]"
     ]
    },
    {
     "name": "stdout",
     "output_type": "stream",
     "text": [
      "MoviePy - Writing audio in ./WAV_streo/readnaversid1355oid056aid0000003465.wav\n"
     ]
    },
    {
     "name": "stderr",
     "output_type": "stream",
     "text": [
      "                                                                                                                       \r"
     ]
    },
    {
     "name": "stdout",
     "output_type": "stream",
     "text": [
      "MoviePy - Done.\n"
     ]
    },
    {
     "name": "stderr",
     "output_type": "stream",
     "text": [
      "chunk:   4%|██▏                                                           | 74/2087 [00:00<00:02, 739.84it/s, now=None]"
     ]
    },
    {
     "name": "stdout",
     "output_type": "stream",
     "text": [
      "MoviePy - Writing audio in ./WAV_streo/readnaversid1355oid056aid0000003466.wav\n"
     ]
    },
    {
     "name": "stderr",
     "output_type": "stream",
     "text": [
      "                                                                                                                       \r"
     ]
    },
    {
     "name": "stdout",
     "output_type": "stream",
     "text": [
      "MoviePy - Done.\n"
     ]
    },
    {
     "name": "stderr",
     "output_type": "stream",
     "text": [
      "chunk:   3%|█▋                                                            | 66/2508 [00:00<00:03, 659.86it/s, now=None]"
     ]
    },
    {
     "name": "stdout",
     "output_type": "stream",
     "text": [
      "MoviePy - Writing audio in ./WAV_streo/readnaversid1355oid056aid0000003467.wav\n"
     ]
    },
    {
     "name": "stderr",
     "output_type": "stream",
     "text": [
      "                                                                                                                       \r"
     ]
    },
    {
     "name": "stdout",
     "output_type": "stream",
     "text": [
      "MoviePy - Done.\n"
     ]
    },
    {
     "name": "stderr",
     "output_type": "stream",
     "text": [
      "chunk:   6%|███▋                                                          | 95/1573 [00:00<00:01, 943.01it/s, now=None]"
     ]
    },
    {
     "name": "stdout",
     "output_type": "stream",
     "text": [
      "MoviePy - Writing audio in ./WAV_streo/readnaversid1355oid056aid0000003468.wav\n"
     ]
    },
    {
     "name": "stderr",
     "output_type": "stream",
     "text": [
      "                                                                                                                       \r"
     ]
    },
    {
     "name": "stdout",
     "output_type": "stream",
     "text": [
      "MoviePy - Done.\n"
     ]
    },
    {
     "name": "stderr",
     "output_type": "stream",
     "text": [
      "\r",
      "chunk:   0%|                                                                        | 0/3178 [00:00<?, ?it/s, now=None]"
     ]
    },
    {
     "name": "stdout",
     "output_type": "stream",
     "text": [
      "MoviePy - Writing audio in ./WAV_streo/readnaversid1355oid056aid0000003469.wav\n"
     ]
    },
    {
     "ename": "KeyboardInterrupt",
     "evalue": "",
     "output_type": "error",
     "traceback": [
      "\u001b[1;31m---------------------------------------------------------------------------\u001b[0m",
      "\u001b[1;31mKeyboardInterrupt\u001b[0m                         Traceback (most recent call last)",
      "\u001b[1;32m<ipython-input-4-6a505385b0fb>\u001b[0m in \u001b[0;36m<module>\u001b[1;34m\u001b[0m\n\u001b[0;32m      8\u001b[0m     \u001b[0msound_file_name\u001b[0m \u001b[1;33m=\u001b[0m \u001b[0mre\u001b[0m\u001b[1;33m.\u001b[0m\u001b[0msub\u001b[0m\u001b[1;33m(\u001b[0m\u001b[0mpattern\u001b[0m\u001b[1;33m=\u001b[0m\u001b[1;34m'mp4'\u001b[0m\u001b[1;33m,\u001b[0m \u001b[0mrepl\u001b[0m\u001b[1;33m=\u001b[0m\u001b[1;34m'wav'\u001b[0m\u001b[1;33m,\u001b[0m \u001b[0mstring\u001b[0m\u001b[1;33m=\u001b[0m\u001b[0mi\u001b[0m\u001b[1;33m)\u001b[0m\u001b[1;33m\u001b[0m\u001b[1;33m\u001b[0m\u001b[0m\n\u001b[0;32m      9\u001b[0m     \u001b[0msound_file_name\u001b[0m \u001b[1;33m=\u001b[0m \u001b[0mWAV_Directory\u001b[0m \u001b[1;33m+\u001b[0m \u001b[1;34m'/'\u001b[0m \u001b[1;33m+\u001b[0m \u001b[0msound_file_name\u001b[0m\u001b[1;33m\u001b[0m\u001b[1;33m\u001b[0m\u001b[0m\n\u001b[1;32m---> 10\u001b[1;33m     \u001b[0mclip\u001b[0m\u001b[1;33m.\u001b[0m\u001b[0maudio\u001b[0m\u001b[1;33m.\u001b[0m\u001b[0mwrite_audiofile\u001b[0m\u001b[1;33m(\u001b[0m\u001b[0msound_file_name\u001b[0m\u001b[1;33m)\u001b[0m\u001b[1;33m\u001b[0m\u001b[1;33m\u001b[0m\u001b[0m\n\u001b[0m",
      "\u001b[1;32m<C:\\Users\\Family\\anaconda3\\lib\\site-packages\\decorator.py:decorator-gen-171>\u001b[0m in \u001b[0;36mwrite_audiofile\u001b[1;34m(self, filename, fps, nbytes, buffersize, codec, bitrate, ffmpeg_params, write_logfile, verbose, logger)\u001b[0m\n",
      "\u001b[1;32m~\\anaconda3\\lib\\site-packages\\moviepy\\decorators.py\u001b[0m in \u001b[0;36mrequires_duration\u001b[1;34m(f, clip, *a, **k)\u001b[0m\n\u001b[0;32m     52\u001b[0m         \u001b[1;32mraise\u001b[0m \u001b[0mValueError\u001b[0m\u001b[1;33m(\u001b[0m\u001b[1;34m\"Attribute 'duration' not set\"\u001b[0m\u001b[1;33m)\u001b[0m\u001b[1;33m\u001b[0m\u001b[1;33m\u001b[0m\u001b[0m\n\u001b[0;32m     53\u001b[0m     \u001b[1;32melse\u001b[0m\u001b[1;33m:\u001b[0m\u001b[1;33m\u001b[0m\u001b[1;33m\u001b[0m\u001b[0m\n\u001b[1;32m---> 54\u001b[1;33m         \u001b[1;32mreturn\u001b[0m \u001b[0mf\u001b[0m\u001b[1;33m(\u001b[0m\u001b[0mclip\u001b[0m\u001b[1;33m,\u001b[0m \u001b[1;33m*\u001b[0m\u001b[0ma\u001b[0m\u001b[1;33m,\u001b[0m \u001b[1;33m**\u001b[0m\u001b[0mk\u001b[0m\u001b[1;33m)\u001b[0m\u001b[1;33m\u001b[0m\u001b[1;33m\u001b[0m\u001b[0m\n\u001b[0m\u001b[0;32m     55\u001b[0m \u001b[1;33m\u001b[0m\u001b[0m\n\u001b[0;32m     56\u001b[0m \u001b[1;33m\u001b[0m\u001b[0m\n",
      "\u001b[1;32m~\\anaconda3\\lib\\site-packages\\moviepy\\audio\\AudioClip.py\u001b[0m in \u001b[0;36mwrite_audiofile\u001b[1;34m(self, filename, fps, nbytes, buffersize, codec, bitrate, ffmpeg_params, write_logfile, verbose, logger)\u001b[0m\n\u001b[0;32m    208\u001b[0m                                  \u001b[0mwrite_logfile\u001b[0m\u001b[1;33m=\u001b[0m\u001b[0mwrite_logfile\u001b[0m\u001b[1;33m,\u001b[0m \u001b[0mverbose\u001b[0m\u001b[1;33m=\u001b[0m\u001b[0mverbose\u001b[0m\u001b[1;33m,\u001b[0m\u001b[1;33m\u001b[0m\u001b[1;33m\u001b[0m\u001b[0m\n\u001b[0;32m    209\u001b[0m                                  \u001b[0mffmpeg_params\u001b[0m\u001b[1;33m=\u001b[0m\u001b[0mffmpeg_params\u001b[0m\u001b[1;33m,\u001b[0m\u001b[1;33m\u001b[0m\u001b[1;33m\u001b[0m\u001b[0m\n\u001b[1;32m--> 210\u001b[1;33m                                  logger=logger)\n\u001b[0m\u001b[0;32m    211\u001b[0m \u001b[1;33m\u001b[0m\u001b[0m\n\u001b[0;32m    212\u001b[0m \u001b[1;33m\u001b[0m\u001b[0m\n",
      "\u001b[1;32m<C:\\Users\\Family\\anaconda3\\lib\\site-packages\\decorator.py:decorator-gen-135>\u001b[0m in \u001b[0;36mffmpeg_audiowrite\u001b[1;34m(clip, filename, fps, nbytes, buffersize, codec, bitrate, write_logfile, verbose, ffmpeg_params, logger)\u001b[0m\n",
      "\u001b[1;32m~\\anaconda3\\lib\\site-packages\\moviepy\\decorators.py\u001b[0m in \u001b[0;36mrequires_duration\u001b[1;34m(f, clip, *a, **k)\u001b[0m\n\u001b[0;32m     52\u001b[0m         \u001b[1;32mraise\u001b[0m \u001b[0mValueError\u001b[0m\u001b[1;33m(\u001b[0m\u001b[1;34m\"Attribute 'duration' not set\"\u001b[0m\u001b[1;33m)\u001b[0m\u001b[1;33m\u001b[0m\u001b[1;33m\u001b[0m\u001b[0m\n\u001b[0;32m     53\u001b[0m     \u001b[1;32melse\u001b[0m\u001b[1;33m:\u001b[0m\u001b[1;33m\u001b[0m\u001b[1;33m\u001b[0m\u001b[0m\n\u001b[1;32m---> 54\u001b[1;33m         \u001b[1;32mreturn\u001b[0m \u001b[0mf\u001b[0m\u001b[1;33m(\u001b[0m\u001b[0mclip\u001b[0m\u001b[1;33m,\u001b[0m \u001b[1;33m*\u001b[0m\u001b[0ma\u001b[0m\u001b[1;33m,\u001b[0m \u001b[1;33m**\u001b[0m\u001b[0mk\u001b[0m\u001b[1;33m)\u001b[0m\u001b[1;33m\u001b[0m\u001b[1;33m\u001b[0m\u001b[0m\n\u001b[0m\u001b[0;32m     55\u001b[0m \u001b[1;33m\u001b[0m\u001b[0m\n\u001b[0;32m     56\u001b[0m \u001b[1;33m\u001b[0m\u001b[0m\n",
      "\u001b[1;32m~\\anaconda3\\lib\\site-packages\\moviepy\\audio\\io\\ffmpeg_audiowriter.py\u001b[0m in \u001b[0;36mffmpeg_audiowrite\u001b[1;34m(clip, filename, fps, nbytes, buffersize, codec, bitrate, write_logfile, verbose, ffmpeg_params, logger)\u001b[0m\n\u001b[0;32m    168\u001b[0m                                   \u001b[0mnbytes\u001b[0m\u001b[1;33m=\u001b[0m\u001b[0mnbytes\u001b[0m\u001b[1;33m,\u001b[0m \u001b[0mfps\u001b[0m\u001b[1;33m=\u001b[0m\u001b[0mfps\u001b[0m\u001b[1;33m,\u001b[0m\u001b[1;33m\u001b[0m\u001b[1;33m\u001b[0m\u001b[0m\n\u001b[0;32m    169\u001b[0m                                   logger=logger):\n\u001b[1;32m--> 170\u001b[1;33m         \u001b[0mwriter\u001b[0m\u001b[1;33m.\u001b[0m\u001b[0mwrite_frames\u001b[0m\u001b[1;33m(\u001b[0m\u001b[0mchunk\u001b[0m\u001b[1;33m)\u001b[0m\u001b[1;33m\u001b[0m\u001b[1;33m\u001b[0m\u001b[0m\n\u001b[0m\u001b[0;32m    171\u001b[0m \u001b[1;33m\u001b[0m\u001b[0m\n\u001b[0;32m    172\u001b[0m     \u001b[0mwriter\u001b[0m\u001b[1;33m.\u001b[0m\u001b[0mclose\u001b[0m\u001b[1;33m(\u001b[0m\u001b[1;33m)\u001b[0m\u001b[1;33m\u001b[0m\u001b[1;33m\u001b[0m\u001b[0m\n",
      "\u001b[1;32m~\\anaconda3\\lib\\site-packages\\moviepy\\audio\\io\\ffmpeg_audiowriter.py\u001b[0m in \u001b[0;36mwrite_frames\u001b[1;34m(self, frames_array)\u001b[0m\n\u001b[0;32m     72\u001b[0m         \u001b[1;32mtry\u001b[0m\u001b[1;33m:\u001b[0m\u001b[1;33m\u001b[0m\u001b[1;33m\u001b[0m\u001b[0m\n\u001b[0;32m     73\u001b[0m             \u001b[1;32mtry\u001b[0m\u001b[1;33m:\u001b[0m\u001b[1;33m\u001b[0m\u001b[1;33m\u001b[0m\u001b[0m\n\u001b[1;32m---> 74\u001b[1;33m                 \u001b[0mself\u001b[0m\u001b[1;33m.\u001b[0m\u001b[0mproc\u001b[0m\u001b[1;33m.\u001b[0m\u001b[0mstdin\u001b[0m\u001b[1;33m.\u001b[0m\u001b[0mwrite\u001b[0m\u001b[1;33m(\u001b[0m\u001b[0mframes_array\u001b[0m\u001b[1;33m.\u001b[0m\u001b[0mtobytes\u001b[0m\u001b[1;33m(\u001b[0m\u001b[1;33m)\u001b[0m\u001b[1;33m)\u001b[0m\u001b[1;33m\u001b[0m\u001b[1;33m\u001b[0m\u001b[0m\n\u001b[0m\u001b[0;32m     75\u001b[0m             \u001b[1;32mexcept\u001b[0m \u001b[0mNameError\u001b[0m\u001b[1;33m:\u001b[0m\u001b[1;33m\u001b[0m\u001b[1;33m\u001b[0m\u001b[0m\n\u001b[0;32m     76\u001b[0m                 \u001b[0mself\u001b[0m\u001b[1;33m.\u001b[0m\u001b[0mproc\u001b[0m\u001b[1;33m.\u001b[0m\u001b[0mstdin\u001b[0m\u001b[1;33m.\u001b[0m\u001b[0mwrite\u001b[0m\u001b[1;33m(\u001b[0m\u001b[0mframes_array\u001b[0m\u001b[1;33m.\u001b[0m\u001b[0mtostring\u001b[0m\u001b[1;33m(\u001b[0m\u001b[1;33m)\u001b[0m\u001b[1;33m)\u001b[0m\u001b[1;33m\u001b[0m\u001b[1;33m\u001b[0m\u001b[0m\n",
      "\u001b[1;31mKeyboardInterrupt\u001b[0m: "
     ]
    }
   ],
   "source": [
    "# [필수] 파일 주소 재설정 \n",
    "WAV_Directory = './WAV_streo' \n",
    "\n",
    "for i in VideoList:\n",
    "    i2 = MOV_Directory + '/' + i\n",
    "    clip = mp.VideoFileClip(i2)\n",
    "    \n",
    "    sound_file_name = re.sub(pattern='mp4', repl='wav', string=i)\n",
    "    sound_file_name = WAV_Directory + '/' + sound_file_name\n",
    "    clip.audio.write_audiofile(sound_file_name)"
   ]
  },
  {
   "cell_type": "code",
   "execution_count": 5,
   "metadata": {},
   "outputs": [],
   "source": [
    "WAV_stereo_List = os.listdir(WAV_Directory)\n",
    "\n",
    "for i in WAV_stereo_List:\n",
    "    i2 = WAV_Directory + '/' + i\n",
    "    sound = AudioSegment.from_wav(i2)\n",
    "    sound = sound.set_channels(1)\n",
    "    \n",
    "    mono_file_name = './WAV_mono/' + i  \n",
    "    sound.export(mono_file_name, format=\"wav\")"
   ]
  },
  {
   "cell_type": "markdown",
   "metadata": {},
   "source": [
    "## 3. 음성 데이터 : 단어 기준 Tokenizing 시간 좌표 구하기"
   ]
  },
  {
   "cell_type": "code",
   "execution_count": 6,
   "metadata": {
    "scrolled": true
   },
   "outputs": [],
   "source": [
    "# 참고 링크 : https://cloud.google.com/speech-to-text/docs/quickstart-client-libraries#client-libraries-install-python\n",
    "\n",
    "from google.cloud import speech"
   ]
  },
  {
   "cell_type": "code",
   "execution_count": 7,
   "metadata": {},
   "outputs": [],
   "source": [
    "def transcribe_gcs(gcs_uri):\n",
    "    \"\"\"Asynchronously transcribes the audio file specified by the gcs_uri.\"\"\"\n",
    "    from google.cloud import speech\n",
    "\n",
    "    client = speech.SpeechClient()\n",
    "\n",
    "    audio = speech.RecognitionAudio(uri=gcs_uri)\n",
    "    config = speech.RecognitionConfig(\n",
    "        encoding=speech.RecognitionConfig.AudioEncoding.LINEAR16,\n",
    "        sample_rate_hertz=44100,\n",
    "        language_code=\"ko-KR\",\n",
    "        enable_word_time_offsets=True\n",
    "    )\n",
    "\n",
    "    operation = client.long_running_recognize(config=config, audio=audio)\n",
    "\n",
    "    print(\"Waiting for operation to complete...\")\n",
    "    result = operation.result(timeout=90)\n",
    "\n",
    "    for result in result.results:\n",
    "        alternative = result.alternatives[0]\n",
    "        print(\"Transcript: {}\".format(alternative.transcript))\n",
    "        print(\"Confidence: {}\".format(alternative.confidence))\n",
    "\n",
    "        for word_info in alternative.words:\n",
    "            word = word_info.word\n",
    "            start_time = word_info.start_time\n",
    "            end_time = word_info.end_time\n",
    "\n",
    "            print(\n",
    "                f\"Word: {word}, start_time: {start_time.total_seconds()}, end_time: {end_time.total_seconds()}\"\n",
    "            )"
   ]
  },
  {
   "cell_type": "code",
   "execution_count": 73,
   "metadata": {},
   "outputs": [
    {
     "name": "stdout",
     "output_type": "stream",
     "text": [
      "Waiting for operation to complete...\n",
      "Transcript: 왜 이런 증시 폭락이 왔을까요 미국 등 선진국들이 돈 풀기를 끝내는 이른바 출구전략을 쓰고 있기 때문입니다 일하던 출구전략이 본격화되면 세계 경제 아시아와 우리 경제에 큰 충격에 올 것이라는게 더 큰 문제입니다이어서 2홀 기자가 분석했습니다\n",
      "Confidence: 0.8607030510902405\n",
      "Word: 왜, start_time: 0.0, end_time: 1.1\n",
      "Word: 이런, start_time: 1.1, end_time: 1.4\n",
      "Word: 증시, start_time: 1.4, end_time: 1.8\n",
      "Word: 폭락, start_time: 1.8, end_time: 2.2\n",
      "Word: 이, start_time: 2.2, end_time: 2.3\n",
      "Word: 왔을까요, start_time: 2.3, end_time: 2.9\n",
      "Word: 미국, start_time: 2.9, end_time: 4.0\n",
      "Word: 등, start_time: 4.0, end_time: 4.2\n",
      "Word: 선진국들이, start_time: 4.2, end_time: 5.0\n",
      "Word: 돈, start_time: 5.0, end_time: 5.4\n",
      "Word: 풀기를, start_time: 5.4, end_time: 5.7\n",
      "Word: 끝내는, start_time: 5.7, end_time: 6.1\n",
      "Word: 이른바, start_time: 6.1, end_time: 6.4\n",
      "Word: 출구전략을, start_time: 6.4, end_time: 7.2\n",
      "Word: 쓰고, start_time: 7.2, end_time: 7.5\n",
      "Word: 있기, start_time: 7.5, end_time: 7.6\n",
      "Word: 때문입니다, start_time: 7.6, end_time: 8.0\n",
      "Word: 일하던, start_time: 8.0, end_time: 9.1\n",
      "Word: 출구전략이, start_time: 9.1, end_time: 9.8\n",
      "Word: 본격화되면, start_time: 9.8, end_time: 10.7\n",
      "Word: 세계, start_time: 10.7, end_time: 11.3\n",
      "Word: 경제, start_time: 11.3, end_time: 11.6\n",
      "Word: 아시아와, start_time: 11.6, end_time: 13.0\n",
      "Word: 우리, start_time: 13.0, end_time: 13.3\n",
      "Word: 경제에, start_time: 13.3, end_time: 13.8\n",
      "Word: 큰, start_time: 13.8, end_time: 13.9\n",
      "Word: 충격에, start_time: 13.9, end_time: 14.6\n",
      "Word: 올, start_time: 14.6, end_time: 14.7\n",
      "Word: 것이라는, start_time: 14.7, end_time: 15.1\n",
      "Word: 게, start_time: 15.1, end_time: 15.3\n",
      "Word: 더, start_time: 15.3, end_time: 15.8\n",
      "Word: 큰, start_time: 15.8, end_time: 16.1\n",
      "Word: 문제입니다, start_time: 16.1, end_time: 16.5\n",
      "Word: 이어서, start_time: 16.5, end_time: 17.4\n",
      "Word: 2홀, start_time: 17.4, end_time: 17.8\n",
      "Word: 기자가, start_time: 17.8, end_time: 18.2\n",
      "Word: 분석했습니다, start_time: 18.2, end_time: 18.9\n",
      "Transcript:  지난 2008년 글로벌 금융위기 이후 구원투수는 미국을 비롯한 선진국의 무제한돈 풀기 양적완화정책입니다 가끔 중앙은행이 지금 콘돔만 12조 달러 우리 돈으로 일경 3500원으로 추가 됩니다 그런데 최근 미국중앙은행 격인 frb 회의에서 그만하는 이름만 출구전략 가능성이 제기된 것으로 확인됩니다 이르면 오늘 18일 회사에서 일을 구체화할 가능성도 제기되고 있습니다 이렇게 되면 풀린 돈으로 우리나라 등신 영국 주식을 봤던 외국 투자자들이 현금화 없습니다 실제로 최근 타이완에서 21억달러 인도네시아에서 19억달러 등 신흥동 투자자금이 급격히 빠져나갔고 최근 우리 등수에 하락과 아시아지구 충격도 바로 이런 연장선상이라고 겁니다 지금 네가 상승할 수 있기 때문에 그 과정에서 이제 불안감이 커질 수 있고 현금비중을 확보하는 흐름들이 나타날 수 있다\n",
      "Confidence: 0.9115021228790283\n",
      "Word: 지난, start_time: 21.5, end_time: 22.2\n",
      "Word: 2008년, start_time: 22.2, end_time: 22.9\n",
      "Word: 글로벌, start_time: 22.9, end_time: 23.1\n",
      "Word: 금융위기, start_time: 23.1, end_time: 23.6\n",
      "Word: 이후, start_time: 23.6, end_time: 23.9\n",
      "Word: 구원투수는, start_time: 23.9, end_time: 25.0\n",
      "Word: 미국을, start_time: 25.0, end_time: 25.6\n",
      "Word: 비롯한, start_time: 25.6, end_time: 25.9\n",
      "Word: 선진국의, start_time: 25.9, end_time: 26.6\n",
      "Word: 무제한돈, start_time: 26.6, end_time: 27.4\n",
      "Word: 풀기, start_time: 27.4, end_time: 27.8\n",
      "Word: 양적완화정책, start_time: 27.8, end_time: 29.0\n",
      "Word: 입니다, start_time: 29.0, end_time: 29.8\n",
      "Word: 가끔, start_time: 29.8, end_time: 30.8\n",
      "Word: 중앙은행이, start_time: 30.8, end_time: 31.4\n",
      "Word: 지금, start_time: 31.4, end_time: 31.8\n",
      "Word: 콘돔만, start_time: 31.8, end_time: 32.6\n",
      "Word: 12조, start_time: 32.6, end_time: 33.1\n",
      "Word: 달러, start_time: 33.1, end_time: 33.4\n",
      "Word: 우리, start_time: 33.4, end_time: 34.0\n",
      "Word: 돈으로, start_time: 34.0, end_time: 34.2\n",
      "Word: 일경, start_time: 34.2, end_time: 34.8\n",
      "Word: 3500원으로, start_time: 34.8, end_time: 36.0\n",
      "Word: 추가, start_time: 36.0, end_time: 36.2\n",
      "Word: 됩니다, start_time: 36.2, end_time: 36.4\n",
      "Word: 그런데, start_time: 36.4, end_time: 37.5\n",
      "Word: 최근, start_time: 37.5, end_time: 37.9\n",
      "Word: 미국중앙은행, start_time: 37.9, end_time: 38.7\n",
      "Word: 격인, start_time: 38.7, end_time: 39.2\n",
      "Word: frb, start_time: 39.2, end_time: 39.7\n",
      "Word: 회의에서, start_time: 39.7, end_time: 40.1\n",
      "Word: 그만하는, start_time: 40.1, end_time: 42.0\n",
      "Word: 이름만, start_time: 42.0, end_time: 42.5\n",
      "Word: 출구전략, start_time: 42.5, end_time: 43.1\n",
      "Word: 가능성이, start_time: 43.1, end_time: 43.6\n",
      "Word: 제기된, start_time: 43.6, end_time: 44.1\n",
      "Word: 것으로, start_time: 44.1, end_time: 44.5\n",
      "Word: 확인됩니다, start_time: 44.5, end_time: 45.1\n",
      "Word: 이르면, start_time: 45.1, end_time: 46.6\n",
      "Word: 오늘, start_time: 46.6, end_time: 46.9\n",
      "Word: 18일, start_time: 46.9, end_time: 47.3\n",
      "Word: 회사에서, start_time: 47.3, end_time: 47.8\n",
      "Word: 일을, start_time: 47.8, end_time: 48.2\n",
      "Word: 구체화할, start_time: 48.2, end_time: 48.7\n",
      "Word: 가능성도, start_time: 48.7, end_time: 49.2\n",
      "Word: 제기되고, start_time: 49.2, end_time: 49.7\n",
      "Word: 있습니다, start_time: 49.7, end_time: 49.8\n",
      "Word: 이렇게, start_time: 49.8, end_time: 50.9\n",
      "Word: 되면, start_time: 50.9, end_time: 51.3\n",
      "Word: 풀린, start_time: 51.3, end_time: 51.7\n",
      "Word: 돈으로, start_time: 51.7, end_time: 52.0\n",
      "Word: 우리나라, start_time: 52.0, end_time: 52.5\n",
      "Word: 등신, start_time: 52.5, end_time: 52.9\n",
      "Word: 영국, start_time: 52.9, end_time: 53.2\n",
      "Word: 주식을, start_time: 53.2, end_time: 53.6\n",
      "Word: 봤던, start_time: 53.6, end_time: 54.0\n",
      "Word: 외국, start_time: 54.0, end_time: 54.4\n",
      "Word: 투자자들이, start_time: 54.4, end_time: 54.9\n",
      "Word: 현금화, start_time: 54.9, end_time: 55.8\n",
      "Word: 없습니다, start_time: 55.8, end_time: 58.4\n",
      "Word: 실제로, start_time: 58.4, end_time: 59.6\n",
      "Word: 최근, start_time: 59.6, end_time: 60.1\n",
      "Word: 타이완에서, start_time: 60.1, end_time: 60.7\n",
      "Word: 21억달러, start_time: 60.7, end_time: 61.3\n",
      "Word: 인도네시아에서, start_time: 61.3, end_time: 62.7\n",
      "Word: 19억달러, start_time: 62.7, end_time: 63.2\n",
      "Word: 등, start_time: 63.2, end_time: 63.6\n",
      "Word: 신흥동, start_time: 63.6, end_time: 64.2\n",
      "Word: 투자자금이, start_time: 64.2, end_time: 64.8\n",
      "Word: 급격히, start_time: 64.8, end_time: 65.4\n",
      "Word: 빠져나갔고, start_time: 65.4, end_time: 66.1\n",
      "Word: 최근, start_time: 66.1, end_time: 67.1\n",
      "Word: 우리, start_time: 67.1, end_time: 67.3\n",
      "Word: 등수에, start_time: 67.3, end_time: 67.6\n",
      "Word: 하락과, start_time: 67.6, end_time: 68.0\n",
      "Word: 아시아지구, start_time: 68.0, end_time: 68.7\n",
      "Word: 충격도, start_time: 68.7, end_time: 69.3\n",
      "Word: 바로, start_time: 69.3, end_time: 70.0\n",
      "Word: 이런, start_time: 70.0, end_time: 70.3\n",
      "Word: 연장선상이라고, start_time: 70.3, end_time: 71.2\n",
      "Word: 겁니다, start_time: 71.2, end_time: 71.7\n",
      "Word: 지금, start_time: 71.7, end_time: 72.4\n",
      "Word: 네가, start_time: 72.4, end_time: 72.8\n",
      "Word: 상승할, start_time: 72.8, end_time: 73.4\n",
      "Word: 수, start_time: 73.4, end_time: 73.4\n",
      "Word: 있기, start_time: 73.4, end_time: 73.8\n",
      "Word: 때문에, start_time: 73.8, end_time: 74.3\n",
      "Word: 그, start_time: 74.3, end_time: 74.8\n",
      "Word: 과정에서, start_time: 74.8, end_time: 75.4\n",
      "Word: 이제, start_time: 75.4, end_time: 75.6\n",
      "Word: 불안감이, start_time: 75.6, end_time: 76.2\n",
      "Word: 커질, start_time: 76.2, end_time: 76.5\n",
      "Word: 수, start_time: 76.5, end_time: 76.6\n",
      "Word: 있고, start_time: 76.6, end_time: 76.9\n",
      "Word: 현금비중을, start_time: 76.9, end_time: 77.9\n",
      "Word: 확보하는, start_time: 77.9, end_time: 78.4\n",
      "Word: 흐름들이, start_time: 78.4, end_time: 78.9\n",
      "Word: 나타날, start_time: 78.9, end_time: 79.9\n",
      "Word: 수, start_time: 79.9, end_time: 80.0\n",
      "Word: 있다, start_time: 80.0, end_time: 80.1\n",
      "Transcript:  오늘 말을 광고를 하고 하고 이런 것이 중요하지 않을까 생각하고 있습니다 외환보유액을 동안 자본유출 방어벽도 중요하지만 세계적인 외국자본 동시호출 폭우로 인한 통화가치 급락 가능성도 예배합니다 이런 세계 경제 상황을 반영하듯 세계은행은 올해 세계 성장률 전망치를 2.2%로 0.2% 포인트 하양 조정했습니다 KBS 뉴스\n",
      "Confidence: 0.803333580493927\n",
      "Word: 오늘, start_time: 81.5, end_time: 84.0\n",
      "Word: 말을, start_time: 84.0, end_time: 88.0\n",
      "Word: 광고를, start_time: 88.0, end_time: 88.7\n",
      "Word: 하고, start_time: 88.7, end_time: 88.9\n",
      "Word: 하고, start_time: 88.9, end_time: 90.3\n",
      "Word: 이런, start_time: 90.3, end_time: 90.6\n",
      "Word: 것이, start_time: 90.6, end_time: 90.9\n",
      "Word: 중요하지, start_time: 90.9, end_time: 91.9\n",
      "Word: 않을까, start_time: 91.9, end_time: 92.3\n",
      "Word: 생각하고, start_time: 92.3, end_time: 92.9\n",
      "Word: 있습니다, start_time: 92.9, end_time: 93.0\n",
      "Word: 외환보유액을, start_time: 93.0, end_time: 94.9\n",
      "Word: 동안, start_time: 94.9, end_time: 95.2\n",
      "Word: 자본유출, start_time: 95.2, end_time: 96.0\n",
      "Word: 방어벽, start_time: 96.0, end_time: 96.4\n",
      "Word: 도, start_time: 96.4, end_time: 96.5\n",
      "Word: 중요하지만, start_time: 96.5, end_time: 96.7\n",
      "Word: 세계적인, start_time: 96.7, end_time: 98.1\n",
      "Word: 외국자본, start_time: 98.1, end_time: 98.8\n",
      "Word: 동시호출, start_time: 98.8, end_time: 99.3\n",
      "Word: 폭우로, start_time: 99.3, end_time: 100.0\n",
      "Word: 인한, start_time: 100.0, end_time: 100.2\n",
      "Word: 통화가치, start_time: 100.2, end_time: 101.1\n",
      "Word: 급락, start_time: 101.1, end_time: 101.5\n",
      "Word: 가능성도, start_time: 101.5, end_time: 102.1\n",
      "Word: 예배합니다, start_time: 102.1, end_time: 102.8\n",
      "Word: 이런, start_time: 102.8, end_time: 104.0\n",
      "Word: 세계, start_time: 104.0, end_time: 104.2\n",
      "Word: 경제, start_time: 104.2, end_time: 104.5\n",
      "Word: 상황을, start_time: 104.5, end_time: 104.8\n",
      "Word: 반영하듯, start_time: 104.8, end_time: 105.4\n",
      "Word: 세계은행은, start_time: 105.4, end_time: 106.3\n",
      "Word: 올해, start_time: 106.3, end_time: 106.7\n",
      "Word: 세계, start_time: 106.7, end_time: 107.0\n",
      "Word: 성장률, start_time: 107.0, end_time: 107.5\n",
      "Word: 전망치를, start_time: 107.5, end_time: 107.8\n",
      "Word: 2.2%, start_time: 107.8, end_time: 108.9\n",
      "Word: 로, start_time: 108.9, end_time: 109.3\n",
      "Word: 0.2%, start_time: 109.3, end_time: 110.3\n",
      "Word: 포인트, start_time: 110.3, end_time: 110.7\n",
      "Word: 하양, start_time: 110.7, end_time: 111.5\n",
      "Word: 조정했습니다, start_time: 111.5, end_time: 112.0\n",
      "Word: kbs, start_time: 112.0, end_time: 113.4\n",
      "Word: 뉴스, start_time: 113.4, end_time: 113.7\n"
     ]
    }
   ],
   "source": [
    "transcribe_gcs('gs://audionews/readnaversid1355oid056aid0000003463.wav')"
   ]
  },
  {
   "cell_type": "code",
   "execution_count": null,
   "metadata": {},
   "outputs": [],
   "source": [
    "시간 좌표 구하기 성공! \n",
    "단, 이후의 작업을 위해서 시간 좌표를 튜플 or 리스트 형태로 변환시켜야 함.\n",
    "\n",
    "단점1 : 생각보다 파일 하나 변환시키는 시간이 오래 걸림.\n",
    "단점2 : 구글 STT api 환경 설정할 때 생각보다 시간이 꽤 걸림. \n",
    "-> 개인적으로 공식 구글 가이드 좀 불친절하다고 생각함...^^;;\n",
    "-> https://www.youtube.com/watch?v=Ds-7D8d-FwA  [참고하면 좋은 영상]\n",
    "-> https://cloud.google.com/storage/docs/quickstarts?hl=ko  [공식 구글 가이드]\n",
    "    \n",
    "단점3 : 1달 기준 60분 분량의 음성 데이터까지만 무료라서 하루에 돌릴 수 있는 양이 한정되어 있음.\n",
    "-> 앵커 영상만 분리해서 불필요한 데이터를 제거한다면 이 핸디캡을 극복할 수 있지 않을까...?\n",
    "-> 필요한 영상 데이터만 쏙쏙 뽑은 후, 각자 나눠서 돌린다면 현실 타협 가능성이 보이지 않을까?\n",
    "\n",
    "\n",
    "장점1 : 단어 나누는 기준의 정확도는 높은 편이라고 생각함. \n",
    "-> 물론 중간에 틀린 단어들도 좀 있어서 필요하다면 이건 손을 볼 필요가 있다고 여겨짐.\n",
    "\n",
    "\n",
    "만약 이 방법으로 진행한다면? \n",
    "-> 파일 n개를 일괄적으로 처리하는 코드 짜기 (이건 파일 1개만 사용했음)\n",
    "-> 그리고 앞에서 얻은 시간 좌표 데이터를 토대로 소리 제거한 동영상을 컷팅할 생각임.\n",
    "-> 태희가 말한 것처럼 앵커 아닌 영상 지우는 작업도 해야 함.\n",
    "\n",
    "\n",
    "*** 혹시 모르니까 완전 무료 오픈소스도 찾아보겠음...! "
   ]
  },
  {
   "cell_type": "markdown",
   "metadata": {},
   "source": [
    "## 태희 코드 (nonsilent한 단위로 영상 컷팅)"
   ]
  },
  {
   "cell_type": "code",
   "execution_count": 75,
   "metadata": {
    "collapsed": true
   },
   "outputs": [
    {
     "name": "stdout",
     "output_type": "stream",
     "text": [
      "length of audio_segment=58.94 seconds\n"
     ]
    },
    {
     "name": "stderr",
     "output_type": "stream",
     "text": [
      "chunk:  45%|█████████████████████████▊                               | 1301/2868 [7:27:09<00:00, 1664.12it/s, now=None]"
     ]
    },
    {
     "name": "stdout",
     "output_type": "stream",
     "text": [
      "start,Stop\n",
      "1.9 1.985\n",
      "Moviepy - Running:\n",
      ">>> \"+ \" \".join(cmd)\n",
      "Moviepy - Command successful\n",
      "2.735 2.987\n",
      "Moviepy - Running:\n",
      ">>> \"+ \" \".join(cmd)\n"
     ]
    },
    {
     "name": "stderr",
     "output_type": "stream",
     "text": [
      "chunk:  45%|█████████████████████████▊                               | 1301/2868 [7:27:10<00:00, 1664.12it/s, now=None]"
     ]
    },
    {
     "name": "stdout",
     "output_type": "stream",
     "text": [
      "Moviepy - Command successful\n",
      "3.538 4.616\n",
      "Moviepy - Running:\n",
      ">>> \"+ \" \".join(cmd)\n",
      "Moviepy - Command successful\n",
      "8.092 8.097\n",
      "Moviepy - Running:\n",
      ">>> \"+ \" \".join(cmd)\n"
     ]
    },
    {
     "name": "stderr",
     "output_type": "stream",
     "text": [
      "chunk:  45%|█████████████████████████▊                               | 1301/2868 [7:27:10<00:00, 1664.12it/s, now=None]"
     ]
    },
    {
     "name": "stdout",
     "output_type": "stream",
     "text": [
      "Moviepy - Command successful\n",
      "8.734 8.939\n",
      "Moviepy - Running:\n",
      ">>> \"+ \" \".join(cmd)\n",
      "Moviepy - Command successful\n",
      "11.099 11.31\n",
      "Moviepy - Running:\n",
      ">>> \"+ \" \".join(cmd)\n"
     ]
    },
    {
     "name": "stderr",
     "output_type": "stream",
     "text": [
      "chunk:  45%|█████████████████████████▊                               | 1301/2868 [7:27:10<00:00, 1664.12it/s, now=None]"
     ]
    },
    {
     "name": "stdout",
     "output_type": "stream",
     "text": [
      "Moviepy - Command successful\n",
      "13.789 13.892\n",
      "Moviepy - Running:\n",
      ">>> \"+ \" \".join(cmd)\n",
      "Moviepy - Command successful\n",
      "15.013 15.014\n",
      "Moviepy - Running:\n",
      ">>> \"+ \" \".join(cmd)\n"
     ]
    },
    {
     "name": "stderr",
     "output_type": "stream",
     "text": [
      "chunk:  45%|█████████████████████████▊                               | 1301/2868 [7:27:10<00:00, 1664.12it/s, now=None]"
     ]
    },
    {
     "name": "stdout",
     "output_type": "stream",
     "text": [
      "Moviepy - Command successful\n",
      "16.616 17.079\n",
      "Moviepy - Running:\n",
      ">>> \"+ \" \".join(cmd)\n",
      "Moviepy - Command successful\n",
      "17.644 17.904\n",
      "Moviepy - Running:\n",
      ">>> \"+ \" \".join(cmd)\n"
     ]
    },
    {
     "name": "stderr",
     "output_type": "stream",
     "text": [
      "chunk:  45%|█████████████████████████▊                               | 1301/2868 [7:27:10<00:00, 1664.12it/s, now=None]"
     ]
    },
    {
     "name": "stdout",
     "output_type": "stream",
     "text": [
      "Moviepy - Command successful\n",
      "18.766 18.797\n",
      "Moviepy - Running:\n",
      ">>> \"+ \" \".join(cmd)\n",
      "Moviepy - Command successful\n",
      "20.981 21.499\n",
      "Moviepy - Running:\n",
      ">>> \"+ \" \".join(cmd)\n"
     ]
    },
    {
     "name": "stderr",
     "output_type": "stream",
     "text": [
      "chunk:  45%|█████████████████████████▊                               | 1301/2868 [7:27:11<00:00, 1664.12it/s, now=None]"
     ]
    },
    {
     "name": "stdout",
     "output_type": "stream",
     "text": [
      "Moviepy - Command successful\n",
      "24.144 24.177\n",
      "Moviepy - Running:\n",
      ">>> \"+ \" \".join(cmd)\n",
      "Moviepy - Command successful\n",
      "28.277 28.521\n",
      "Moviepy - Running:\n",
      ">>> \"+ \" \".join(cmd)\n"
     ]
    },
    {
     "name": "stderr",
     "output_type": "stream",
     "text": [
      "chunk:  45%|█████████████████████████▊                               | 1301/2868 [7:27:11<00:00, 1664.12it/s, now=None]"
     ]
    },
    {
     "name": "stdout",
     "output_type": "stream",
     "text": [
      "Moviepy - Command successful\n",
      "32.095 32.593\n",
      "Moviepy - Running:\n",
      ">>> \"+ \" \".join(cmd)\n",
      "Moviepy - Command successful\n",
      "38.906 39.005\n",
      "Moviepy - Running:\n",
      ">>> \"+ \" \".join(cmd)\n"
     ]
    },
    {
     "name": "stderr",
     "output_type": "stream",
     "text": [
      "chunk:  45%|█████████████████████████▊                               | 1301/2868 [7:27:11<00:00, 1664.12it/s, now=None]"
     ]
    },
    {
     "name": "stdout",
     "output_type": "stream",
     "text": [
      "Moviepy - Command successful\n",
      "39.825 39.852\n",
      "Moviepy - Running:\n",
      ">>> \"+ \" \".join(cmd)\n",
      "Moviepy - Command successful\n",
      "40.699 40.748\n",
      "Moviepy - Running:\n",
      ">>> \"+ \" \".join(cmd)\n"
     ]
    },
    {
     "name": "stderr",
     "output_type": "stream",
     "text": [
      "chunk:  45%|█████████████████████████▊                               | 1301/2868 [7:27:11<00:00, 1664.12it/s, now=None]"
     ]
    },
    {
     "name": "stdout",
     "output_type": "stream",
     "text": [
      "Moviepy - Command successful\n",
      "44.617 44.658\n",
      "Moviepy - Running:\n",
      ">>> \"+ \" \".join(cmd)\n",
      "Moviepy - Command successful\n",
      "45.202 45.215\n",
      "Moviepy - Running:\n",
      ">>> \"+ \" \".join(cmd)\n"
     ]
    },
    {
     "name": "stderr",
     "output_type": "stream",
     "text": [
      "chunk:  45%|█████████████████████████▊                               | 1301/2868 [7:27:11<00:00, 1664.12it/s, now=None]"
     ]
    },
    {
     "name": "stdout",
     "output_type": "stream",
     "text": [
      "Moviepy - Command successful\n",
      "51.451 51.533\n",
      "Moviepy - Running:\n",
      ">>> \"+ \" \".join(cmd)\n",
      "Moviepy - Command successful\n",
      "52.409 53.088\n",
      "Moviepy - Running:\n",
      ">>> \"+ \" \".join(cmd)\n"
     ]
    },
    {
     "name": "stderr",
     "output_type": "stream",
     "text": [
      "chunk:  45%|█████████████████████████▊                               | 1301/2868 [7:27:12<00:00, 1664.12it/s, now=None]"
     ]
    },
    {
     "name": "stdout",
     "output_type": "stream",
     "text": [
      "Moviepy - Command successful\n",
      "53.636 53.824\n",
      "Moviepy - Running:\n",
      ">>> \"+ \" \".join(cmd)\n",
      "Moviepy - Command successful\n",
      "54.415 55.67\n",
      "Moviepy - Running:\n",
      ">>> \"+ \" \".join(cmd)\n"
     ]
    },
    {
     "name": "stderr",
     "output_type": "stream",
     "text": [
      "chunk:  45%|█████████████████████████▊                               | 1301/2868 [7:27:12<00:00, 1664.12it/s, now=None]"
     ]
    },
    {
     "name": "stdout",
     "output_type": "stream",
     "text": [
      "Moviepy - Command successful\n",
      "57.492 57.95\n",
      "Moviepy - Running:\n",
      ">>> \"+ \" \".join(cmd)\n",
      "Moviepy - Command successful\n",
      "58.563 58.94\n",
      "Moviepy - Running:\n",
      ">>> \"+ \" \".join(cmd)\n"
     ]
    },
    {
     "name": "stderr",
     "output_type": "stream",
     "text": [
      "chunk:  45%|█████████████████████████▊                               | 1301/2868 [7:27:12<00:00, 1664.12it/s, now=None]"
     ]
    },
    {
     "name": "stdout",
     "output_type": "stream",
     "text": [
      "Moviepy - Command successful\n"
     ]
    }
   ],
   "source": [
    "# 확인 완료했다는 의미로 올렸습니다!\n",
    "\n",
    "import moviepy.editor as mp\n",
    "from pydub import AudioSegment\n",
    "from pydub.silence import detect_nonsilent\n",
    "import re\n",
    "from moviepy.video.io.ffmpeg_tools import ffmpeg_extract_subclip\n",
    "\n",
    "\n",
    "#adjust target amplitude\n",
    "def match_target_amplitude(sound, target_dBFS):\n",
    "    change_in_dBFS = target_dBFS - sound.dBFS\n",
    "    return sound.apply_gain(change_in_dBFS)\n",
    "\n",
    "#Convert wav to audio_segment\n",
    "audio_segment = AudioSegment.from_wav(sound_file_name)\n",
    "\n",
    "#normalize audio_segment to -20dBFS \n",
    "normalized_sound = match_target_amplitude(audio_segment, -20.0)\n",
    "print(\"length of audio_segment={} seconds\".format(len(normalized_sound)/1000))\n",
    "\n",
    "#Print detected non-silent chunks, which in our case would be spoken words.\n",
    "nonsilent_data = detect_nonsilent(normalized_sound, min_silence_len=500, silence_thresh=-20, seek_step=1)\n",
    "\n",
    "a = 1\n",
    "#convert ms to seconds\n",
    "print(\"start,Stop\")\n",
    "for chunks in nonsilent_data:\n",
    "    time_line = [[chunk/1000 for chunk in chunks]]\n",
    "    for i in time_line:\n",
    "        print(i[0], i[1])\n",
    "        \n",
    "        b = str(a)\n",
    "        ffmpeg_extract_subclip(\"video.mp4\", i[0], i[1], targetname=\"video\"+b+\".mp4\")\n",
    "        a += 1\n",
    "\n",
    "#1, 단어별이나 문장별로 안 나온다. amplitude와 min_silence_len을 조절해볼 것\n",
    "#2, 앵커가 말하는 부분만을 자르지 않았다. -> 이 문제는 상의해야 함\n",
    "#   아직 앵커가 말하고 있음에도 불구하고, 화면 전환이 일어나며 얼굴이 나타나지 않음\n",
    "#   이건 큰 화면 전환을 기준으로 잘라야 하는 문제일듯\n",
    "#3, 이 코드들을 함수로 만들어 사용할 것 - 작은 문제"
   ]
  }
 ],
 "metadata": {
  "kernelspec": {
   "display_name": "Python 3",
   "language": "python",
   "name": "python3"
  },
  "language_info": {
   "codemirror_mode": {
    "name": "ipython",
    "version": 3
   },
   "file_extension": ".py",
   "mimetype": "text/x-python",
   "name": "python",
   "nbconvert_exporter": "python",
   "pygments_lexer": "ipython3",
   "version": "3.7.6"
  }
 },
 "nbformat": 4,
 "nbformat_minor": 4
}
