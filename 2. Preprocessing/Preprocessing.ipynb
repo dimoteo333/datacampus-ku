{
 "cells": [
  {
   "cell_type": "code",
   "execution_count": null,
   "metadata": {},
   "outputs": [],
   "source": [
    "[전처리 순서 (미완)]\n",
    "\n",
    "1. 다운받은 영상 데이터 불러오기\n",
    "2. 영상 데이터(mp4)를 음성 데이터(mp3)로 전환시킨 후에 따로 저장하기 -> data_1\n",
    "3. 영상 데이터에서 소리 제거한 후에 따로 저장하기 -> data_2\n",
    "4. data_1 파일을 단어 단위로 컷팅하고, 컷팅한 위치를 리스트 안에 저장하기\n",
    "5. 음성 컷팅 위치와 data2를 대응시킨 후에 그 부분을 컷팅하여 따로 저장하기\n",
    "    -> data_3\n",
    "6. data_3 파일에서 하관/입술 부분만 크롭한 형태로 따로 저장하기 -> data_4"
   ]
  },
  {
   "cell_type": "markdown",
   "metadata": {},
   "source": [
    "## 1. 영상 데이터 불러오기"
   ]
  },
  {
   "cell_type": "code",
   "execution_count": 1,
   "metadata": {},
   "outputs": [],
   "source": [
    "import os\n",
    "import re"
   ]
  },
  {
   "cell_type": "code",
   "execution_count": 2,
   "metadata": {
    "scrolled": true
   },
   "outputs": [
    {
     "name": "stdout",
     "output_type": "stream",
     "text": [
      "['readnaversid1355oid056aid0000003463.mp4', 'readnaversid1355oid056aid0000003464.mp4', 'readnaversid1355oid056aid0000003465.mp4', 'readnaversid1355oid056aid0000003466.mp4', 'readnaversid1355oid056aid0000003467.mp4', 'readnaversid1355oid056aid0000003468.mp4', 'readnaversid1355oid056aid0000003469.mp4', 'readnaversid1355oid056aid0000003470.mp4', 'readnaversid1355oid056aid0000003471.mp4', 'readnaversid1355oid056aid0000003472.mp4', 'readnaversid1355oid056aid0000003474.mp4', 'readnaversid1355oid056aid0000003475.mp4', 'readnaversid1355oid056aid0000003476.mp4', 'readnaversid1355oid056aid0000003477.mp4', 'readnaversid1355oid056aid0000003478.mp4', 'readnaversid1355oid056aid0000003480.mp4', 'readnaversid1355oid056aid0000003481.mp4', 'readnaversid1355oid056aid0000003514.mp4', 'readnaversid1355oid056aid0000003515.mp4', 'readnaversid1355oid056aid0000003516.mp4', 'readnaversid1355oid056aid0000003517.mp4', 'readnaversid1355oid056aid0000003518.mp4', 'readnaversid1355oid056aid0000003519.mp4', 'readnaversid1355oid056aid0000003520.mp4', 'readnaversid1355oid056aid0000003521.mp4', 'readnaversid1355oid056aid0000003522.mp4', 'readnaversid1355oid056aid0000003523.mp4', 'readnaversid1355oid056aid0000003524.mp4', 'readnaversid1355oid056aid0000003525.mp4', 'readnaversid1355oid056aid0000003526.mp4', 'readnaversid1355oid056aid0000003527.mp4', 'readnaversid1355oid056aid0000003528.mp4', 'readnaversid1355oid056aid0000003529.mp4', 'readnaversid1355oid056aid0000003530.mp4', 'readnaversid1355oid056aid0000003531.mp4', 'readnaversid1355oid056aid0000003532.mp4', 'readnaversid1355oid056aid0000003533.mp4', 'readnaversid1355oid056aid0000003534.mp4', 'readnaversid1355oid056aid0000003608.mp4', 'readnaversid1355oid056aid0000003609.mp4', 'readnaversid1355oid056aid0000003610.mp4', 'readnaversid1355oid056aid0000003611.mp4', 'readnaversid1355oid056aid0000003612.mp4', 'readnaversid1355oid056aid0000003613.mp4', 'readnaversid1355oid056aid0000003614.mp4', 'readnaversid1355oid056aid0000003615.mp4', 'readnaversid1355oid056aid0000003616.mp4', 'readnaversid1355oid056aid0000003617.mp4', 'readnaversid1355oid056aid0000003618.mp4', 'readnaversid1355oid056aid0000003619.mp4', 'readnaversid1355oid056aid0000003620.mp4', 'readnaversid1355oid056aid0000003623.mp4', 'readnaversid1355oid056aid0000003624.mp4', 'readnaversid1355oid056aid0000003625.mp4', 'readnaversid1355oid056aid0000003626.mp4']\n"
     ]
    }
   ],
   "source": [
    "# [필수] 파일 주소 재설정 \n",
    "MOV_Directory = '../1. Crawling/MOV' \n",
    "FileList = os.listdir(MOV_Directory)\n",
    "print(FileList)"
   ]
  },
  {
   "cell_type": "markdown",
   "metadata": {},
   "source": [
    "## 2. 영상 파일을 음성 파일로 전환"
   ]
  },
  {
   "cell_type": "code",
   "execution_count": 3,
   "metadata": {},
   "outputs": [],
   "source": [
    "# !pip install moviepy\n",
    "import moviepy.editor as mp"
   ]
  },
  {
   "cell_type": "code",
   "execution_count": 4,
   "metadata": {},
   "outputs": [
    {
     "name": "stdout",
     "output_type": "stream",
     "text": [
      "../1. Crawling/MOV/readnaversid1355oid056aid0000003463.mp4\n"
     ]
    },
    {
     "name": "stderr",
     "output_type": "stream",
     "text": [
      "\r",
      "chunk:   0%|                                                                        | 0/2550 [00:00<?, ?it/s, now=None]"
     ]
    },
    {
     "name": "stdout",
     "output_type": "stream",
     "text": [
      "readnaversid1355oid056aid0000003463.mp3\n",
      "MoviePy - Writing audio in ./MP3/readnaversid1355oid056aid0000003463.mp3\n"
     ]
    },
    {
     "name": "stderr",
     "output_type": "stream",
     "text": [
      "                                                                                                                       \r"
     ]
    },
    {
     "name": "stdout",
     "output_type": "stream",
     "text": [
      "MoviePy - Done.\n",
      "../1. Crawling/MOV/readnaversid1355oid056aid0000003464.mp4\n"
     ]
    },
    {
     "name": "stderr",
     "output_type": "stream",
     "text": [
      "\r",
      "chunk:   0%|                                                                        | 0/2868 [00:00<?, ?it/s, now=None]"
     ]
    },
    {
     "name": "stdout",
     "output_type": "stream",
     "text": [
      "readnaversid1355oid056aid0000003464.mp3\n",
      "MoviePy - Writing audio in ./MP3/readnaversid1355oid056aid0000003464.mp3\n"
     ]
    },
    {
     "name": "stderr",
     "output_type": "stream",
     "text": [
      "                                                                                                                       \r"
     ]
    },
    {
     "name": "stdout",
     "output_type": "stream",
     "text": [
      "MoviePy - Done.\n",
      "../1. Crawling/MOV/readnaversid1355oid056aid0000003465.mp4\n"
     ]
    },
    {
     "name": "stderr",
     "output_type": "stream",
     "text": [
      "\r",
      "chunk:   0%|                                                                        | 0/3178 [00:00<?, ?it/s, now=None]"
     ]
    },
    {
     "name": "stdout",
     "output_type": "stream",
     "text": [
      "readnaversid1355oid056aid0000003465.mp3\n",
      "MoviePy - Writing audio in ./MP3/readnaversid1355oid056aid0000003465.mp3\n"
     ]
    },
    {
     "name": "stderr",
     "output_type": "stream",
     "text": [
      "                                                                                                                       \r"
     ]
    },
    {
     "name": "stdout",
     "output_type": "stream",
     "text": [
      "MoviePy - Done.\n",
      "../1. Crawling/MOV/readnaversid1355oid056aid0000003466.mp4\n"
     ]
    },
    {
     "ename": "KeyboardInterrupt",
     "evalue": "",
     "output_type": "error",
     "traceback": [
      "\u001b[1;31m---------------------------------------------------------------------------\u001b[0m",
      "\u001b[1;31mKeyboardInterrupt\u001b[0m                         Traceback (most recent call last)",
      "\u001b[1;32m<ipython-input-4-9b1847c3eaae>\u001b[0m in \u001b[0;36m<module>\u001b[1;34m\u001b[0m\n\u001b[0;32m      2\u001b[0m     \u001b[0mi2\u001b[0m \u001b[1;33m=\u001b[0m \u001b[0mMOV_Directory\u001b[0m \u001b[1;33m+\u001b[0m \u001b[1;34m'/'\u001b[0m \u001b[1;33m+\u001b[0m \u001b[0mi\u001b[0m\u001b[1;33m\u001b[0m\u001b[1;33m\u001b[0m\u001b[0m\n\u001b[0;32m      3\u001b[0m     \u001b[0mprint\u001b[0m\u001b[1;33m(\u001b[0m\u001b[0mi2\u001b[0m\u001b[1;33m)\u001b[0m\u001b[1;33m\u001b[0m\u001b[1;33m\u001b[0m\u001b[0m\n\u001b[1;32m----> 4\u001b[1;33m     \u001b[0mclip\u001b[0m \u001b[1;33m=\u001b[0m \u001b[0mmp\u001b[0m\u001b[1;33m.\u001b[0m\u001b[0mVideoFileClip\u001b[0m\u001b[1;33m(\u001b[0m\u001b[0mi2\u001b[0m\u001b[1;33m)\u001b[0m\u001b[1;33m\u001b[0m\u001b[1;33m\u001b[0m\u001b[0m\n\u001b[0m\u001b[0;32m      5\u001b[0m \u001b[1;33m\u001b[0m\u001b[0m\n\u001b[0;32m      6\u001b[0m     \u001b[1;31m# [필수] 파일 주소 재설정\u001b[0m\u001b[1;33m\u001b[0m\u001b[1;33m\u001b[0m\u001b[1;33m\u001b[0m\u001b[0m\n",
      "\u001b[1;32m~\\anaconda3\\lib\\site-packages\\moviepy\\video\\io\\VideoFileClip.py\u001b[0m in \u001b[0;36m__init__\u001b[1;34m(self, filename, has_mask, audio, audio_buffersize, target_resolution, resize_algorithm, audio_fps, audio_nbytes, verbose, fps_source)\u001b[0m\n\u001b[0;32m     89\u001b[0m                                          \u001b[0mtarget_resolution\u001b[0m\u001b[1;33m=\u001b[0m\u001b[0mtarget_resolution\u001b[0m\u001b[1;33m,\u001b[0m\u001b[1;33m\u001b[0m\u001b[1;33m\u001b[0m\u001b[0m\n\u001b[0;32m     90\u001b[0m                                          \u001b[0mresize_algo\u001b[0m\u001b[1;33m=\u001b[0m\u001b[0mresize_algorithm\u001b[0m\u001b[1;33m,\u001b[0m\u001b[1;33m\u001b[0m\u001b[1;33m\u001b[0m\u001b[0m\n\u001b[1;32m---> 91\u001b[1;33m                                          fps_source=fps_source)\n\u001b[0m\u001b[0;32m     92\u001b[0m \u001b[1;33m\u001b[0m\u001b[0m\n\u001b[0;32m     93\u001b[0m         \u001b[1;31m# Make some of the reader's attributes accessible from the clip\u001b[0m\u001b[1;33m\u001b[0m\u001b[1;33m\u001b[0m\u001b[1;33m\u001b[0m\u001b[0m\n",
      "\u001b[1;32m~\\anaconda3\\lib\\site-packages\\moviepy\\video\\io\\ffmpeg_reader.py\u001b[0m in \u001b[0;36m__init__\u001b[1;34m(self, filename, print_infos, bufsize, pix_fmt, check_duration, target_resolution, resize_algo, fps_source)\u001b[0m\n\u001b[0;32m     71\u001b[0m \u001b[1;33m\u001b[0m\u001b[0m\n\u001b[0;32m     72\u001b[0m         \u001b[0mself\u001b[0m\u001b[1;33m.\u001b[0m\u001b[0mpos\u001b[0m \u001b[1;33m=\u001b[0m \u001b[1;36m1\u001b[0m\u001b[1;33m\u001b[0m\u001b[1;33m\u001b[0m\u001b[0m\n\u001b[1;32m---> 73\u001b[1;33m         \u001b[0mself\u001b[0m\u001b[1;33m.\u001b[0m\u001b[0mlastread\u001b[0m \u001b[1;33m=\u001b[0m \u001b[0mself\u001b[0m\u001b[1;33m.\u001b[0m\u001b[0mread_frame\u001b[0m\u001b[1;33m(\u001b[0m\u001b[1;33m)\u001b[0m\u001b[1;33m\u001b[0m\u001b[1;33m\u001b[0m\u001b[0m\n\u001b[0m\u001b[0;32m     74\u001b[0m \u001b[1;33m\u001b[0m\u001b[0m\n\u001b[0;32m     75\u001b[0m \u001b[1;33m\u001b[0m\u001b[0m\n",
      "\u001b[1;32m~\\anaconda3\\lib\\site-packages\\moviepy\\video\\io\\ffmpeg_reader.py\u001b[0m in \u001b[0;36mread_frame\u001b[1;34m(self)\u001b[0m\n\u001b[0;32m    118\u001b[0m         \u001b[0mnbytes\u001b[0m\u001b[1;33m=\u001b[0m \u001b[0mself\u001b[0m\u001b[1;33m.\u001b[0m\u001b[0mdepth\u001b[0m\u001b[1;33m*\u001b[0m\u001b[0mw\u001b[0m\u001b[1;33m*\u001b[0m\u001b[0mh\u001b[0m\u001b[1;33m\u001b[0m\u001b[1;33m\u001b[0m\u001b[0m\n\u001b[0;32m    119\u001b[0m \u001b[1;33m\u001b[0m\u001b[0m\n\u001b[1;32m--> 120\u001b[1;33m         \u001b[0ms\u001b[0m \u001b[1;33m=\u001b[0m \u001b[0mself\u001b[0m\u001b[1;33m.\u001b[0m\u001b[0mproc\u001b[0m\u001b[1;33m.\u001b[0m\u001b[0mstdout\u001b[0m\u001b[1;33m.\u001b[0m\u001b[0mread\u001b[0m\u001b[1;33m(\u001b[0m\u001b[0mnbytes\u001b[0m\u001b[1;33m)\u001b[0m\u001b[1;33m\u001b[0m\u001b[1;33m\u001b[0m\u001b[0m\n\u001b[0m\u001b[0;32m    121\u001b[0m         \u001b[1;32mif\u001b[0m \u001b[0mlen\u001b[0m\u001b[1;33m(\u001b[0m\u001b[0ms\u001b[0m\u001b[1;33m)\u001b[0m \u001b[1;33m!=\u001b[0m \u001b[0mnbytes\u001b[0m\u001b[1;33m:\u001b[0m\u001b[1;33m\u001b[0m\u001b[1;33m\u001b[0m\u001b[0m\n\u001b[0;32m    122\u001b[0m \u001b[1;33m\u001b[0m\u001b[0m\n",
      "\u001b[1;31mKeyboardInterrupt\u001b[0m: "
     ]
    }
   ],
   "source": [
    "for i in FileList:\n",
    "    i2 = MOV_Directory + '/' + i\n",
    "    print(i2)\n",
    "    clip = mp.VideoFileClip(i2)\n",
    "    \n",
    "    # [필수] 파일 주소 재설정 \n",
    "    MP3_Directory = './MP3' \n",
    "    sound_file_name = re.sub(pattern='mp4', repl='mp3', string=i)\n",
    "    print(sound_file_name)\n",
    "    sound_file_name = MP3_Directory + '/' + sound_file_name\n",
    "    clip.audio.write_audiofile(sound_file_name)"
   ]
  }
 ],
 "metadata": {
  "kernelspec": {
   "display_name": "Python 3",
   "language": "python",
   "name": "python3"
  },
  "language_info": {
   "codemirror_mode": {
    "name": "ipython",
    "version": 3
   },
   "file_extension": ".py",
   "mimetype": "text/x-python",
   "name": "python",
   "nbconvert_exporter": "python",
   "pygments_lexer": "ipython3",
   "version": "3.7.6"
  }
 },
 "nbformat": 4,
 "nbformat_minor": 4
}
