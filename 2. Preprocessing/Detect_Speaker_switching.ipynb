{
 "cells": [
  {
   "cell_type": "code",
   "execution_count": 1,
   "id": "15fa09c8",
   "metadata": {},
   "outputs": [],
   "source": [
    "# 3, 앵커 목소리가 기자 목소리로 전환될 때 video cut (time stamp)\n",
    "\n",
    "# [ 마저 처리할 일들 ]\n",
    "# str -> time 형태로 바꾸기\n",
    "# 함수 형태로 만들어주기\n",
    "# 전체 동영상 파일 대상으로 일반화 작업할 수 있도록 만들어주기"
   ]
  },
  {
   "cell_type": "code",
   "execution_count": 2,
   "id": "d62edfda",
   "metadata": {},
   "outputs": [],
   "source": [
    "# !pip install git+https://github.com/pyannote/pyannote-audio"
   ]
  },
  {
   "cell_type": "code",
   "execution_count": 3,
   "id": "0358c18d",
   "metadata": {},
   "outputs": [
    {
     "name": "stderr",
     "output_type": "stream",
     "text": [
      "C:\\Users\\YangGang\\anaconda3\\lib\\site-packages\\pyannote\\database\\database.py:51: UserWarning: Ignoring deprecated 'preprocessors' argument in AMI.__init__. Pass it to 'get_protocol' instead.\n",
      "  warnings.warn(msg)\n"
     ]
    }
   ],
   "source": [
    "import torch\n",
    "import pyannote\n",
    "from pyannote.database import get_protocol\n",
    "from pyannote.database import FileFinder\n",
    "from pyannote.audio.utils.signal import Binarize\n",
    "\n",
    "import os\n",
    "import re\n",
    "import moviepy.editor as mp\n",
    "import time"
   ]
  },
  {
   "cell_type": "code",
   "execution_count": 4,
   "id": "f5e5a9a2",
   "metadata": {},
   "outputs": [
    {
     "name": "stderr",
     "output_type": "stream",
     "text": [
      "Using cache found in C:\\Users\\YangGang/.cache\\torch\\hub\\pyannote_pyannote-audio_master\n"
     ]
    }
   ],
   "source": [
    "# Speech activity detection\n",
    "sad = torch.hub.load('pyannote/pyannote-audio', 'sad_ami')"
   ]
  },
  {
   "cell_type": "code",
   "execution_count": 5,
   "id": "7693323f",
   "metadata": {
    "scrolled": false
   },
   "outputs": [],
   "source": [
    "preprocessors = {'audio': FileFinder()}\n",
    "protocol = get_protocol('AMI.SpeakerDiarization.MixHeadset',\n",
    "                        preprocessors=preprocessors)\n",
    "\n",
    "# 연습 예제\n",
    "test_file = next(protocol.test())"
   ]
  },
  {
   "cell_type": "code",
   "execution_count": 6,
   "id": "ba3217d1",
   "metadata": {},
   "outputs": [
    {
     "name": "stdout",
     "output_type": "stream",
     "text": [
      "MoviePy - Writing audio in ./WAV_streo/readnaversid1750oid448aid0000195268.wav\n"
     ]
    },
    {
     "name": "stderr",
     "output_type": "stream",
     "text": [
      "                                                                                                                       \r"
     ]
    },
    {
     "name": "stdout",
     "output_type": "stream",
     "text": [
      "MoviePy - Done.\n",
      "MoviePy - Writing audio in ./WAV_streo/readnaversid1750oid448aid0000195576.wav\n"
     ]
    },
    {
     "name": "stderr",
     "output_type": "stream",
     "text": [
      "                                                                                                                       \r"
     ]
    },
    {
     "name": "stdout",
     "output_type": "stream",
     "text": [
      "MoviePy - Done.\n",
      "MoviePy - Writing audio in ./WAV_streo/readnaversid1750oid448aid0000196603.wav\n"
     ]
    },
    {
     "name": "stderr",
     "output_type": "stream",
     "text": [
      "                                                                                                                       \r"
     ]
    },
    {
     "name": "stdout",
     "output_type": "stream",
     "text": [
      "MoviePy - Done.\n",
      "MoviePy - Writing audio in ./WAV_streo/video.wav\n"
     ]
    },
    {
     "name": "stderr",
     "output_type": "stream",
     "text": [
      "                                                                                                                       "
     ]
    },
    {
     "name": "stdout",
     "output_type": "stream",
     "text": [
      "MoviePy - Done.\n"
     ]
    },
    {
     "name": "stderr",
     "output_type": "stream",
     "text": [
      "\r"
     ]
    }
   ],
   "source": [
    "MOV_Directory = './MOV'\n",
    "VideoList = os.listdir(MOV_Directory)\n",
    "\n",
    "WAV_Directory = './WAV_streo'\n",
    "\n",
    "for i in VideoList:\n",
    "    i2 = MOV_Directory + '/' + i\n",
    "    clip = mp.VideoFileClip(i2)\n",
    "    \n",
    "    sound_file_name = re.sub(pattern='mp4', repl='wav', string=i)\n",
    "    sound_file_name = WAV_Directory + '/' +sound_file_name\n",
    "    clip.audio.write_audiofile(sound_file_name)"
   ]
  },
  {
   "cell_type": "code",
   "execution_count": 7,
   "id": "5f131ed1",
   "metadata": {},
   "outputs": [],
   "source": [
    "# test_file_1 = {'uri':'video', 'audio':'./WAV_streo/readnaversid1750oid448aid0000196603.wav'}\n",
    "test_file_2 = {'audio':'./WAV_streo/video.wav'}"
   ]
  },
  {
   "cell_type": "code",
   "execution_count": 8,
   "id": "4f70743b",
   "metadata": {},
   "outputs": [],
   "source": [
    "sad_scores = sad(test_file_2)"
   ]
  },
  {
   "cell_type": "code",
   "execution_count": 9,
   "id": "aa8c3d67",
   "metadata": {},
   "outputs": [],
   "source": [
    "binarize = Binarize(offset=0.52, onset=0.52, log_scale=True,\n",
    "                   min_duration_off=0.1, min_duration_on=0.1)"
   ]
  },
  {
   "cell_type": "code",
   "execution_count": 10,
   "id": "207d70cb",
   "metadata": {},
   "outputs": [
    {
     "data": {
      "text/plain": [
       "'[[ 00:00:00.010 -->  00:00:19.104]\\n [ 00:00:21.195 -->  00:01:57.698]]'"
      ]
     },
     "execution_count": 10,
     "metadata": {},
     "output_type": "execute_result"
    }
   ],
   "source": [
    "speech = binarize.apply(sad_scores, dimension=1)\n",
    "\n",
    "# 0번째 인덱스의 끝 부분 : 앵커에서 기자로 넘어가는 시점\n",
    "str(speech)"
   ]
  },
  {
   "cell_type": "code",
   "execution_count": 11,
   "id": "fd375217",
   "metadata": {},
   "outputs": [
    {
     "data": {
      "text/plain": [
       "['00:00:00.010', '00:00:19.104']"
      ]
     },
     "execution_count": 11,
     "metadata": {},
     "output_type": "execute_result"
    }
   ],
   "source": [
    "a = list(speech)\n",
    "b = str(a[0])\n",
    "\n",
    "c = re.sub(pattern='\\-\\-\\>', repl='', string=b)\n",
    "c = re.sub(pattern='\\[', repl='', string=c)\n",
    "c = re.sub(pattern='\\]', repl='', string=c)\n",
    "c = str.split(c)\n",
    "\n",
    "c"
   ]
  }
 ],
 "metadata": {
  "kernelspec": {
   "display_name": "Python 3",
   "language": "python",
   "name": "python3"
  },
  "language_info": {
   "codemirror_mode": {
    "name": "ipython",
    "version": 3
   },
   "file_extension": ".py",
   "mimetype": "text/x-python",
   "name": "python",
   "nbconvert_exporter": "python",
   "pygments_lexer": "ipython3",
   "version": "3.8.8"
  }
 },
 "nbformat": 4,
 "nbformat_minor": 5
}
