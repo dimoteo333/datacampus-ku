{
 "cells": [
  {
   "cell_type": "code",
   "execution_count": 1,
   "id": "8acab624",
   "metadata": {},
   "outputs": [],
   "source": [
    "import os\n",
    "import cv2"
   ]
  },
  {
   "cell_type": "code",
   "execution_count": 2,
   "id": "bd8abe0b",
   "metadata": {},
   "outputs": [],
   "source": [
    "# 전처리 1-1 : 앵커 1명의 얼굴로 시작되는 영상 리스트 찾기\n",
    "def one_anchor_starts_MOV(MOV_Directory):\n",
    "    \n",
    "    # 가중치 파일 경로\n",
    "    cascade_filename = 'haarcascade_frontalface_alt.xml'\n",
    "    # 모델 불러오기\n",
    "    cascade = cv2.CascadeClassifier(cascade_filename)\n",
    "\n",
    "    MOV_List = os.listdir(MOV_Directory)\n",
    "    Using_MOV = MOV_List[:]\n",
    "\n",
    "    for MOV in MOV_List:\n",
    "        MOV_name = MOV_Directory + '/' + MOV\n",
    "        video = cv2.VideoCapture(MOV_name) #video name change\n",
    "        ret, frame = video.read()\n",
    "        frame[0]\n",
    "\n",
    "        gray = cv2.cvtColor(frame, cv2.COLOR_BGR2GRAY)\n",
    "        results = cascade.detectMultiScale(gray,\n",
    "                                          scaleFactor=2,\n",
    "                                          minNeighbors=3,\n",
    "                                          minSize=(20,20))\n",
    "\n",
    "        # 사용할 영상들 -> 앵커 1명으로 시작하는 영상\n",
    "        if len(results)==0 or len(results)>=2:\n",
    "            Using_MOV.remove(MOV)\n",
    "            \n",
    "    Using_MOV = tuple(Using_MOV)\n",
    "            \n",
    "    return Using_MOV"
   ]
  },
  {
   "cell_type": "code",
   "execution_count": 3,
   "id": "0dd53cb6",
   "metadata": {
    "scrolled": true
   },
   "outputs": [
    {
     "name": "stdout",
     "output_type": "stream",
     "text": [
      "('readnaversid1750oid448aid0000195268.mp4', 'readnaversid1750oid448aid0000195576.mp4')\n"
     ]
    }
   ],
   "source": [
    "a = one_anchor_starts_MOV('./MOV')\n",
    "print(a)"
   ]
  }
 ],
 "metadata": {
  "kernelspec": {
   "display_name": "Python 3",
   "language": "python",
   "name": "python3"
  },
  "language_info": {
   "codemirror_mode": {
    "name": "ipython",
    "version": 3
   },
   "file_extension": ".py",
   "mimetype": "text/x-python",
   "name": "python",
   "nbconvert_exporter": "python",
   "pygments_lexer": "ipython3",
   "version": "3.8.8"
  }
 },
 "nbformat": 4,
 "nbformat_minor": 5
}
