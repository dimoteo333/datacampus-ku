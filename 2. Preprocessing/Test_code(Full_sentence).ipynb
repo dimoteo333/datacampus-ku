{
 "cells": [
  {
   "cell_type": "code",
   "execution_count": 18,
   "id": "689672fd",
   "metadata": {},
   "outputs": [],
   "source": [
    "import os\n",
    "import cv2\n",
    "import numpy as np\n",
    "from moviepy.editor import VideoFileClip\n",
    "import datetime\n",
    "import time\n",
    "from tqdm import notebook\n",
    "import re\n",
    "import glob"
   ]
  },
  {
   "cell_type": "code",
   "execution_count": 19,
   "id": "ccdc3410",
   "metadata": {},
   "outputs": [
    {
     "name": "stdout",
     "output_type": "stream",
     "text": [
      "['./MOV\\\\readnaversid1742oid437aid0000010021.mp4'\n",
      " './MOV\\\\readnaversid1742oid437aid0000010022.mp4'\n",
      " './MOV\\\\readnaversid1742oid437aid0000010023.mp4'\n",
      " './MOV\\\\readnaversid1742oid437aid0000010024.mp4'\n",
      " './MOV\\\\readnaversid1742oid437aid0000010025.mp4'\n",
      " './MOV\\\\readnaversid1742oid437aid0000010026.mp4'\n",
      " './MOV\\\\readnaversid1742oid437aid0000010030.mp4'\n",
      " './MOV\\\\readnaversid1742oid437aid0000010031.mp4'\n",
      " './MOV\\\\readnaversid1742oid437aid0000010032.mp4'\n",
      " './MOV\\\\readnaversid1742oid437aid0000010033.mp4']\n",
      "MOV 파일 개수 : 10\n"
     ]
    }
   ],
   "source": [
    "\n",
    "# MOV_List : 영상 데이터 저장하는 변수\n",
    "MOV_List = np.array(glob.glob('./MOV/*.mp4'))\n",
    "print(MOV_List)\n",
    "print('MOV 파일 개수 :', len(MOV_List))"
   ]
  },
  {
   "cell_type": "code",
   "execution_count": 20,
   "id": "5d5b9f17",
   "metadata": {},
   "outputs": [],
   "source": [
    "\n",
    "# Two_min_under_MOV 함수 : 2분 이하 동영상 선별 \n",
    "\n",
    "def Two_min_under_MOV(MOV_List):\n",
    "    \n",
    "    # Using_List : 사용할 영상들 file_name 모음 \n",
    "    Using_List = MOV_List[:]\n",
    "    \n",
    "    # del_index : 삭제할 영상들 index 모음\n",
    "    del_index = np.array([])\n",
    "    del_index = del_index.astype(int)\n",
    "    \n",
    "    for i in notebook.tqdm(range(len(MOV_List))):\n",
    "        clip = VideoFileClip(MOV_List[i])\n",
    "        play_time = clip.duration\n",
    "        \n",
    "        # 재생 시간이 2분을 넘는 경우 -> Using_list에서 제외\n",
    "        if play_time > 60*2 :\n",
    "            print('Except MOV_file name :', Using_List[i])\n",
    "            del_index = np.append(del_index, [i])\n",
    "            \n",
    "    Using_List = np.delete(Using_List, del_index)\n",
    "            \n",
    "    # 2분 미만인 동영상 리스트\n",
    "    return Using_List"
   ]
  },
  {
   "cell_type": "code",
   "execution_count": 21,
   "id": "f7563be2",
   "metadata": {},
   "outputs": [
    {
     "data": {
      "application/vnd.jupyter.widget-view+json": {
       "model_id": "770021675f764065a66f4c446030de8e",
       "version_major": 2,
       "version_minor": 0
      },
      "text/plain": [
       "  0%|          | 0/10 [00:00<?, ?it/s]"
      ]
     },
     "metadata": {},
     "output_type": "display_data"
    },
    {
     "name": "stdout",
     "output_type": "stream",
     "text": [
      "Except MOV_file name : ./MOV\\readnaversid1742oid437aid0000010023.mp4\n",
      "['./MOV\\\\readnaversid1742oid437aid0000010021.mp4'\n",
      " './MOV\\\\readnaversid1742oid437aid0000010022.mp4'\n",
      " './MOV\\\\readnaversid1742oid437aid0000010024.mp4'\n",
      " './MOV\\\\readnaversid1742oid437aid0000010025.mp4'\n",
      " './MOV\\\\readnaversid1742oid437aid0000010026.mp4'\n",
      " './MOV\\\\readnaversid1742oid437aid0000010030.mp4'\n",
      " './MOV\\\\readnaversid1742oid437aid0000010031.mp4'\n",
      " './MOV\\\\readnaversid1742oid437aid0000010032.mp4'\n",
      " './MOV\\\\readnaversid1742oid437aid0000010033.mp4']\n",
      "2분 이하 파일 개수 9\n"
     ]
    }
   ],
   "source": [
    "Using_MOV_List = Two_min_under_MOV(MOV_List)\n",
    "print(Using_MOV_List)\n",
    "print('2분 이하 파일 개수', len(Using_MOV_List))"
   ]
  },
  {
   "cell_type": "code",
   "execution_count": 22,
   "id": "df018a9b",
   "metadata": {},
   "outputs": [],
   "source": [
    "# one_anchor_starts_MOV 함수 : 앵커 1명의 얼굴로 시작되는 영상 리스트 찾기\n",
    "def one_anchor_starts_MOV(MOV_List):\n",
    "     \n",
    "    Using_MOV = MOV_List[:]\n",
    "    \n",
    "    # 가중치 파일 경로\n",
    "    cascade_filename = 'haarcascade_frontalface_alt.xml'\n",
    "    # 모델 불러오기\n",
    "    cascade = cv2.CascadeClassifier(cascade_filename)\n",
    "    \n",
    "    # 첫 장면에서 인식한 얼굴의 수\n",
    "    face_num_list = np.array([])\n",
    "    face_num_list = face_num_list.astype(int)\n",
    "    \n",
    "    for i in notebook.tqdm(range(len(MOV_List))):\n",
    "        video = cv2.VideoCapture(MOV_List[i]) #video name change\n",
    "        ret, frame = video.read()\n",
    "        \n",
    "        # 첫 번째로 등장하는 프레임만 취급\n",
    "        frame[0]\n",
    "\n",
    "        gray = cv2.cvtColor(frame, cv2.COLOR_BGR2GRAY)\n",
    "        results = cascade.detectMultiScale(gray,\n",
    "                                          scaleFactor=1.2,\n",
    "                                          minNeighbors=5, minSize=(20,20))\n",
    "        \n",
    "        face_num_list = np.append(face_num_list, [len(results)])\n",
    "    \n",
    "    # del_index : 삭제할 영상들 index 모음\n",
    "    del_index = np.array([])\n",
    "    del_index = del_index.astype(int)\n",
    "    \n",
    "    # 앵커 1명으로 시작하는 영상 찾기\n",
    "    for k in range(len(face_num_list)):\n",
    "        if face_num_list[k]!=1:\n",
    "            del_index = np.append(del_index, [k])\n",
    "    \n",
    "    Using_MOV = np.delete(Using_MOV, del_index)\n",
    "    \n",
    "    # 파일 처리 쉽게 할 수 있는 것을 목표 \n",
    "    # -> MOV 원본 파일 주소, MOV 파일확장자 지운 버전 모두 제공 \n",
    "    return Using_MOV"
   ]
  },
  {
   "cell_type": "code",
   "execution_count": 23,
   "id": "9cda961e",
   "metadata": {},
   "outputs": [
    {
     "data": {
      "application/vnd.jupyter.widget-view+json": {
       "model_id": "c796fa5bb55b4d02ada3178b2a16a8af",
       "version_major": 2,
       "version_minor": 0
      },
      "text/plain": [
       "  0%|          | 0/9 [00:00<?, ?it/s]"
      ]
     },
     "metadata": {},
     "output_type": "display_data"
    },
    {
     "name": "stdout",
     "output_type": "stream",
     "text": [
      "['./MOV\\\\readnaversid1742oid437aid0000010021.mp4'\n",
      " './MOV\\\\readnaversid1742oid437aid0000010022.mp4'\n",
      " './MOV\\\\readnaversid1742oid437aid0000010024.mp4'\n",
      " './MOV\\\\readnaversid1742oid437aid0000010025.mp4'\n",
      " './MOV\\\\readnaversid1742oid437aid0000010026.mp4'\n",
      " './MOV\\\\readnaversid1742oid437aid0000010030.mp4'\n",
      " './MOV\\\\readnaversid1742oid437aid0000010032.mp4'\n",
      " './MOV\\\\readnaversid1742oid437aid0000010033.mp4']\n",
      "앵커 1명 얼굴로 시작되는 2분 이하의 영상 8\n"
     ]
    }
   ],
   "source": [
    "Using_MOV_List = one_anchor_starts_MOV(Using_MOV_List)\n",
    "print(Using_MOV_List)\n",
    "print('앵커 1명 얼굴로 시작되는 2분 이하의 영상', len(Using_MOV_List))"
   ]
  },
  {
   "cell_type": "code",
   "execution_count": 24,
   "id": "f87e2ddf",
   "metadata": {},
   "outputs": [
    {
     "name": "stdout",
     "output_type": "stream",
     "text": [
      "['readnaversid1742oid437aid0000010021'\n",
      " 'readnaversid1742oid437aid0000010022'\n",
      " 'readnaversid1742oid437aid0000010024'\n",
      " 'readnaversid1742oid437aid0000010025'\n",
      " 'readnaversid1742oid437aid0000010026'\n",
      " 'readnaversid1742oid437aid0000010030'\n",
      " 'readnaversid1742oid437aid0000010032'\n",
      " 'readnaversid1742oid437aid0000010033']\n",
      "소속 위치, 확장자 뗀 본연의 파일명 개수 :  8\n"
     ]
    }
   ],
   "source": [
    "# Clean_File_List 변수 : 소속 위치, 확장자 뗀 본연의 파일명 저장\n",
    "Clean_File_List = np.array([])\n",
    "\n",
    "Final_mov_list = np.array(glob.glob('./FINAL_VID/*.avi'))\n",
    "Fianl_file_list = np.array([])\n",
    "\n",
    "for file in Final_mov_list:\n",
    "    #file_name = re.sub(pattern='./FINAL_VID\\\\\\\\', repl='', string=file) #내 폴더는 이렇게 나와서 수정함\n",
    "    file_name = re.sub(pattern='./FINAL_VID/', repl='', string=file)\n",
    "    file_name = re.sub(pattern='.avi', repl='', string=file_name)\n",
    "    Fianl_file_list = np.append(Fianl_file_list, [file_name])\n",
    "    \n",
    "for File in Using_MOV_List:\n",
    "    #File_name = re.sub(pattern='./MOV\\\\\\\\', repl='', string=File)\n",
    "    File_name = re.sub(pattern='./MOV/', repl='', string=File)\n",
    "    File_name = re.sub(pattern='.mp4', repl='', string=File_name)\n",
    "\n",
    "    if File_name not in Fianl_file_list:\n",
    "        Clean_File_List = np.append(Clean_File_List, [File_name])\n",
    "\n",
    "print(Clean_File_List)\n",
    "print('소속 위치, 확장자 뗀 본연의 파일명 개수 : ', len(Clean_File_List))"
   ]
  },
  {
   "cell_type": "code",
   "execution_count": 25,
   "id": "18ad3c78",
   "metadata": {},
   "outputs": [
    {
     "name": "stdout",
     "output_type": "stream",
     "text": [
      "Collecting git+https://github.com/pyannote/pyannote-audio\n",
      "  Cloning https://github.com/pyannote/pyannote-audio to c:\\users\\tfg255s\\appdata\\local\\temp\\pip-req-build-i7yqw9ec\n",
      "Requirement already satisfied: cachetools>=2.0.0 in c:\\programdata\\anaconda3\\lib\\site-packages (from pyannote.audio==1.1.2+4.ga448164) (4.2.2)\n",
      "Requirement already satisfied: librosa>=0.8.0 in c:\\programdata\\anaconda3\\lib\\site-packages (from pyannote.audio==1.1.2+4.ga448164) (0.8.1)\n",
      "Requirement already satisfied: pandas>=0.18.0 in c:\\programdata\\anaconda3\\lib\\site-packages (from pyannote.audio==1.1.2+4.ga448164) (1.3.0)\n",
      "Requirement already satisfied: pyannote.core>=4.1 in c:\\programdata\\anaconda3\\lib\\site-packages (from pyannote.audio==1.1.2+4.ga448164) (4.1)\n",
      "Requirement already satisfied: pyannote.database>=4.0 in c:\\programdata\\anaconda3\\lib\\site-packages (from pyannote.audio==1.1.2+4.ga448164) (4.1.1+1.g7391b48)\n",
      "Requirement already satisfied: pyannote.metrics>=2.3 in c:\\programdata\\anaconda3\\lib\\site-packages (from pyannote.audio==1.1.2+4.ga448164) (3.0.1)\n",
      "Requirement already satisfied: pyannote.pipeline<2.0.0,>=1.5.2 in c:\\programdata\\anaconda3\\lib\\site-packages (from pyannote.audio==1.1.2+4.ga448164) (1.5.2)\n",
      "Requirement already satisfied: pyYAML>=3.12 in c:\\programdata\\anaconda3\\lib\\site-packages (from pyannote.audio==1.1.2+4.ga448164) (5.4.1)\n",
      "Requirement already satisfied: scikit-learn>=0.20.2 in c:\\programdata\\anaconda3\\lib\\site-packages (from pyannote.audio==1.1.2+4.ga448164) (0.24.2)\n",
      "Requirement already satisfied: sortedcollections>=1.0.1 in c:\\programdata\\anaconda3\\lib\\site-packages (from pyannote.audio==1.1.2+4.ga448164) (2.1.0)\n",
      "Requirement already satisfied: sortedcontainers>=2.0.4 in c:\\programdata\\anaconda3\\lib\\site-packages (from pyannote.audio==1.1.2+4.ga448164) (2.4.0)\n",
      "Requirement already satisfied: soundfile>=0.10.2 in c:\\programdata\\anaconda3\\lib\\site-packages (from pyannote.audio==1.1.2+4.ga448164) (0.10.3.post1)\n",
      "Requirement already satisfied: tqdm>=4.29.1 in c:\\programdata\\anaconda3\\lib\\site-packages (from pyannote.audio==1.1.2+4.ga448164) (4.61.2)\n",
      "Requirement already satisfied: tensorboard>=2.0.0 in c:\\programdata\\anaconda3\\lib\\site-packages (from pyannote.audio==1.1.2+4.ga448164) (2.5.0)\n",
      "Requirement already satisfied: pescador>=2.1.0 in c:\\programdata\\anaconda3\\lib\\site-packages (from pyannote.audio==1.1.2+4.ga448164) (2.1.0)\n",
      "Requirement already satisfied: Pillow>=6.2.1 in c:\\programdata\\anaconda3\\lib\\site-packages (from pyannote.audio==1.1.2+4.ga448164) (8.3.1)\n",
      "Requirement already satisfied: joblib>=0.14 in c:\\programdata\\anaconda3\\lib\\site-packages (from librosa>=0.8.0->pyannote.audio==1.1.2+4.ga448164) (1.0.1)\n",
      "Requirement already satisfied: numpy>=1.15.0 in c:\\programdata\\anaconda3\\lib\\site-packages (from librosa>=0.8.0->pyannote.audio==1.1.2+4.ga448164) (1.21.0)\n",
      "Requirement already satisfied: scipy>=1.0.0 in c:\\programdata\\anaconda3\\lib\\site-packages (from librosa>=0.8.0->pyannote.audio==1.1.2+4.ga448164) (1.6.2)\n",
      "Requirement already satisfied: numba>=0.43.0 in c:\\programdata\\anaconda3\\lib\\site-packages (from librosa>=0.8.0->pyannote.audio==1.1.2+4.ga448164) (0.53.1)\n",
      "Requirement already satisfied: packaging>=20.0 in c:\\programdata\\anaconda3\\lib\\site-packages (from librosa>=0.8.0->pyannote.audio==1.1.2+4.ga448164) (21.0)\n",
      "Requirement already satisfied: decorator>=3.0.0 in c:\\programdata\\anaconda3\\lib\\site-packages (from librosa>=0.8.0->pyannote.audio==1.1.2+4.ga448164) (4.4.2)\n",
      "Requirement already satisfied: resampy>=0.2.2 in c:\\programdata\\anaconda3\\lib\\site-packages (from librosa>=0.8.0->pyannote.audio==1.1.2+4.ga448164) (0.2.2)\n",
      "Requirement already satisfied: audioread>=2.0.0 in c:\\programdata\\anaconda3\\lib\\site-packages (from librosa>=0.8.0->pyannote.audio==1.1.2+4.ga448164) (2.1.9)\n",
      "Requirement already satisfied: pooch>=1.0 in c:\\programdata\\anaconda3\\lib\\site-packages (from librosa>=0.8.0->pyannote.audio==1.1.2+4.ga448164) (1.4.0)\n",
      "Requirement already satisfied: setuptools in c:\\programdata\\anaconda3\\lib\\site-packages (from numba>=0.43.0->librosa>=0.8.0->pyannote.audio==1.1.2+4.ga448164) (52.0.0.post20210125)\n",
      "Requirement already satisfied: llvmlite<0.37,>=0.36.0rc1 in c:\\programdata\\anaconda3\\lib\\site-packages (from numba>=0.43.0->librosa>=0.8.0->pyannote.audio==1.1.2+4.ga448164) (0.36.0)\n",
      "Requirement already satisfied: pyparsing>=2.0.2 in c:\\programdata\\anaconda3\\lib\\site-packages (from packaging>=20.0->librosa>=0.8.0->pyannote.audio==1.1.2+4.ga448164) (2.4.7)\n",
      "Requirement already satisfied: pytz>=2017.3 in c:\\programdata\\anaconda3\\lib\\site-packages (from pandas>=0.18.0->pyannote.audio==1.1.2+4.ga448164) (2021.1)\n",
      "Requirement already satisfied: python-dateutil>=2.7.3 in c:\\programdata\\anaconda3\\lib\\site-packages (from pandas>=0.18.0->pyannote.audio==1.1.2+4.ga448164) (2.8.2)\n",
      "Requirement already satisfied: pyzmq>=15.0 in c:\\programdata\\anaconda3\\lib\\site-packages (from pescador>=2.1.0->pyannote.audio==1.1.2+4.ga448164) (20.0.0)\n",
      "Requirement already satisfied: six>=1.8 in c:\\programdata\\anaconda3\\lib\\site-packages (from pescador>=2.1.0->pyannote.audio==1.1.2+4.ga448164) (1.16.0)\n",
      "Requirement already satisfied: appdirs in c:\\programdata\\anaconda3\\lib\\site-packages (from pooch>=1.0->librosa>=0.8.0->pyannote.audio==1.1.2+4.ga448164) (1.4.4)\n",
      "Requirement already satisfied: requests in c:\\programdata\\anaconda3\\lib\\site-packages (from pooch>=1.0->librosa>=0.8.0->pyannote.audio==1.1.2+4.ga448164) (2.25.1)\n",
      "Requirement already satisfied: matplotlib>=2.0.0 in c:\\programdata\\anaconda3\\lib\\site-packages (from pyannote.core>=4.1->pyannote.audio==1.1.2+4.ga448164) (3.3.4)\n",
      "Requirement already satisfied: simplejson>=3.8.1 in c:\\programdata\\anaconda3\\lib\\site-packages (from pyannote.core>=4.1->pyannote.audio==1.1.2+4.ga448164) (3.17.3)\n",
      "Requirement already satisfied: typing-extensions>=3.7.4.1 in c:\\programdata\\anaconda3\\lib\\site-packages (from pyannote.core>=4.1->pyannote.audio==1.1.2+4.ga448164) (3.10.0.0)\n",
      "Requirement already satisfied: kiwisolver>=1.0.1 in c:\\programdata\\anaconda3\\lib\\site-packages (from matplotlib>=2.0.0->pyannote.core>=4.1->pyannote.audio==1.1.2+4.ga448164) (1.3.1)\n",
      "Requirement already satisfied: cycler>=0.10 in c:\\programdata\\anaconda3\\lib\\site-packages (from matplotlib>=2.0.0->pyannote.core>=4.1->pyannote.audio==1.1.2+4.ga448164) (0.10.0)\n",
      "Requirement already satisfied: typer[all]>=0.2.1 in c:\\programdata\\anaconda3\\lib\\site-packages (from pyannote.database>=4.0->pyannote.audio==1.1.2+4.ga448164) (0.3.2)\n",
      "Requirement already satisfied: sympy>=1.1 in c:\\programdata\\anaconda3\\lib\\site-packages (from pyannote.metrics>=2.3->pyannote.audio==1.1.2+4.ga448164) (1.8)\n",
      "Requirement already satisfied: docopt>=0.6.2 in c:\\programdata\\anaconda3\\lib\\site-packages (from pyannote.metrics>=2.3->pyannote.audio==1.1.2+4.ga448164) (0.6.2)\n",
      "Requirement already satisfied: tabulate>=0.7.7 in c:\\programdata\\anaconda3\\lib\\site-packages (from pyannote.metrics>=2.3->pyannote.audio==1.1.2+4.ga448164) (0.8.9)\n",
      "Requirement already satisfied: optuna>=1.4 in c:\\programdata\\anaconda3\\lib\\site-packages (from pyannote.pipeline<2.0.0,>=1.5.2->pyannote.audio==1.1.2+4.ga448164) (2.9.1)\n",
      "Requirement already satisfied: filelock>=3.0.10 in c:\\programdata\\anaconda3\\lib\\site-packages (from pyannote.pipeline<2.0.0,>=1.5.2->pyannote.audio==1.1.2+4.ga448164) (3.0.12)\n",
      "Requirement already satisfied: colorlog in c:\\programdata\\anaconda3\\lib\\site-packages (from optuna>=1.4->pyannote.pipeline<2.0.0,>=1.5.2->pyannote.audio==1.1.2+4.ga448164) (5.0.1)\n",
      "Requirement already satisfied: cmaes>=0.8.2 in c:\\programdata\\anaconda3\\lib\\site-packages (from optuna>=1.4->pyannote.pipeline<2.0.0,>=1.5.2->pyannote.audio==1.1.2+4.ga448164) (0.8.2)\n",
      "Requirement already satisfied: alembic in c:\\programdata\\anaconda3\\lib\\site-packages (from optuna>=1.4->pyannote.pipeline<2.0.0,>=1.5.2->pyannote.audio==1.1.2+4.ga448164) (1.6.5)\n",
      "Requirement already satisfied: sqlalchemy>=1.1.0 in c:\\programdata\\anaconda3\\lib\\site-packages (from optuna>=1.4->pyannote.pipeline<2.0.0,>=1.5.2->pyannote.audio==1.1.2+4.ga448164) (1.4.22)\n",
      "Requirement already satisfied: cliff in c:\\programdata\\anaconda3\\lib\\site-packages (from optuna>=1.4->pyannote.pipeline<2.0.0,>=1.5.2->pyannote.audio==1.1.2+4.ga448164) (3.8.0)\n",
      "Requirement already satisfied: threadpoolctl>=2.0.0 in c:\\programdata\\anaconda3\\lib\\site-packages (from scikit-learn>=0.20.2->pyannote.audio==1.1.2+4.ga448164) (2.2.0)\n",
      "Requirement already satisfied: cffi>=1.0 in c:\\programdata\\anaconda3\\lib\\site-packages (from soundfile>=0.10.2->pyannote.audio==1.1.2+4.ga448164) (1.14.6)\n",
      "Requirement already satisfied: pycparser in c:\\programdata\\anaconda3\\lib\\site-packages (from cffi>=1.0->soundfile>=0.10.2->pyannote.audio==1.1.2+4.ga448164) (2.20)\n",
      "Requirement already satisfied: greenlet!=0.4.17 in c:\\programdata\\anaconda3\\lib\\site-packages (from sqlalchemy>=1.1.0->optuna>=1.4->pyannote.pipeline<2.0.0,>=1.5.2->pyannote.audio==1.1.2+4.ga448164) (1.1.0)\n",
      "Requirement already satisfied: mpmath>=0.19 in c:\\programdata\\anaconda3\\lib\\site-packages (from sympy>=1.1->pyannote.metrics>=2.3->pyannote.audio==1.1.2+4.ga448164) (1.2.1)\n",
      "Requirement already satisfied: grpcio>=1.24.3 in c:\\programdata\\anaconda3\\lib\\site-packages (from tensorboard>=2.0.0->pyannote.audio==1.1.2+4.ga448164) (1.34.1)\n",
      "Requirement already satisfied: google-auth-oauthlib<0.5,>=0.4.1 in c:\\programdata\\anaconda3\\lib\\site-packages (from tensorboard>=2.0.0->pyannote.audio==1.1.2+4.ga448164) (0.4.4)\n",
      "Requirement already satisfied: google-auth<2,>=1.6.3 in c:\\programdata\\anaconda3\\lib\\site-packages (from tensorboard>=2.0.0->pyannote.audio==1.1.2+4.ga448164) (1.32.1)\n",
      "Requirement already satisfied: tensorboard-data-server<0.7.0,>=0.6.0 in c:\\programdata\\anaconda3\\lib\\site-packages (from tensorboard>=2.0.0->pyannote.audio==1.1.2+4.ga448164) (0.6.1)\n",
      "Requirement already satisfied: werkzeug>=0.11.15 in c:\\programdata\\anaconda3\\lib\\site-packages (from tensorboard>=2.0.0->pyannote.audio==1.1.2+4.ga448164) (1.0.1)\n",
      "Requirement already satisfied: protobuf>=3.6.0 in c:\\programdata\\anaconda3\\lib\\site-packages (from tensorboard>=2.0.0->pyannote.audio==1.1.2+4.ga448164) (3.17.3)\n",
      "Requirement already satisfied: wheel>=0.26 in c:\\programdata\\anaconda3\\lib\\site-packages (from tensorboard>=2.0.0->pyannote.audio==1.1.2+4.ga448164) (0.36.2)\n",
      "Requirement already satisfied: tensorboard-plugin-wit>=1.6.0 in c:\\programdata\\anaconda3\\lib\\site-packages (from tensorboard>=2.0.0->pyannote.audio==1.1.2+4.ga448164) (1.8.0)\n",
      "Requirement already satisfied: markdown>=2.6.8 in c:\\programdata\\anaconda3\\lib\\site-packages (from tensorboard>=2.0.0->pyannote.audio==1.1.2+4.ga448164) (3.3.4)\n",
      "Requirement already satisfied: absl-py>=0.4 in c:\\programdata\\anaconda3\\lib\\site-packages (from tensorboard>=2.0.0->pyannote.audio==1.1.2+4.ga448164) (0.13.0)\n",
      "Requirement already satisfied: pyasn1-modules>=0.2.1 in c:\\programdata\\anaconda3\\lib\\site-packages (from google-auth<2,>=1.6.3->tensorboard>=2.0.0->pyannote.audio==1.1.2+4.ga448164) (0.2.8)\n",
      "Requirement already satisfied: rsa<5,>=3.1.4 in c:\\programdata\\anaconda3\\lib\\site-packages (from google-auth<2,>=1.6.3->tensorboard>=2.0.0->pyannote.audio==1.1.2+4.ga448164) (4.7.2)\n",
      "Requirement already satisfied: requests-oauthlib>=0.7.0 in c:\\programdata\\anaconda3\\lib\\site-packages (from google-auth-oauthlib<0.5,>=0.4.1->tensorboard>=2.0.0->pyannote.audio==1.1.2+4.ga448164) (1.3.0)\n",
      "Requirement already satisfied: pyasn1<0.5.0,>=0.4.6 in c:\\programdata\\anaconda3\\lib\\site-packages (from pyasn1-modules>=0.2.1->google-auth<2,>=1.6.3->tensorboard>=2.0.0->pyannote.audio==1.1.2+4.ga448164) (0.4.8)\n",
      "Requirement already satisfied: certifi>=2017.4.17 in c:\\programdata\\anaconda3\\lib\\site-packages (from requests->pooch>=1.0->librosa>=0.8.0->pyannote.audio==1.1.2+4.ga448164) (2021.5.30)\n",
      "Requirement already satisfied: chardet<5,>=3.0.2 in c:\\programdata\\anaconda3\\lib\\site-packages (from requests->pooch>=1.0->librosa>=0.8.0->pyannote.audio==1.1.2+4.ga448164) (4.0.0)\n",
      "Requirement already satisfied: idna<3,>=2.5 in c:\\programdata\\anaconda3\\lib\\site-packages (from requests->pooch>=1.0->librosa>=0.8.0->pyannote.audio==1.1.2+4.ga448164) (2.10)\n",
      "Requirement already satisfied: urllib3<1.27,>=1.21.1 in c:\\programdata\\anaconda3\\lib\\site-packages (from requests->pooch>=1.0->librosa>=0.8.0->pyannote.audio==1.1.2+4.ga448164) (1.26.6)\n",
      "Requirement already satisfied: oauthlib>=3.0.0 in c:\\programdata\\anaconda3\\lib\\site-packages (from requests-oauthlib>=0.7.0->google-auth-oauthlib<0.5,>=0.4.1->tensorboard>=2.0.0->pyannote.audio==1.1.2+4.ga448164) (3.1.1)\n",
      "Requirement already satisfied: colorama in c:\\programdata\\anaconda3\\lib\\site-packages (from tqdm>=4.29.1->pyannote.audio==1.1.2+4.ga448164) (0.4.4)\n",
      "Requirement already satisfied: click<7.2.0,>=7.1.1 in c:\\programdata\\anaconda3\\lib\\site-packages (from typer[all]>=0.2.1->pyannote.database>=4.0->pyannote.audio==1.1.2+4.ga448164) (7.1.2)\n",
      "Requirement already satisfied: shellingham<2.0.0,>=1.3.0 in c:\\programdata\\anaconda3\\lib\\site-packages (from typer[all]>=0.2.1->pyannote.database>=4.0->pyannote.audio==1.1.2+4.ga448164) (1.4.0)\n",
      "Requirement already satisfied: python-editor>=0.3 in c:\\programdata\\anaconda3\\lib\\site-packages (from alembic->optuna>=1.4->pyannote.pipeline<2.0.0,>=1.5.2->pyannote.audio==1.1.2+4.ga448164) (1.0.4)\n",
      "Requirement already satisfied: Mako in c:\\programdata\\anaconda3\\lib\\site-packages (from alembic->optuna>=1.4->pyannote.pipeline<2.0.0,>=1.5.2->pyannote.audio==1.1.2+4.ga448164) (1.1.4)\n",
      "Requirement already satisfied: pbr!=2.1.0,>=2.0.0 in c:\\programdata\\anaconda3\\lib\\site-packages (from cliff->optuna>=1.4->pyannote.pipeline<2.0.0,>=1.5.2->pyannote.audio==1.1.2+4.ga448164) (5.6.0)\n",
      "Requirement already satisfied: cmd2>=1.0.0 in c:\\programdata\\anaconda3\\lib\\site-packages (from cliff->optuna>=1.4->pyannote.pipeline<2.0.0,>=1.5.2->pyannote.audio==1.1.2+4.ga448164) (2.1.2)\n",
      "Requirement already satisfied: PrettyTable>=0.7.2 in c:\\programdata\\anaconda3\\lib\\site-packages (from cliff->optuna>=1.4->pyannote.pipeline<2.0.0,>=1.5.2->pyannote.audio==1.1.2+4.ga448164) (2.1.0)\n",
      "Requirement already satisfied: stevedore>=2.0.1 in c:\\programdata\\anaconda3\\lib\\site-packages (from cliff->optuna>=1.4->pyannote.pipeline<2.0.0,>=1.5.2->pyannote.audio==1.1.2+4.ga448164) (3.3.0)\n",
      "Requirement already satisfied: pyperclip>=1.6 in c:\\programdata\\anaconda3\\lib\\site-packages (from cmd2>=1.0.0->cliff->optuna>=1.4->pyannote.pipeline<2.0.0,>=1.5.2->pyannote.audio==1.1.2+4.ga448164) (1.8.2)\n",
      "Requirement already satisfied: wcwidth>=0.1.7 in c:\\programdata\\anaconda3\\lib\\site-packages (from cmd2>=1.0.0->cliff->optuna>=1.4->pyannote.pipeline<2.0.0,>=1.5.2->pyannote.audio==1.1.2+4.ga448164) (0.2.5)\n",
      "Requirement already satisfied: attrs>=16.3.0 in c:\\programdata\\anaconda3\\lib\\site-packages (from cmd2>=1.0.0->cliff->optuna>=1.4->pyannote.pipeline<2.0.0,>=1.5.2->pyannote.audio==1.1.2+4.ga448164) (21.2.0)\n",
      "Requirement already satisfied: pyreadline3 in c:\\programdata\\anaconda3\\lib\\site-packages (from cmd2>=1.0.0->cliff->optuna>=1.4->pyannote.pipeline<2.0.0,>=1.5.2->pyannote.audio==1.1.2+4.ga448164) (3.3)\n",
      "Requirement already satisfied: MarkupSafe>=0.9.2 in c:\\programdata\\anaconda3\\lib\\site-packages (from Mako->alembic->optuna>=1.4->pyannote.pipeline<2.0.0,>=1.5.2->pyannote.audio==1.1.2+4.ga448164) (2.0.1)\n",
      "Building wheels for collected packages: pyannote.audio\n",
      "  Building wheel for pyannote.audio (setup.py): started\n",
      "  Building wheel for pyannote.audio (setup.py): finished with status 'done'\n",
      "  Created wheel for pyannote.audio: filename=pyannote.audio-1.1.2+4.ga448164-py3-none-any.whl size=233010 sha256=222d758d0bac93d8938e9c0abb7710f755d15a8d1e2dcd38e9f241b0d15bb906\n",
      "  Stored in directory: C:\\Users\\TFG255S\\AppData\\Local\\Temp\\pip-ephem-wheel-cache-kyx0rqhg\\wheels\\51\\cd\\8c\\c65019f1aead4419bdfd21a5f295ce1b50611a7e8b7a8fef69\n",
      "Successfully built pyannote.audio\n",
      "Installing collected packages: pyannote.audio\n",
      "  Attempting uninstall: pyannote.audio\n",
      "    Found existing installation: pyannote.audio 1.1.2\n",
      "    Uninstalling pyannote.audio-1.1.2:\n"
     ]
    },
    {
     "name": "stderr",
     "output_type": "stream",
     "text": [
      "WARNING: Ignoring invalid distribution -umpy (c:\\programdata\\anaconda3\\lib\\site-packages)\n",
      "WARNING: Ignoring invalid distribution -rllib3 (c:\\programdata\\anaconda3\\lib\\site-packages)\n",
      "WARNING: Ignoring invalid distribution -pype1 (c:\\programdata\\anaconda3\\lib\\site-packages)\n",
      "WARNING: Ignoring invalid distribution -onlpy (c:\\programdata\\anaconda3\\lib\\site-packages)\n",
      "WARNING: Ignoring invalid distribution -lick (c:\\programdata\\anaconda3\\lib\\site-packages)\n",
      "WARNING: Ignoring invalid distribution -eautifulsoup4 (c:\\programdata\\anaconda3\\lib\\site-packages)\n",
      "WARNING: Ignoring invalid distribution -umpy (c:\\programdata\\anaconda3\\lib\\site-packages)\n",
      "WARNING: Ignoring invalid distribution -rllib3 (c:\\programdata\\anaconda3\\lib\\site-packages)\n",
      "WARNING: Ignoring invalid distribution -pype1 (c:\\programdata\\anaconda3\\lib\\site-packages)\n",
      "WARNING: Ignoring invalid distribution -onlpy (c:\\programdata\\anaconda3\\lib\\site-packages)\n",
      "WARNING: Ignoring invalid distribution -lick (c:\\programdata\\anaconda3\\lib\\site-packages)\n",
      "WARNING: Ignoring invalid distribution -eautifulsoup4 (c:\\programdata\\anaconda3\\lib\\site-packages)\n",
      "  Running command git clone -q https://github.com/pyannote/pyannote-audio 'C:\\Users\\TFG255S\\AppData\\Local\\Temp\\pip-req-build-i7yqw9ec'\n",
      "WARNING: Ignoring invalid distribution -umpy (c:\\programdata\\anaconda3\\lib\\site-packages)\n",
      "WARNING: Ignoring invalid distribution -rllib3 (c:\\programdata\\anaconda3\\lib\\site-packages)\n",
      "WARNING: Ignoring invalid distribution -pype1 (c:\\programdata\\anaconda3\\lib\\site-packages)\n",
      "WARNING: Ignoring invalid distribution -onlpy (c:\\programdata\\anaconda3\\lib\\site-packages)\n",
      "WARNING: Ignoring invalid distribution -lick (c:\\programdata\\anaconda3\\lib\\site-packages)\n",
      "WARNING: Ignoring invalid distribution -eautifulsoup4 (c:\\programdata\\anaconda3\\lib\\site-packages)\n",
      "    WARNING: Ignoring invalid distribution -umpy (c:\\programdata\\anaconda3\\lib\\site-packages)\n",
      "    WARNING: Ignoring invalid distribution -rllib3 (c:\\programdata\\anaconda3\\lib\\site-packages)\n",
      "    WARNING: Ignoring invalid distribution -pype1 (c:\\programdata\\anaconda3\\lib\\site-packages)\n",
      "    WARNING: Ignoring invalid distribution -onlpy (c:\\programdata\\anaconda3\\lib\\site-packages)\n",
      "    WARNING: Ignoring invalid distribution -lick (c:\\programdata\\anaconda3\\lib\\site-packages)\n",
      "    WARNING: Ignoring invalid distribution -eautifulsoup4 (c:\\programdata\\anaconda3\\lib\\site-packages)\n",
      "ERROR: Could not install packages due to an OSError: [WinError 5] 액세스가 거부되었습니다: 'c:\\\\programdata\\\\anaconda3\\\\lib\\\\site-packages\\\\pyannote.audio-1.1.2-py3.9-nspkg.pth'\n",
      "Consider using the `--user` option or check the permissions.\n",
      "\n",
      "WARNING: Ignoring invalid distribution -umpy (c:\\programdata\\anaconda3\\lib\\site-packages)\n",
      "WARNING: Ignoring invalid distribution -rllib3 (c:\\programdata\\anaconda3\\lib\\site-packages)\n",
      "WARNING: Ignoring invalid distribution -pype1 (c:\\programdata\\anaconda3\\lib\\site-packages)\n",
      "WARNING: Ignoring invalid distribution -onlpy (c:\\programdata\\anaconda3\\lib\\site-packages)\n",
      "WARNING: Ignoring invalid distribution -lick (c:\\programdata\\anaconda3\\lib\\site-packages)\n",
      "WARNING: Ignoring invalid distribution -eautifulsoup4 (c:\\programdata\\anaconda3\\lib\\site-packages)\n",
      "WARNING: Ignoring invalid distribution -umpy (c:\\programdata\\anaconda3\\lib\\site-packages)\n",
      "WARNING: Ignoring invalid distribution -rllib3 (c:\\programdata\\anaconda3\\lib\\site-packages)\n",
      "WARNING: Ignoring invalid distribution -pype1 (c:\\programdata\\anaconda3\\lib\\site-packages)\n",
      "WARNING: Ignoring invalid distribution -onlpy (c:\\programdata\\anaconda3\\lib\\site-packages)\n",
      "WARNING: Ignoring invalid distribution -lick (c:\\programdata\\anaconda3\\lib\\site-packages)\n",
      "WARNING: Ignoring invalid distribution -eautifulsoup4 (c:\\programdata\\anaconda3\\lib\\site-packages)\n",
      "WARNING: Ignoring invalid distribution -umpy (c:\\programdata\\anaconda3\\lib\\site-packages)\n",
      "WARNING: Ignoring invalid distribution -rllib3 (c:\\programdata\\anaconda3\\lib\\site-packages)\n",
      "WARNING: Ignoring invalid distribution -pype1 (c:\\programdata\\anaconda3\\lib\\site-packages)\n",
      "WARNING: Ignoring invalid distribution -onlpy (c:\\programdata\\anaconda3\\lib\\site-packages)\n",
      "WARNING: Ignoring invalid distribution -lick (c:\\programdata\\anaconda3\\lib\\site-packages)\n",
      "WARNING: Ignoring invalid distribution -eautifulsoup4 (c:\\programdata\\anaconda3\\lib\\site-packages)\n"
     ]
    }
   ],
   "source": [
    "!pip install git+https://github.com/pyannote/pyannote-audio"
   ]
  },
  {
   "cell_type": "code",
   "execution_count": 26,
   "id": "907bbd2e",
   "metadata": {},
   "outputs": [],
   "source": [
    "# MOV_to_WAV 함수 : 영상(.mp4) -> 음성(.wav) 전환 작업\n",
    "def MOV_to_WAV(MOV_List):\n",
    "    WAV_file = np.array([])\n",
    "    \n",
    "    for MOV in notebook.tqdm(MOV_List): \n",
    "        clip = VideoFileClip(MOV)\n",
    "\n",
    "        # 파일 저장 위치 변경\n",
    "        sound_file_name = re.sub(pattern='MOV', repl='WAV', string=str(MOV))\n",
    "        # 파일 저장 형태 변경\n",
    "        sound_file_name = re.sub(pattern='mp4', repl='wav', string=sound_file_name)\n",
    "        \n",
    "        clip.audio.write_audiofile(sound_file_name)"
   ]
  },
  {
   "cell_type": "code",
   "execution_count": 27,
   "id": "7b9513c0",
   "metadata": {
    "scrolled": true
   },
   "outputs": [
    {
     "data": {
      "application/vnd.jupyter.widget-view+json": {
       "model_id": "78c53977e53f467383d1f746c8545de7",
       "version_major": 2,
       "version_minor": 0
      },
      "text/plain": [
       "  0%|          | 0/8 [00:00<?, ?it/s]"
      ]
     },
     "metadata": {},
     "output_type": "display_data"
    },
    {
     "name": "stdout",
     "output_type": "stream",
     "text": [
      "MoviePy - Writing audio in ./WAV\\readnaversid1742oid437aid0000010021.wav\n"
     ]
    },
    {
     "name": "stderr",
     "output_type": "stream",
     "text": [
      "\n",
      "chunk:   0%|                                                                        | 0/2076 [00:00<?, ?it/s, now=None]\u001b[A\n",
      "chunk:   0%|                                                                | 3/2076 [00:01<11:53,  2.90it/s, now=None]\u001b[A\n",
      "chunk:  14%|████████▊                                                    | 301/2076 [00:01<00:04, 359.85it/s, now=None]\u001b[A\n",
      "chunk:  30%|██████████████████▍                                          | 629/2076 [00:01<00:01, 769.89it/s, now=None]\u001b[A\n",
      "chunk:  44%|██████████████████████████▌                                 | 918/2076 [00:01<00:01, 1127.57it/s, now=None]\u001b[A\n",
      "chunk:  61%|████████████████████████████████████▏                      | 1275/2076 [00:01<00:00, 1557.63it/s, now=None]\u001b[A\n",
      "chunk:  76%|████████████████████████████████████████████▊              | 1577/2076 [00:01<00:00, 1864.65it/s, now=None]\u001b[A\n",
      "chunk:  91%|█████████████████████████████████████████████████████▋     | 1887/2076 [00:01<00:00, 2076.88it/s, now=None]\u001b[A\n",
      "                                                                                                                       \u001b[A"
     ]
    },
    {
     "name": "stdout",
     "output_type": "stream",
     "text": [
      "MoviePy - Done.\n",
      "MoviePy - Writing audio in ./WAV\\readnaversid1742oid437aid0000010022.wav\n"
     ]
    },
    {
     "name": "stderr",
     "output_type": "stream",
     "text": [
      "\n",
      "chunk:   0%|                                                                        | 0/2037 [00:00<?, ?it/s, now=None]\u001b[A\n",
      "chunk:   0%|                                                                | 3/2037 [00:01<11:50,  2.86it/s, now=None]\u001b[A\n",
      "chunk:  15%|█████████▏                                                   | 306/2037 [00:01<00:04, 363.03it/s, now=None]\u001b[A\n",
      "chunk:  33%|███████████████████▊                                         | 663/2037 [00:01<00:01, 812.06it/s, now=None]\u001b[A\n",
      "chunk:  48%|████████████████████████████▌                               | 969/2037 [00:01<00:00, 1190.47it/s, now=None]\u001b[A\n",
      "chunk:  63%|████████████████████████████████████▉                      | 1275/2037 [00:01<00:00, 1552.59it/s, now=None]\u001b[A\n",
      "chunk:  80%|███████████████████████████████████████████████▎           | 1632/2037 [00:01<00:00, 1926.79it/s, now=None]\u001b[A\n",
      "chunk:  95%|████████████████████████████████████████████████████████▏  | 1938/2037 [00:01<00:00, 2108.16it/s, now=None]\u001b[A\n",
      "                                                                                                                       \u001b[A"
     ]
    },
    {
     "name": "stdout",
     "output_type": "stream",
     "text": [
      "MoviePy - Done.\n",
      "MoviePy - Writing audio in ./WAV\\readnaversid1742oid437aid0000010024.wav\n"
     ]
    },
    {
     "name": "stderr",
     "output_type": "stream",
     "text": [
      "\n",
      "chunk:   0%|                                                                         | 0/882 [00:00<?, ?it/s, now=None]\u001b[A\n",
      "chunk:   0%|▏                                                                | 3/882 [00:01<05:01,  2.92it/s, now=None]\u001b[A\n",
      "chunk:  31%|███████████████████                                           | 271/882 [00:01<00:01, 328.69it/s, now=None]\u001b[A\n",
      "chunk:  69%|███████████████████████████████████████████                   | 612/882 [00:01<00:00, 768.03it/s, now=None]\u001b[A\n",
      "                                                                                                                       \u001b[A"
     ]
    },
    {
     "name": "stdout",
     "output_type": "stream",
     "text": [
      "MoviePy - Done.\n",
      "MoviePy - Writing audio in ./WAV\\readnaversid1742oid437aid0000010025.wav\n"
     ]
    },
    {
     "name": "stderr",
     "output_type": "stream",
     "text": [
      "\n",
      "chunk:   0%|                                                                        | 0/1950 [00:00<?, ?it/s, now=None]\u001b[A\n",
      "chunk:   0%|                                                                | 3/1950 [00:01<11:16,  2.88it/s, now=None]\u001b[A\n",
      "chunk:  16%|█████████▌                                                   | 306/1950 [00:01<00:04, 365.29it/s, now=None]\u001b[A\n",
      "chunk:  34%|████████████████████▋                                        | 663/1950 [00:01<00:01, 816.39it/s, now=None]\u001b[A\n",
      "chunk:  50%|█████████████████████████████▊                              | 969/1950 [00:01<00:00, 1194.01it/s, now=None]\u001b[A\n",
      "chunk:  68%|████████████████████████████████████████                   | 1326/1950 [00:01<00:00, 1609.85it/s, now=None]\u001b[A\n",
      "chunk:  85%|██████████████████████████████████████████████████▍        | 1666/1950 [00:01<00:00, 1951.56it/s, now=None]\u001b[A\n",
      "                                                                                                                       \u001b[A"
     ]
    },
    {
     "name": "stdout",
     "output_type": "stream",
     "text": [
      "MoviePy - Done.\n",
      "MoviePy - Writing audio in ./WAV\\readnaversid1742oid437aid0000010026.wav\n"
     ]
    },
    {
     "name": "stderr",
     "output_type": "stream",
     "text": [
      "\n",
      "chunk:   0%|                                                                        | 0/1769 [00:00<?, ?it/s, now=None]\u001b[A\n",
      "chunk:   0%|                                                                | 3/1769 [00:01<10:12,  2.88it/s, now=None]\u001b[A\n",
      "chunk:  20%|████████████▎                                                | 357/1769 [00:01<00:03, 424.39it/s, now=None]\u001b[A\n",
      "chunk:  37%|██████████████████████▊                                      | 663/1769 [00:01<00:01, 807.00it/s, now=None]\u001b[A\n",
      "chunk:  55%|████████████████████████████████▊                           | 969/1769 [00:01<00:00, 1193.28it/s, now=None]\u001b[A\n",
      "chunk:  73%|██████████████████████████████████████████▉                | 1288/1769 [00:01<00:00, 1586.61it/s, now=None]\u001b[A\n",
      "chunk:  93%|██████████████████████████████████████████████████████▉    | 1647/1769 [00:01<00:00, 1962.03it/s, now=None]\u001b[A\n",
      "                                                                                                                       \u001b[A"
     ]
    },
    {
     "name": "stdout",
     "output_type": "stream",
     "text": [
      "MoviePy - Done.\n",
      "MoviePy - Writing audio in ./WAV\\readnaversid1742oid437aid0000010030.wav\n"
     ]
    },
    {
     "name": "stderr",
     "output_type": "stream",
     "text": [
      "\n",
      "chunk:   0%|                                                                        | 0/1610 [00:00<?, ?it/s, now=None]\u001b[A\n",
      "chunk:   0%|                                                                | 3/1610 [00:01<09:18,  2.88it/s, now=None]\u001b[A\n",
      "chunk:  22%|█████████████▌                                               | 357/1610 [00:01<00:02, 424.08it/s, now=None]\u001b[A\n",
      "chunk:  41%|████████████████████████▊                                    | 654/1610 [00:01<00:01, 794.23it/s, now=None]\u001b[A\n",
      "chunk:  60%|████████████████████████████████████▏                       | 971/1610 [00:01<00:00, 1172.65it/s, now=None]\u001b[A\n",
      "chunk:  80%|███████████████████████████████████████████████            | 1283/1610 [00:01<00:00, 1544.90it/s, now=None]\u001b[A\n",
      "chunk:  99%|██████████████████████████████████████████████████████████▍| 1594/1610 [00:01<00:00, 1882.19it/s, now=None]\u001b[A\n",
      "                                                                                                                       \u001b[A"
     ]
    },
    {
     "name": "stdout",
     "output_type": "stream",
     "text": [
      "MoviePy - Done.\n",
      "MoviePy - Writing audio in ./WAV\\readnaversid1742oid437aid0000010032.wav\n"
     ]
    },
    {
     "name": "stderr",
     "output_type": "stream",
     "text": [
      "\n",
      "chunk:   0%|                                                                        | 0/2363 [00:00<?, ?it/s, now=None]\u001b[A\n",
      "chunk:   0%|                                                                | 3/2363 [00:01<13:41,  2.87it/s, now=None]\u001b[A\n",
      "chunk:  14%|████████▎                                                    | 321/2363 [00:01<00:05, 384.03it/s, now=None]\u001b[A\n",
      "chunk:  29%|█████████████████▋                                           | 685/2363 [00:01<00:01, 842.28it/s, now=None]\u001b[A\n",
      "chunk:  42%|█████████████████████████                                  | 1002/2363 [00:01<00:01, 1235.25it/s, now=None]\u001b[A\n",
      "chunk:  58%|██████████████████████████████████▍                        | 1377/2363 [00:01<00:00, 1677.09it/s, now=None]\u001b[A\n",
      "chunk:  71%|█████████████████████████████████████████▊                 | 1675/2363 [00:01<00:00, 1947.06it/s, now=None]\u001b[A\n",
      "chunk:  86%|██████████████████████████████████████████████████▉        | 2040/2363 [00:01<00:00, 2257.20it/s, now=None]\u001b[A\n",
      "                                                                                                                       \u001b[A"
     ]
    },
    {
     "name": "stdout",
     "output_type": "stream",
     "text": [
      "MoviePy - Done.\n",
      "MoviePy - Writing audio in ./WAV\\readnaversid1742oid437aid0000010033.wav\n"
     ]
    },
    {
     "name": "stderr",
     "output_type": "stream",
     "text": [
      "\n",
      "chunk:   0%|                                                                        | 0/1751 [00:00<?, ?it/s, now=None]\u001b[A\n",
      "chunk:   0%|                                                                | 3/1751 [00:01<10:08,  2.87it/s, now=None]\u001b[A\n",
      "chunk:  17%|██████████▌                                                  | 302/1751 [00:01<00:04, 361.27it/s, now=None]\u001b[A\n",
      "chunk:  37%|██████████████████████▊                                      | 655/1751 [00:01<00:01, 806.70it/s, now=None]\u001b[A\n",
      "chunk:  56%|█████████████████████████████████▍                          | 974/1751 [00:01<00:00, 1207.18it/s, now=None]\u001b[A\n",
      "chunk:  77%|█████████████████████████████████████████████▌             | 1354/1751 [00:01<00:00, 1663.55it/s, now=None]\u001b[A\n",
      "chunk:  97%|█████████████████████████████████████████████████████████  | 1692/1751 [00:01<00:00, 1959.46it/s, now=None]\u001b[A\n",
      "                                                                                                                       \u001b[A"
     ]
    },
    {
     "name": "stdout",
     "output_type": "stream",
     "text": [
      "MoviePy - Done.\n",
      "wav 변환 성공 파일 수 : 8\n"
     ]
    }
   ],
   "source": [
    "MOV_to_WAV(Using_MOV_List)\n",
    "print('wav 변환 성공 파일 수 :', len(glob.glob('./WAV/*.wav')))"
   ]
  },
  {
   "cell_type": "code",
   "execution_count": 28,
   "id": "bf001efe",
   "metadata": {
    "scrolled": true
   },
   "outputs": [],
   "source": [
    "import torch\n",
    "import pyannote\n",
    "from pyannote.database import get_protocol\n",
    "from pyannote.database import FileFinder\n",
    "from pyannote.audio.utils.signal import Binarize\n",
    "\n",
    "from datetime import datetime, timedelta\n",
    "import time"
   ]
  },
  {
   "cell_type": "code",
   "execution_count": 29,
   "id": "91911551",
   "metadata": {},
   "outputs": [
    {
     "name": "stderr",
     "output_type": "stream",
     "text": [
      "Using cache found in C:\\Users\\TFG255S/.cache\\torch\\hub\\pyannote_pyannote-audio_master\n"
     ]
    }
   ],
   "source": [
    "# sad 모델 설정\n",
    "sad = torch.hub.load('pyannote/pyannote-audio', 'sad_ami')\n",
    "preprocessors = {'audio':FileFinder()}\n",
    "protocol = get_protocol('AMI.SpeakerDiarization.MixHeadset',\n",
    "                            preprocessors=preprocessors)\n",
    "    \n",
    "binarize = Binarize(offset=0.52, onset=0.52, log_scale=True,\n",
    "                    min_duration_off=0.1, min_duration_on=0.1)"
   ]
  },
  {
   "cell_type": "code",
   "execution_count": 30,
   "id": "ac28f912",
   "metadata": {},
   "outputs": [],
   "source": [
    "# Usig_sad 함수 : sad 모델 사용 함수\n",
    "def Using_sad(WAV_File):\n",
    "  test_file = {}\n",
    "  test_file['audio'] = WAV_File\n",
    "  sad_scores = sad(test_file)\n",
    "\n",
    "  speech = binarize.apply(sad_scores, dimension=1)\n",
    "\n",
    "  # TimeStamp 편집 과정 (기본값 : 0번째 소리를 선택)\n",
    "  a = str(speech[0])\n",
    "  a = re.sub(pattern='\\-\\-\\>', repl='', string=a)\n",
    "  a = re.sub(pattern='\\[', repl='', string=a)\n",
    "  a = re.sub(pattern='\\]', repl='', string=a)\n",
    "  a = str.split(a)\n",
    "  \n",
    "  b = a[1]\n",
    "  b = b.split(sep=':')\n",
    "  \n",
    "  target_sec = 0\n",
    "  index = 0\n",
    "  for i in reversed(b):\n",
    "    target_sec += float(i) * (60**index)\n",
    "    index += 1\n",
    "\n",
    "  # 0번째 소리가 잡음일 경우에는 1번째 소리를 선택\n",
    "  # target_sec < 1.5인 이유 : 잡음은 보통 1.5초 전에 인식이 끝나기 때문\n",
    "  # 주절주절 tmi : 음성 편집 기술이 덜 발달한 2010년대 초반 앵커 영상에 주로 그런 잡음이 들어 있음.\n",
    "  if target_sec < 1.5:\n",
    "    a = str(speech[1])\n",
    "    a = re.sub(pattern='\\-\\-\\>', repl='', string=a)\n",
    "    a = re.sub(pattern='\\[', repl='', string=a)\n",
    "    a = re.sub(pattern='\\]', repl='', string=a)\n",
    "    a = str.split(a)\n",
    "\n",
    "    b = a[1]\n",
    "    b = b.split(sep=':')\n",
    "\n",
    "    target_sec = 0\n",
    "    index = 0\n",
    "    for i in reversed(b):\n",
    "      target_sec += float(i) * (60**index)\n",
    "      index += 1\n",
    "\n",
    "  \n",
    "  # 앵커-리포터 전환 지점의 60%에 해당하는 곳은 앵커의 입모양, 말소리를 확실하게 캐치할 수 있음.\n",
    "  target_sec = target_sec * 0.6\n",
    "  print(WAV_File, ':', target_sec, 'sec')\n",
    "\n",
    "  return WAV_File, target_sec      "
   ]
  },
  {
   "cell_type": "code",
   "execution_count": 31,
   "id": "59009815",
   "metadata": {
    "scrolled": true
   },
   "outputs": [
    {
     "name": "stdout",
     "output_type": "stream",
     "text": [
      "Requirement already satisfied: pydub in c:\\programdata\\anaconda3\\lib\\site-packages (0.25.1)\n"
     ]
    },
    {
     "name": "stderr",
     "output_type": "stream",
     "text": [
      "WARNING: Ignoring invalid distribution -umpy (c:\\programdata\\anaconda3\\lib\\site-packages)\n",
      "WARNING: Ignoring invalid distribution -rllib3 (c:\\programdata\\anaconda3\\lib\\site-packages)\n",
      "WARNING: Ignoring invalid distribution -pype1 (c:\\programdata\\anaconda3\\lib\\site-packages)\n",
      "WARNING: Ignoring invalid distribution -onlpy (c:\\programdata\\anaconda3\\lib\\site-packages)\n",
      "WARNING: Ignoring invalid distribution -lick (c:\\programdata\\anaconda3\\lib\\site-packages)\n",
      "WARNING: Ignoring invalid distribution -eautifulsoup4 (c:\\programdata\\anaconda3\\lib\\site-packages)\n",
      "WARNING: Ignoring invalid distribution -umpy (c:\\programdata\\anaconda3\\lib\\site-packages)\n",
      "WARNING: Ignoring invalid distribution -rllib3 (c:\\programdata\\anaconda3\\lib\\site-packages)\n",
      "WARNING: Ignoring invalid distribution -pype1 (c:\\programdata\\anaconda3\\lib\\site-packages)\n",
      "WARNING: Ignoring invalid distribution -onlpy (c:\\programdata\\anaconda3\\lib\\site-packages)\n",
      "WARNING: Ignoring invalid distribution -lick (c:\\programdata\\anaconda3\\lib\\site-packages)\n",
      "WARNING: Ignoring invalid distribution -eautifulsoup4 (c:\\programdata\\anaconda3\\lib\\site-packages)\n",
      "WARNING: Ignoring invalid distribution -umpy (c:\\programdata\\anaconda3\\lib\\site-packages)\n",
      "WARNING: Ignoring invalid distribution -rllib3 (c:\\programdata\\anaconda3\\lib\\site-packages)\n",
      "WARNING: Ignoring invalid distribution -pype1 (c:\\programdata\\anaconda3\\lib\\site-packages)\n",
      "WARNING: Ignoring invalid distribution -onlpy (c:\\programdata\\anaconda3\\lib\\site-packages)\n",
      "WARNING: Ignoring invalid distribution -lick (c:\\programdata\\anaconda3\\lib\\site-packages)\n",
      "WARNING: Ignoring invalid distribution -eautifulsoup4 (c:\\programdata\\anaconda3\\lib\\site-packages)\n",
      "WARNING: Ignoring invalid distribution -umpy (c:\\programdata\\anaconda3\\lib\\site-packages)\n",
      "WARNING: Ignoring invalid distribution -rllib3 (c:\\programdata\\anaconda3\\lib\\site-packages)\n",
      "WARNING: Ignoring invalid distribution -pype1 (c:\\programdata\\anaconda3\\lib\\site-packages)\n",
      "WARNING: Ignoring invalid distribution -onlpy (c:\\programdata\\anaconda3\\lib\\site-packages)\n",
      "WARNING: Ignoring invalid distribution -lick (c:\\programdata\\anaconda3\\lib\\site-packages)\n",
      "WARNING: Ignoring invalid distribution -eautifulsoup4 (c:\\programdata\\anaconda3\\lib\\site-packages)\n",
      "WARNING: Ignoring invalid distribution -umpy (c:\\programdata\\anaconda3\\lib\\site-packages)\n",
      "WARNING: Ignoring invalid distribution -rllib3 (c:\\programdata\\anaconda3\\lib\\site-packages)\n",
      "WARNING: Ignoring invalid distribution -pype1 (c:\\programdata\\anaconda3\\lib\\site-packages)\n",
      "WARNING: Ignoring invalid distribution -onlpy (c:\\programdata\\anaconda3\\lib\\site-packages)\n",
      "WARNING: Ignoring invalid distribution -lick (c:\\programdata\\anaconda3\\lib\\site-packages)\n",
      "WARNING: Ignoring invalid distribution -eautifulsoup4 (c:\\programdata\\anaconda3\\lib\\site-packages)\n",
      "WARNING: Ignoring invalid distribution -umpy (c:\\programdata\\anaconda3\\lib\\site-packages)\n",
      "WARNING: Ignoring invalid distribution -rllib3 (c:\\programdata\\anaconda3\\lib\\site-packages)\n",
      "WARNING: Ignoring invalid distribution -pype1 (c:\\programdata\\anaconda3\\lib\\site-packages)\n",
      "WARNING: Ignoring invalid distribution -onlpy (c:\\programdata\\anaconda3\\lib\\site-packages)\n",
      "WARNING: Ignoring invalid distribution -lick (c:\\programdata\\anaconda3\\lib\\site-packages)\n",
      "WARNING: Ignoring invalid distribution -eautifulsoup4 (c:\\programdata\\anaconda3\\lib\\site-packages)\n"
     ]
    }
   ],
   "source": [
    "!pip install pydub"
   ]
  },
  {
   "cell_type": "code",
   "execution_count": 32,
   "id": "57bf54c6",
   "metadata": {
    "scrolled": true
   },
   "outputs": [
    {
     "name": "stdout",
     "output_type": "stream",
     "text": [
      "Requirement already satisfied: speechrecognition in c:\\programdata\\anaconda3\\lib\\site-packages (3.8.1)\n"
     ]
    },
    {
     "name": "stderr",
     "output_type": "stream",
     "text": [
      "WARNING: Ignoring invalid distribution -umpy (c:\\programdata\\anaconda3\\lib\\site-packages)\n",
      "WARNING: Ignoring invalid distribution -rllib3 (c:\\programdata\\anaconda3\\lib\\site-packages)\n",
      "WARNING: Ignoring invalid distribution -pype1 (c:\\programdata\\anaconda3\\lib\\site-packages)\n",
      "WARNING: Ignoring invalid distribution -onlpy (c:\\programdata\\anaconda3\\lib\\site-packages)\n",
      "WARNING: Ignoring invalid distribution -lick (c:\\programdata\\anaconda3\\lib\\site-packages)\n",
      "WARNING: Ignoring invalid distribution -eautifulsoup4 (c:\\programdata\\anaconda3\\lib\\site-packages)\n",
      "WARNING: Ignoring invalid distribution -umpy (c:\\programdata\\anaconda3\\lib\\site-packages)\n",
      "WARNING: Ignoring invalid distribution -rllib3 (c:\\programdata\\anaconda3\\lib\\site-packages)\n",
      "WARNING: Ignoring invalid distribution -pype1 (c:\\programdata\\anaconda3\\lib\\site-packages)\n",
      "WARNING: Ignoring invalid distribution -onlpy (c:\\programdata\\anaconda3\\lib\\site-packages)\n",
      "WARNING: Ignoring invalid distribution -lick (c:\\programdata\\anaconda3\\lib\\site-packages)\n",
      "WARNING: Ignoring invalid distribution -eautifulsoup4 (c:\\programdata\\anaconda3\\lib\\site-packages)\n",
      "WARNING: Ignoring invalid distribution -umpy (c:\\programdata\\anaconda3\\lib\\site-packages)\n",
      "WARNING: Ignoring invalid distribution -rllib3 (c:\\programdata\\anaconda3\\lib\\site-packages)\n",
      "WARNING: Ignoring invalid distribution -pype1 (c:\\programdata\\anaconda3\\lib\\site-packages)\n",
      "WARNING: Ignoring invalid distribution -onlpy (c:\\programdata\\anaconda3\\lib\\site-packages)\n",
      "WARNING: Ignoring invalid distribution -lick (c:\\programdata\\anaconda3\\lib\\site-packages)\n",
      "WARNING: Ignoring invalid distribution -eautifulsoup4 (c:\\programdata\\anaconda3\\lib\\site-packages)\n",
      "WARNING: Ignoring invalid distribution -umpy (c:\\programdata\\anaconda3\\lib\\site-packages)\n",
      "WARNING: Ignoring invalid distribution -rllib3 (c:\\programdata\\anaconda3\\lib\\site-packages)\n",
      "WARNING: Ignoring invalid distribution -pype1 (c:\\programdata\\anaconda3\\lib\\site-packages)\n",
      "WARNING: Ignoring invalid distribution -onlpy (c:\\programdata\\anaconda3\\lib\\site-packages)\n",
      "WARNING: Ignoring invalid distribution -lick (c:\\programdata\\anaconda3\\lib\\site-packages)\n",
      "WARNING: Ignoring invalid distribution -eautifulsoup4 (c:\\programdata\\anaconda3\\lib\\site-packages)\n",
      "WARNING: Ignoring invalid distribution -umpy (c:\\programdata\\anaconda3\\lib\\site-packages)\n",
      "WARNING: Ignoring invalid distribution -rllib3 (c:\\programdata\\anaconda3\\lib\\site-packages)\n",
      "WARNING: Ignoring invalid distribution -pype1 (c:\\programdata\\anaconda3\\lib\\site-packages)\n",
      "WARNING: Ignoring invalid distribution -onlpy (c:\\programdata\\anaconda3\\lib\\site-packages)\n",
      "WARNING: Ignoring invalid distribution -lick (c:\\programdata\\anaconda3\\lib\\site-packages)\n",
      "WARNING: Ignoring invalid distribution -eautifulsoup4 (c:\\programdata\\anaconda3\\lib\\site-packages)\n",
      "WARNING: Ignoring invalid distribution -umpy (c:\\programdata\\anaconda3\\lib\\site-packages)\n",
      "WARNING: Ignoring invalid distribution -rllib3 (c:\\programdata\\anaconda3\\lib\\site-packages)\n",
      "WARNING: Ignoring invalid distribution -pype1 (c:\\programdata\\anaconda3\\lib\\site-packages)\n",
      "WARNING: Ignoring invalid distribution -onlpy (c:\\programdata\\anaconda3\\lib\\site-packages)\n",
      "WARNING: Ignoring invalid distribution -lick (c:\\programdata\\anaconda3\\lib\\site-packages)\n",
      "WARNING: Ignoring invalid distribution -eautifulsoup4 (c:\\programdata\\anaconda3\\lib\\site-packages)\n"
     ]
    }
   ],
   "source": [
    "!pip install speechrecognition"
   ]
  },
  {
   "cell_type": "code",
   "execution_count": 33,
   "id": "5c4ffc8d",
   "metadata": {},
   "outputs": [],
   "source": [
    "import moviepy.editor as mp\n",
    "from pydub import AudioSegment\n",
    "from pydub.silence import detect_nonsilent\n",
    "import re\n",
    "from moviepy.video.io.ffmpeg_tools import ffmpeg_extract_subclip\n",
    "import os\n",
    "import speech_recognition as sr"
   ]
  },
  {
   "cell_type": "code",
   "execution_count": 34,
   "id": "833cb0d2",
   "metadata": {},
   "outputs": [],
   "source": [
    "def face_crop_vid (Clean_File_name):\n",
    "  # 얼굴 인식 모델 가중치 파일\n",
    "  face_cascade = cv2.CascadeClassifier('haarcascade_frontalface_alt.xml')\n",
    "\n",
    "  # [ 1단계 ] 얼굴 좌표 구하기 - 첫 프레임만 사용\n",
    "  # 얼굴 좌표 구할 파일 정보\n",
    "  File_name = './CUT_VID/' + Clean_File_name + '.mp4'\n",
    "  print(File_name)\n",
    "  video1 =  cv2.VideoCapture(File_name)\n",
    "\n",
    "  # 얼굴 좌표 구하기 작업\n",
    "  ret, pic = video1.read()\n",
    "  pic[0]\n",
    "\n",
    "  gray = cv2.cvtColor(pic, cv2.COLOR_BGR2GRAY)\n",
    "  faces = face_cascade.detectMultiScale(gray, \n",
    "                                        scaleFactor=1.3, \n",
    "                                        minNeighbors=5, minSize=(20,20))\n",
    "  \n",
    "  face = faces[0]\n",
    "  x, y, w, h = face\n",
    "  \n",
    "  video1.release()\n",
    "\n",
    "\n",
    "  # [2단계] 비디오 저장 처리 - 영상 속 모든 프레임 사용 \n",
    "  video2 =  cv2.VideoCapture(File_name)\n",
    "  \n",
    "  # 저장할 파일 양식 지정\n",
    "  fps = video2.get(cv2.CAP_PROP_FPS)\n",
    "  fourcc = cv2.VideoWriter_fourcc(*'DIVX')\n",
    "  width = video2.get(cv2.CAP_PROP_FRAME_WIDTH)\n",
    "  height = video2.get(cv2.CAP_PROP_FRAME_HEIGHT)\n",
    "  size = (round(width), round(height))\n",
    "  out = cv2.VideoWriter('./FINAL_VID/%s.avi' %Clean_File_name, fourcc, fps, size)\n",
    "    \n",
    "  # 파일 처리 작업\n",
    "  while (video2.isOpened()):\n",
    "    ret, frame = video2.read()\n",
    "\n",
    "    if not ret:\n",
    "        break\n",
    "\n",
    "    cropped = frame[y - int(h/4):y + h + int(h/4), \n",
    "                    x - int(w/4):x + w + int(w/4)]\n",
    "    \n",
    "    cropped = cv2.resize(cropped,dsize=(round(width), round(height)), interpolation=cv2.INTER_LINEAR)\n",
    "\n",
    "    # 위에서 자른 얼굴 위치를 토대로 프레임 저장 (연속적 프레임이므로 영상 형태)\n",
    "    out.write(cropped)\n",
    "\n",
    "  out.release()\n",
    "  video2.release()\n"
   ]
  },
  {
   "cell_type": "code",
   "execution_count": 35,
   "id": "2df4f657",
   "metadata": {
    "scrolled": true
   },
   "outputs": [
    {
     "data": {
      "application/vnd.jupyter.widget-view+json": {
       "model_id": "0ffa8b72ce4149c3a768de0f2f65e7fc",
       "version_major": 2,
       "version_minor": 0
      },
      "text/plain": [
       "  0%|          | 0/8 [00:00<?, ?it/s]"
      ]
     },
     "metadata": {},
     "output_type": "display_data"
    },
    {
     "name": "stdout",
     "output_type": "stream",
     "text": [
      "./WAV/readnaversid1742oid437aid0000010021.wav\n",
      "./WAV/readnaversid1742oid437aid0000010021.wav : 7.194599999999999 sec\n",
      "./MOV/readnaversid1742oid437aid0000010021.mp4\n",
      "Moviepy - Building video ./CUT_VID/readnaversid1742oid437aid0000010021.mp4.\n",
      "MoviePy - Writing audio in readnaversid1742oid437aid0000010021TEMP_MPY_wvf_snd.mp3\n"
     ]
    },
    {
     "name": "stderr",
     "output_type": "stream",
     "text": [
      "\n",
      "chunk:   0%|                                                                         | 0/159 [00:00<?, ?it/s, now=None]\u001b[A\n",
      "chunk:   1%|▊                                                                | 2/159 [00:01<01:22,  1.91it/s, now=None]\u001b[A\n",
      "chunk:  96%|███████████████████████████████████████████████████████████▋  | 153/159 [00:01<00:00, 182.06it/s, now=None]\u001b[A\n",
      "                                                                                                                       \u001b[A"
     ]
    },
    {
     "name": "stdout",
     "output_type": "stream",
     "text": [
      "MoviePy - Done.\n",
      "Moviepy - Writing video ./CUT_VID/readnaversid1742oid437aid0000010021.mp4\n",
      "\n"
     ]
    },
    {
     "name": "stderr",
     "output_type": "stream",
     "text": [
      "\n",
      "t:   0%|                                                                             | 0/173 [00:00<?, ?it/s, now=None]\u001b[A\n",
      "t:   1%|▊                                                                    | 2/173 [00:01<01:28,  1.92it/s, now=None]\u001b[A\n",
      "t:  33%|██████████████████████▍                                             | 57/173 [00:01<00:01, 67.05it/s, now=None]\u001b[A\n",
      "t:  51%|██████████████████████████████████▉                                 | 89/173 [00:01<00:00, 98.87it/s, now=None]\u001b[A\n",
      "t:  69%|█████████████████████████████████████████████▊                    | 120/173 [00:01<00:00, 127.18it/s, now=None]\u001b[A\n",
      "t:  85%|████████████████████████████████████████████████████████          | 147/173 [00:01<00:00, 148.61it/s, now=None]\u001b[A\n",
      "                                                                                                                       \u001b[A"
     ]
    },
    {
     "name": "stdout",
     "output_type": "stream",
     "text": [
      "Moviepy - Done !\n",
      "Moviepy - video ready ./CUT_VID/readnaversid1742oid437aid0000010021.mp4\n",
      "MoviePy - Writing audio in ./CUT_WAV/readnaversid1742oid437aid0000010021.wav\n"
     ]
    },
    {
     "name": "stderr",
     "output_type": "stream",
     "text": [
      "\n",
      "chunk:   0%|                                                                         | 0/160 [00:00<?, ?it/s, now=None]\u001b[A\n",
      "chunk:   2%|█▏                                                               | 3/160 [00:01<00:55,  2.84it/s, now=None]\u001b[A\n",
      "                                                                                                                       \u001b[A"
     ]
    },
    {
     "name": "stdout",
     "output_type": "stream",
     "text": [
      "MoviePy - Done.\n",
      "./CUT_VID/readnaversid1742oid437aid0000010021.mp4\n",
      "./WAV/readnaversid1742oid437aid0000010022.wav\n",
      "./WAV/readnaversid1742oid437aid0000010022.wav : 8.2212 sec\n",
      "./MOV/readnaversid1742oid437aid0000010022.mp4\n",
      "Moviepy - Building video ./CUT_VID/readnaversid1742oid437aid0000010022.mp4.\n",
      "MoviePy - Writing audio in readnaversid1742oid437aid0000010022TEMP_MPY_wvf_snd.mp3\n"
     ]
    },
    {
     "name": "stderr",
     "output_type": "stream",
     "text": [
      "\n",
      "chunk:   0%|                                                                         | 0/182 [00:00<?, ?it/s, now=None]\u001b[A\n",
      "chunk:   1%|▋                                                                | 2/182 [00:01<01:33,  1.92it/s, now=None]\u001b[A\n",
      "chunk:  84%|████████████████████████████████████████████████████          | 153/182 [00:01<00:00, 182.78it/s, now=None]\u001b[A\n",
      "                                                                                                                       \u001b[A"
     ]
    },
    {
     "name": "stdout",
     "output_type": "stream",
     "text": [
      "MoviePy - Done.\n",
      "Moviepy - Writing video ./CUT_VID/readnaversid1742oid437aid0000010022.mp4\n",
      "\n"
     ]
    },
    {
     "name": "stderr",
     "output_type": "stream",
     "text": [
      "\n",
      "t:   0%|                                                                             | 0/198 [00:00<?, ?it/s, now=None]\u001b[A\n",
      "t:   1%|▋                                                                    | 2/198 [00:01<01:42,  1.91it/s, now=None]\u001b[A\n",
      "t:  29%|███████████████████▌                                                | 57/198 [00:01<00:02, 67.31it/s, now=None]\u001b[A\n",
      "t:  45%|██████████████████████████████▌                                     | 89/198 [00:01<00:01, 99.36it/s, now=None]\u001b[A\n",
      "t:  59%|███████████████████████████████████████                           | 117/198 [00:01<00:00, 126.27it/s, now=None]\u001b[A\n",
      "t:  75%|█████████████████████████████████████████████████▋                | 149/198 [00:01<00:00, 157.73it/s, now=None]\u001b[A\n",
      "t:  90%|███████████████████████████████████████████████████████████▎      | 178/198 [00:01<00:00, 184.64it/s, now=None]\u001b[A\n",
      "                                                                                                                       \u001b[A"
     ]
    },
    {
     "name": "stdout",
     "output_type": "stream",
     "text": [
      "Moviepy - Done !\n",
      "Moviepy - video ready ./CUT_VID/readnaversid1742oid437aid0000010022.mp4\n",
      "MoviePy - Writing audio in ./CUT_WAV/readnaversid1742oid437aid0000010022.wav\n"
     ]
    },
    {
     "name": "stderr",
     "output_type": "stream",
     "text": [
      "\n",
      "chunk:   0%|                                                                         | 0/183 [00:00<?, ?it/s, now=None]\u001b[A\n",
      "chunk:   2%|█                                                                | 3/183 [00:01<01:02,  2.88it/s, now=None]\u001b[A\n",
      "                                                                                                                       \u001b[A"
     ]
    },
    {
     "name": "stdout",
     "output_type": "stream",
     "text": [
      "MoviePy - Done.\n",
      "./CUT_VID/readnaversid1742oid437aid0000010022.mp4\n",
      "./WAV/readnaversid1742oid437aid0000010024.wav\n",
      "./WAV/readnaversid1742oid437aid0000010024.wav : 23.720399999999998 sec\n",
      "앵커 없이 리포터만 말하는 영상이므로 skip\n",
      "./WAV/readnaversid1742oid437aid0000010025.wav\n",
      "./WAV/readnaversid1742oid437aid0000010025.wav : 10.3698 sec\n",
      "./MOV/readnaversid1742oid437aid0000010025.mp4\n",
      "Moviepy - Building video ./CUT_VID/readnaversid1742oid437aid0000010025.mp4.\n",
      "MoviePy - Writing audio in readnaversid1742oid437aid0000010025TEMP_MPY_wvf_snd.mp3\n"
     ]
    },
    {
     "name": "stderr",
     "output_type": "stream",
     "text": [
      "\n",
      "chunk:   0%|                                                                         | 0/229 [00:00<?, ?it/s, now=None]\u001b[A\n",
      "chunk:   1%|▌                                                                | 2/229 [00:01<01:58,  1.92it/s, now=None]\u001b[A\n",
      "chunk:  67%|█████████████████████████████████████████▋                    | 154/229 [00:01<00:00, 182.53it/s, now=None]\u001b[A\n",
      "                                                                                                                       \u001b[A"
     ]
    },
    {
     "name": "stdout",
     "output_type": "stream",
     "text": [
      "MoviePy - Done.\n",
      "Moviepy - Writing video ./CUT_VID/readnaversid1742oid437aid0000010025.mp4\n",
      "\n"
     ]
    },
    {
     "name": "stderr",
     "output_type": "stream",
     "text": [
      "\n",
      "t:   0%|                                                                             | 0/249 [00:00<?, ?it/s, now=None]\u001b[A\n",
      "t:   1%|▌                                                                    | 2/249 [00:01<02:09,  1.90it/s, now=None]\u001b[A\n",
      "t:  23%|███████████████▊                                                    | 58/249 [00:01<00:02, 67.68it/s, now=None]\u001b[A\n",
      "t:  36%|███████████████████████▉                                           | 89/249 [00:01<00:01, 100.21it/s, now=None]\u001b[A\n",
      "t:  47%|███████████████████████████████▎                                  | 118/249 [00:01<00:01, 125.28it/s, now=None]\u001b[A\n",
      "t:  58%|██████████████████████████████████████▍                           | 145/249 [00:01<00:00, 147.08it/s, now=None]\u001b[A\n",
      "t:  68%|█████████████████████████████████████████████                     | 170/249 [00:01<00:00, 167.87it/s, now=None]\u001b[A\n",
      "t:  79%|████████████████████████████████████████████████████▏             | 197/249 [00:01<00:00, 178.53it/s, now=None]\u001b[A\n",
      "t:  89%|██████████████████████████████████████████████████████████▊       | 222/249 [00:01<00:00, 193.78it/s, now=None]\u001b[A\n",
      "t: 100%|█████████████████████████████████████████████████████████████████▋| 248/249 [00:01<00:00, 202.79it/s, now=None]\u001b[A\n",
      "                                                                                                                       \u001b[A"
     ]
    },
    {
     "name": "stdout",
     "output_type": "stream",
     "text": [
      "Moviepy - Done !\n",
      "Moviepy - video ready ./CUT_VID/readnaversid1742oid437aid0000010025.mp4\n",
      "MoviePy - Writing audio in ./CUT_WAV/readnaversid1742oid437aid0000010025.wav\n"
     ]
    },
    {
     "name": "stderr",
     "output_type": "stream",
     "text": [
      "\n",
      "chunk:   0%|                                                                         | 0/230 [00:00<?, ?it/s, now=None]\u001b[A\n",
      "chunk:   1%|▊                                                                | 3/230 [00:01<01:18,  2.87it/s, now=None]\u001b[A\n",
      "                                                                                                                       \u001b[A"
     ]
    },
    {
     "name": "stdout",
     "output_type": "stream",
     "text": [
      "MoviePy - Done.\n",
      "./CUT_VID/readnaversid1742oid437aid0000010025.mp4\n",
      "./WAV/readnaversid1742oid437aid0000010026.wav\n",
      "./WAV/readnaversid1742oid437aid0000010026.wav : 2.7498 sec\n",
      "./MOV/readnaversid1742oid437aid0000010026.mp4\n",
      "Moviepy - Building video ./CUT_VID/readnaversid1742oid437aid0000010026.mp4.\n",
      "MoviePy - Writing audio in readnaversid1742oid437aid0000010026TEMP_MPY_wvf_snd.mp3\n"
     ]
    },
    {
     "name": "stderr",
     "output_type": "stream",
     "text": [
      "\n",
      "chunk:   0%|                                                                          | 0/61 [00:00<?, ?it/s, now=None]\u001b[A\n",
      "chunk:   3%|██▏                                                               | 2/61 [00:01<00:30,  1.90it/s, now=None]\u001b[A\n",
      "                                                                                                                       \u001b[A"
     ]
    },
    {
     "name": "stdout",
     "output_type": "stream",
     "text": [
      "MoviePy - Done.\n",
      "Moviepy - Writing video ./CUT_VID/readnaversid1742oid437aid0000010026.mp4\n",
      "\n"
     ]
    },
    {
     "name": "stderr",
     "output_type": "stream",
     "text": [
      "\n",
      "t:   0%|                                                                              | 0/66 [00:00<?, ?it/s, now=None]\u001b[A\n",
      "t:   3%|██                                                                    | 2/66 [00:01<00:33,  1.91it/s, now=None]\u001b[A\n",
      "t:  86%|███████████████████████████████████████████████████████████▌         | 57/66 [00:01<00:00, 66.82it/s, now=None]\u001b[A\n",
      "                                                                                                                       \u001b[A"
     ]
    },
    {
     "name": "stdout",
     "output_type": "stream",
     "text": [
      "Moviepy - Done !\n",
      "Moviepy - video ready ./CUT_VID/readnaversid1742oid437aid0000010026.mp4\n",
      "MoviePy - Writing audio in ./CUT_WAV/readnaversid1742oid437aid0000010026.wav\n"
     ]
    },
    {
     "name": "stderr",
     "output_type": "stream",
     "text": [
      "\n",
      "chunk:   0%|                                                                          | 0/62 [00:00<?, ?it/s, now=None]\u001b[A\n",
      "chunk:   5%|███▏                                                              | 3/62 [00:01<00:22,  2.59it/s, now=None]\u001b[A\n",
      "                                                                                                                       \u001b[A"
     ]
    },
    {
     "name": "stdout",
     "output_type": "stream",
     "text": [
      "MoviePy - Done.\n",
      "./CUT_VID/readnaversid1742oid437aid0000010026.mp4\n",
      "./WAV/readnaversid1742oid437aid0000010030.wav\n",
      "./WAV/readnaversid1742oid437aid0000010030.wav : 6.854399999999999 sec\n",
      "./MOV/readnaversid1742oid437aid0000010030.mp4\n",
      "Moviepy - Building video ./CUT_VID/readnaversid1742oid437aid0000010030.mp4.\n",
      "MoviePy - Writing audio in readnaversid1742oid437aid0000010030TEMP_MPY_wvf_snd.mp3\n"
     ]
    },
    {
     "name": "stderr",
     "output_type": "stream",
     "text": [
      "\n",
      "chunk:   0%|                                                                         | 0/152 [00:00<?, ?it/s, now=None]\u001b[A\n",
      "chunk:   1%|▊                                                                | 2/152 [00:01<01:21,  1.84it/s, now=None]\u001b[A\n",
      "                                                                                                                       \u001b[A"
     ]
    },
    {
     "name": "stdout",
     "output_type": "stream",
     "text": [
      "MoviePy - Done.\n",
      "Moviepy - Writing video ./CUT_VID/readnaversid1742oid437aid0000010030.mp4\n",
      "\n"
     ]
    },
    {
     "name": "stderr",
     "output_type": "stream",
     "text": [
      "\n",
      "t:   0%|                                                                             | 0/165 [00:00<?, ?it/s, now=None]\u001b[A\n",
      "t:   1%|▊                                                                    | 2/165 [00:01<01:28,  1.85it/s, now=None]\u001b[A\n",
      "t:  35%|███████████████████████▍                                            | 57/165 [00:01<00:01, 65.41it/s, now=None]\u001b[A\n",
      "t:  53%|████████████████████████████████████▎                               | 88/165 [00:01<00:00, 98.13it/s, now=None]\u001b[A\n",
      "t:  72%|███████████████████████████████████████████████▌                  | 119/165 [00:01<00:00, 126.31it/s, now=None]\u001b[A\n",
      "t:  92%|████████████████████████████████████████████████████████████▍     | 151/165 [00:01<00:00, 157.41it/s, now=None]\u001b[A\n",
      "                                                                                                                       \u001b[A"
     ]
    },
    {
     "name": "stdout",
     "output_type": "stream",
     "text": [
      "Moviepy - Done !\n",
      "Moviepy - video ready ./CUT_VID/readnaversid1742oid437aid0000010030.mp4\n",
      "MoviePy - Writing audio in ./CUT_WAV/readnaversid1742oid437aid0000010030.wav\n"
     ]
    },
    {
     "name": "stderr",
     "output_type": "stream",
     "text": [
      "\n",
      "chunk:   0%|                                                                         | 0/153 [00:00<?, ?it/s, now=None]\u001b[A\n",
      "chunk:   2%|█▎                                                               | 3/153 [00:01<00:54,  2.77it/s, now=None]\u001b[A\n",
      "                                                                                                                       \u001b[A"
     ]
    },
    {
     "name": "stdout",
     "output_type": "stream",
     "text": [
      "MoviePy - Done.\n",
      "./CUT_VID/readnaversid1742oid437aid0000010030.mp4\n",
      "./WAV/readnaversid1742oid437aid0000010032.wav\n",
      "./WAV/readnaversid1742oid437aid0000010032.wav : 7.371599999999999 sec\n",
      "./MOV/readnaversid1742oid437aid0000010032.mp4\n",
      "Moviepy - Building video ./CUT_VID/readnaversid1742oid437aid0000010032.mp4.\n",
      "MoviePy - Writing audio in readnaversid1742oid437aid0000010032TEMP_MPY_wvf_snd.mp3\n"
     ]
    },
    {
     "name": "stderr",
     "output_type": "stream",
     "text": [
      "\n",
      "chunk:   0%|                                                                         | 0/163 [00:00<?, ?it/s, now=None]\u001b[A\n",
      "chunk:   1%|▊                                                                | 2/163 [00:01<01:31,  1.77it/s, now=None]\u001b[A\n",
      "chunk:  97%|████████████████████████████████████████████████████████████  | 158/163 [00:01<00:00, 174.95it/s, now=None]\u001b[A\n",
      "                                                                                                                       \u001b[A"
     ]
    },
    {
     "name": "stdout",
     "output_type": "stream",
     "text": [
      "MoviePy - Done.\n",
      "Moviepy - Writing video ./CUT_VID/readnaversid1742oid437aid0000010032.mp4\n",
      "\n"
     ]
    },
    {
     "name": "stderr",
     "output_type": "stream",
     "text": [
      "\n",
      "t:   0%|                                                                             | 0/177 [00:00<?, ?it/s, now=None]\u001b[A\n",
      "t:   1%|▊                                                                    | 2/177 [00:01<01:31,  1.91it/s, now=None]\u001b[A\n",
      "t:  32%|█████████████████████▉                                              | 57/177 [00:01<00:01, 65.86it/s, now=None]\u001b[A\n",
      "t:  49%|█████████████████████████████████▍                                  | 87/177 [00:01<00:00, 97.31it/s, now=None]\u001b[A\n",
      "t:  67%|████████████████████████████████████████████                      | 118/177 [00:01<00:00, 126.31it/s, now=None]\u001b[A\n",
      "t:  84%|███████████████████████████████████████████████████████▏          | 148/177 [00:01<00:00, 153.19it/s, now=None]\u001b[A\n",
      "t:  99%|█████████████████████████████████████████████████████████████████▋| 176/177 [00:01<00:00, 178.90it/s, now=None]\u001b[A\n",
      "                                                                                                                       \u001b[A"
     ]
    },
    {
     "name": "stdout",
     "output_type": "stream",
     "text": [
      "Moviepy - Done !\n",
      "Moviepy - video ready ./CUT_VID/readnaversid1742oid437aid0000010032.mp4\n",
      "MoviePy - Writing audio in ./CUT_WAV/readnaversid1742oid437aid0000010032.wav\n"
     ]
    },
    {
     "name": "stderr",
     "output_type": "stream",
     "text": [
      "\n",
      "chunk:   0%|                                                                         | 0/164 [00:00<?, ?it/s, now=None]\u001b[A\n",
      "chunk:   2%|█▏                                                               | 3/164 [00:01<00:56,  2.86it/s, now=None]\u001b[A\n",
      "                                                                                                                       \u001b[A"
     ]
    },
    {
     "name": "stdout",
     "output_type": "stream",
     "text": [
      "MoviePy - Done.\n",
      "./CUT_VID/readnaversid1742oid437aid0000010032.mp4\n",
      "./WAV/readnaversid1742oid437aid0000010033.wav\n",
      "./WAV/readnaversid1742oid437aid0000010033.wav : 10.047 sec\n",
      "./MOV/readnaversid1742oid437aid0000010033.mp4\n",
      "Moviepy - Building video ./CUT_VID/readnaversid1742oid437aid0000010033.mp4.\n",
      "MoviePy - Writing audio in readnaversid1742oid437aid0000010033TEMP_MPY_wvf_snd.mp3\n"
     ]
    },
    {
     "name": "stderr",
     "output_type": "stream",
     "text": [
      "\n",
      "chunk:   0%|                                                                         | 0/222 [00:00<?, ?it/s, now=None]\u001b[A\n",
      "chunk:   1%|▌                                                                | 2/222 [00:01<01:57,  1.87it/s, now=None]\u001b[A\n",
      "chunk:  69%|██████████████████████████████████████████▋                   | 153/222 [00:01<00:00, 178.56it/s, now=None]\u001b[A\n",
      "                                                                                                                       \u001b[A"
     ]
    },
    {
     "name": "stdout",
     "output_type": "stream",
     "text": [
      "MoviePy - Done.\n",
      "Moviepy - Writing video ./CUT_VID/readnaversid1742oid437aid0000010033.mp4\n",
      "\n"
     ]
    },
    {
     "name": "stderr",
     "output_type": "stream",
     "text": [
      "\n",
      "t:   0%|                                                                             | 0/242 [00:00<?, ?it/s, now=None]\u001b[A\n",
      "t:   1%|▌                                                                    | 2/242 [00:01<02:08,  1.87it/s, now=None]\u001b[A\n",
      "t:  24%|████████████████                                                    | 57/242 [00:01<00:02, 65.53it/s, now=None]\u001b[A\n",
      "t:  36%|████████████████████████▏                                           | 86/242 [00:01<00:01, 95.40it/s, now=None]\u001b[A\n",
      "t:  48%|███████████████████████████████▎                                  | 115/242 [00:01<00:01, 124.19it/s, now=None]\u001b[A\n",
      "t:  60%|███████████████████████████████████████▎                          | 144/242 [00:01<00:00, 150.43it/s, now=None]\u001b[A\n",
      "t:  73%|████████████████████████████████████████████████                  | 176/242 [00:01<00:00, 179.93it/s, now=None]\u001b[A\n",
      "t:  84%|███████████████████████████████████████████████████████▎          | 203/242 [00:01<00:00, 199.52it/s, now=None]\u001b[A\n",
      "t:  97%|███████████████████████████████████████████████████████████████▊  | 234/242 [00:01<00:00, 217.92it/s, now=None]\u001b[A\n",
      "                                                                                                                       \u001b[A"
     ]
    },
    {
     "name": "stdout",
     "output_type": "stream",
     "text": [
      "Moviepy - Done !\n",
      "Moviepy - video ready ./CUT_VID/readnaversid1742oid437aid0000010033.mp4\n",
      "MoviePy - Writing audio in ./CUT_WAV/readnaversid1742oid437aid0000010033.wav\n"
     ]
    },
    {
     "name": "stderr",
     "output_type": "stream",
     "text": [
      "\n",
      "chunk:   0%|                                                                         | 0/223 [00:00<?, ?it/s, now=None]\u001b[A\n",
      "chunk:   1%|▊                                                                | 3/223 [00:01<01:24,  2.60it/s, now=None]\u001b[A\n",
      "                                                                                                                       \u001b[A"
     ]
    },
    {
     "name": "stdout",
     "output_type": "stream",
     "text": [
      "MoviePy - Done.\n",
      "./CUT_VID/readnaversid1742oid437aid0000010033.mp4\n"
     ]
    }
   ],
   "source": [
    "## 파일 전체 대상으로 코드 돌리기 \n",
    "# (문장 단위로 끊기에는 문장과 문장을 연달아 하는 발음이 많아서 앵커 대사 기준으로 끊어봤음)\n",
    "\n",
    "for File in notebook.tqdm(Clean_File_List):\n",
    "  # 시간 좌표 구하기 (통문장)\n",
    "  WAV_File = './WAV/' + File + '.wav'\n",
    "  print(WAV_File)\n",
    "  WAV_File, target_sec = Using_sad(WAV_File)\n",
    "\n",
    "  # target_sec * 0.6 과정을 거쳤는데도 값이 20을 넘기면 그건 리포터가 쭉 말하고 있는 거임.\n",
    "  # 따라서 이런 영상(앵커 없이 리포터만 말하는 것)들은 제외해야 함. \n",
    "  if target_sec > 20:\n",
    "    print('앵커 없이 리포터만 말하는 영상이므로 skip')\n",
    "    continue\n",
    "\n",
    "  MOV_File = './MOV/' + File + '.mp4'\n",
    "  print(MOV_File)\n",
    "\n",
    "  # 시간 좌표 토대로 영상 자르기 \n",
    "  clip = mp.VideoFileClip(MOV_File)\n",
    "  video_clip = clip.subclip(0, target_sec)\n",
    "  video_clip.write_videofile('./CUT_VID/' + File + '.mp4')\n",
    "\n",
    "  clip2 = mp.VideoFileClip('./CUT_VID/' + File + '.mp4')\n",
    "  clip2.audio.write_audiofile('./CUT_WAV/' + File + '.wav')\n",
    "\n",
    "  # 대본 파일 (대본 정확도를 어떤 식으로 높일지 고민하는 중)\n",
    "  # 지금 정확도가 낮다는 소리는 아니지만, 지도학습 정확도를 높이기 위해서는 대본이 더 정확해야 할 것 같음!\n",
    "  audio = sr.AudioFile('./CUT_WAV/' + File + '.wav')\n",
    "\n",
    "  recognizer = sr.Recognizer()\n",
    "  recognizer.energy_threshold = 300\n",
    "  \n",
    "  with audio as source:\n",
    "    audio_news = recognizer.record(source)\n",
    "\n",
    "  text = recognizer.recognize_google(audio_data=audio_news, language=\"ko-KR\", show_all=False)\n",
    "\n",
    "  f = open('./CUT_TXT/' + File + '.txt', 'w')\n",
    "  text = str(text)\n",
    "  f.write(text)\n",
    "  f.close()\n",
    "\n",
    "  face_crop_vid(File)"
   ]
  },
  {
   "cell_type": "code",
   "execution_count": 39,
   "id": "6902776b",
   "metadata": {},
   "outputs": [
    {
     "name": "stdout",
     "output_type": "stream",
     "text": [
      "['readnaversid1742oid437aid0000010021'\n",
      " 'readnaversid1742oid437aid0000010022'\n",
      " 'readnaversid1742oid437aid0000010025'\n",
      " 'readnaversid1742oid437aid0000010026'\n",
      " 'readnaversid1742oid437aid0000010030'\n",
      " 'readnaversid1742oid437aid0000010032'\n",
      " 'readnaversid1742oid437aid0000010033']\n"
     ]
    }
   ],
   "source": [
    "Final_mov_list = np.array(glob.glob('./FINAL_VID/*.avi'))\n",
    "Fianl_file_list = np.array([])\n",
    "\n",
    "for file in Final_mov_list:\n",
    "    #file_name = re.sub(pattern='./FINAL_VID\\\\\\\\', repl='', string=file)\n",
    "    file_name = re.sub(pattern='./FINAL_VID/', repl='', string=file)\n",
    "    file_name = re.sub(pattern='.avi', repl='', string=file_name)\n",
    "    Fianl_file_list = np.append(Fianl_file_list, [file_name])\n",
    "\n",
    "print(Fianl_file_list)"
   ]
  },
  {
   "cell_type": "code",
   "execution_count": 46,
   "id": "af6e13b0",
   "metadata": {
    "scrolled": true
   },
   "outputs": [
    {
     "data": {
      "application/vnd.jupyter.widget-view+json": {
       "model_id": "d6a7957d10e24e4ea59c9e62e6307bef",
       "version_major": 2,
       "version_minor": 0
      },
      "text/plain": [
       "  0%|          | 0/7 [00:00<?, ?it/s]"
      ]
     },
     "metadata": {},
     "output_type": "display_data"
    },
    {
     "name": "stdout",
     "output_type": "stream",
     "text": [
      "./CUT_WAV/readnaversid1742oid437aid0000010021.wav\n",
      "./FINAL_VID/readnaversid1742oid437aid0000010021.avi\n",
      "Moviepy - Building video ./FINAL_VID/readnaversid1742oid437aid0000010021.mp4.\n",
      "MoviePy - Writing audio in readnaversid1742oid437aid0000010021TEMP_MPY_wvf_snd.mp3\n"
     ]
    },
    {
     "name": "stderr",
     "output_type": "stream",
     "text": [
      "\n",
      "chunk:   0%|                                                                         | 0/160 [00:00<?, ?it/s, now=None]\u001b[A\n",
      "chunk:   1%|▊                                                                | 2/160 [00:01<01:24,  1.86it/s, now=None]\u001b[A\n",
      "chunk:  68%|█████████████████████████████████████████▊                    | 108/160 [00:01<00:00, 125.87it/s, now=None]\u001b[A\n",
      "                                                                                                                       \u001b[A"
     ]
    },
    {
     "name": "stdout",
     "output_type": "stream",
     "text": [
      "MoviePy - Done.\n",
      "Moviepy - Writing video ./FINAL_VID/readnaversid1742oid437aid0000010021.mp4\n",
      "\n"
     ]
    },
    {
     "name": "stderr",
     "output_type": "stream",
     "text": [
      "\n",
      "t:   0%|                                                                             | 0/174 [00:00<?, ?it/s, now=None]\u001b[A\n",
      "t:   1%|▊                                                                    | 2/174 [00:01<01:36,  1.79it/s, now=None]\u001b[A\n",
      "t:  33%|██████████████████████▎                                             | 57/174 [00:01<00:01, 61.57it/s, now=None]\u001b[A\n",
      "t:  48%|████████████████████████████████▊                                   | 84/174 [00:01<00:01, 84.12it/s, now=None]\u001b[A\n",
      "t:  61%|████████████████████████████████████████▏                         | 106/174 [00:01<00:00, 100.04it/s, now=None]\u001b[A\n",
      "t:  72%|███████████████████████████████████████████████▊                  | 126/174 [00:01<00:00, 116.57it/s, now=None]\u001b[A\n",
      "t:  84%|███████████████████████████████████████████████████████▍          | 146/174 [00:01<00:00, 129.80it/s, now=None]\u001b[A\n",
      "t:  95%|██████████████████████████████████████████████████████████████▌   | 165/174 [00:01<00:00, 137.31it/s, now=None]\u001b[A\n",
      "                                                                                                                       \u001b[A"
     ]
    },
    {
     "name": "stdout",
     "output_type": "stream",
     "text": [
      "Moviepy - Done !\n",
      "Moviepy - video ready ./FINAL_VID/readnaversid1742oid437aid0000010021.mp4\n",
      "./CUT_WAV/readnaversid1742oid437aid0000010022.wav\n",
      "./FINAL_VID/readnaversid1742oid437aid0000010022.avi\n",
      "Moviepy - Building video ./FINAL_VID/readnaversid1742oid437aid0000010022.mp4.\n",
      "MoviePy - Writing audio in readnaversid1742oid437aid0000010022TEMP_MPY_wvf_snd.mp3\n"
     ]
    },
    {
     "name": "stderr",
     "output_type": "stream",
     "text": [
      "\n",
      "chunk:   0%|                                                                         | 0/183 [00:00<?, ?it/s, now=None]\u001b[A\n",
      "chunk:   1%|▋                                                                | 2/183 [00:01<01:47,  1.69it/s, now=None]\u001b[A\n",
      "chunk:  77%|███████████████████████████████████████████████▍              | 140/183 [00:01<00:00, 148.22it/s, now=None]\u001b[A\n",
      "                                                                                                                       \u001b[A"
     ]
    },
    {
     "name": "stdout",
     "output_type": "stream",
     "text": [
      "MoviePy - Done.\n",
      "Moviepy - Writing video ./FINAL_VID/readnaversid1742oid437aid0000010022.mp4\n",
      "\n"
     ]
    },
    {
     "name": "stderr",
     "output_type": "stream",
     "text": [
      "\n",
      "t:   0%|                                                                             | 0/198 [00:00<?, ?it/s, now=None]\u001b[A\n",
      "t:   1%|▋                                                                    | 2/198 [00:01<01:54,  1.70it/s, now=None]\u001b[A\n",
      "t:  29%|███████████████████▌                                                | 57/198 [00:01<00:02, 57.18it/s, now=None]\u001b[A\n",
      "t:  39%|██████████████████████████▍                                         | 77/198 [00:01<00:01, 74.85it/s, now=None]\u001b[A\n",
      "t:  49%|█████████████████████████████████▎                                  | 97/198 [00:01<00:01, 85.87it/s, now=None]\u001b[A\n",
      "t:  58%|██████████████████████████████████████▎                           | 115/198 [00:01<00:00, 100.87it/s, now=None]\u001b[A\n",
      "t:  68%|████████████████████████████████████████████▋                     | 134/198 [00:01<00:00, 117.47it/s, now=None]\u001b[A\n",
      "t:  77%|███████████████████████████████████████████████████               | 153/198 [00:01<00:00, 124.69it/s, now=None]\u001b[A\n",
      "t:  86%|█████████████████████████████████████████████████████████         | 171/198 [00:02<00:00, 132.69it/s, now=None]\u001b[A\n",
      "t:  95%|██████████████████████████████████████████████████████████████▋   | 188/198 [00:02<00:00, 139.93it/s, now=None]\u001b[A\n",
      "                                                                                                                       \u001b[A"
     ]
    },
    {
     "name": "stdout",
     "output_type": "stream",
     "text": [
      "Moviepy - Done !\n",
      "Moviepy - video ready ./FINAL_VID/readnaversid1742oid437aid0000010022.mp4\n",
      "./CUT_WAV/readnaversid1742oid437aid0000010025.wav\n",
      "./FINAL_VID/readnaversid1742oid437aid0000010025.avi\n",
      "Moviepy - Building video ./FINAL_VID/readnaversid1742oid437aid0000010025.mp4.\n",
      "MoviePy - Writing audio in readnaversid1742oid437aid0000010025TEMP_MPY_wvf_snd.mp3\n"
     ]
    },
    {
     "name": "stderr",
     "output_type": "stream",
     "text": [
      "\n",
      "chunk:   0%|                                                                         | 0/230 [00:00<?, ?it/s, now=None]\u001b[A\n",
      "chunk:   1%|▌                                                                | 2/230 [00:01<02:54,  1.31it/s, now=None]\u001b[A\n",
      "chunk:  63%|██████████████████████████████████████▊                       | 144/230 [00:01<00:00, 121.81it/s, now=None]\u001b[A\n",
      "                                                                                                                       \u001b[A"
     ]
    },
    {
     "name": "stdout",
     "output_type": "stream",
     "text": [
      "MoviePy - Done.\n",
      "Moviepy - Writing video ./FINAL_VID/readnaversid1742oid437aid0000010025.mp4\n",
      "\n"
     ]
    },
    {
     "name": "stderr",
     "output_type": "stream",
     "text": [
      "\n",
      "t:   0%|                                                                             | 0/250 [00:00<?, ?it/s, now=None]\u001b[A\n",
      "t:   1%|▌                                                                    | 2/250 [00:01<02:25,  1.70it/s, now=None]\u001b[A\n",
      "t:  23%|███████████████▌                                                    | 57/250 [00:01<00:03, 59.14it/s, now=None]\u001b[A\n",
      "t:  33%|██████████████████████▎                                             | 82/250 [00:01<00:02, 81.83it/s, now=None]\u001b[A\n",
      "t:  43%|████████████████████████████▌                                     | 108/250 [00:01<00:01, 101.41it/s, now=None]\u001b[A\n",
      "t:  52%|██████████████████████████████████                                | 129/250 [00:01<00:01, 115.91it/s, now=None]\u001b[A\n",
      "t:  60%|███████████████████████████████████████▎                          | 149/250 [00:01<00:00, 129.38it/s, now=None]\u001b[A\n",
      "t:  68%|████████████████████████████████████████████▌                     | 169/250 [00:01<00:00, 138.35it/s, now=None]\u001b[A\n",
      "t:  75%|█████████████████████████████████████████████████▋                | 188/250 [00:02<00:00, 137.01it/s, now=None]\u001b[A\n",
      "t:  83%|██████████████████████████████████████████████████████▉           | 208/250 [00:02<00:00, 148.53it/s, now=None]\u001b[A\n",
      "t:  90%|███████████████████████████████████████████████████████████▋      | 226/250 [00:02<00:00, 145.62it/s, now=None]\u001b[A\n",
      "t:  97%|████████████████████████████████████████████████████████████████▏ | 243/250 [00:02<00:00, 149.83it/s, now=None]\u001b[A\n",
      "                                                                                                                       \u001b[A"
     ]
    },
    {
     "name": "stdout",
     "output_type": "stream",
     "text": [
      "Moviepy - Done !\n",
      "Moviepy - video ready ./FINAL_VID/readnaversid1742oid437aid0000010025.mp4\n",
      "./CUT_WAV/readnaversid1742oid437aid0000010026.wav\n",
      "./FINAL_VID/readnaversid1742oid437aid0000010026.avi\n",
      "Moviepy - Building video ./FINAL_VID/readnaversid1742oid437aid0000010026.mp4.\n",
      "MoviePy - Writing audio in readnaversid1742oid437aid0000010026TEMP_MPY_wvf_snd.mp3\n"
     ]
    },
    {
     "name": "stderr",
     "output_type": "stream",
     "text": [
      "\n",
      "chunk:   0%|                                                                          | 0/62 [00:00<?, ?it/s, now=None]\u001b[A\n",
      "chunk:   3%|██▏                                                               | 2/62 [00:01<00:32,  1.82it/s, now=None]\u001b[A\n",
      "                                                                                                                       \u001b[A"
     ]
    },
    {
     "name": "stdout",
     "output_type": "stream",
     "text": [
      "MoviePy - Done.\n",
      "Moviepy - Writing video ./FINAL_VID/readnaversid1742oid437aid0000010026.mp4\n",
      "\n"
     ]
    },
    {
     "name": "stderr",
     "output_type": "stream",
     "text": [
      "\n",
      "t:   0%|                                                                              | 0/66 [00:00<?, ?it/s, now=None]\u001b[A\n",
      "t:   3%|██                                                                    | 2/66 [00:01<00:39,  1.60it/s, now=None]\u001b[A\n",
      "t:  86%|███████████████████████████████████████████████████████████▌         | 57/66 [00:01<00:00, 56.34it/s, now=None]\u001b[A\n",
      "                                                                                                                       \u001b[A"
     ]
    },
    {
     "name": "stdout",
     "output_type": "stream",
     "text": [
      "Moviepy - Done !\n",
      "Moviepy - video ready ./FINAL_VID/readnaversid1742oid437aid0000010026.mp4\n",
      "./CUT_WAV/readnaversid1742oid437aid0000010030.wav\n",
      "./FINAL_VID/readnaversid1742oid437aid0000010030.avi\n",
      "Moviepy - Building video ./FINAL_VID/readnaversid1742oid437aid0000010030.mp4.\n",
      "MoviePy - Writing audio in readnaversid1742oid437aid0000010030TEMP_MPY_wvf_snd.mp3\n"
     ]
    },
    {
     "name": "stderr",
     "output_type": "stream",
     "text": [
      "\n",
      "chunk:   0%|                                                                         | 0/153 [00:00<?, ?it/s, now=None]\u001b[A\n",
      "chunk:   1%|▊                                                                | 2/153 [00:01<01:23,  1.81it/s, now=None]\u001b[A\n",
      "chunk:  90%|███████████████████████████████████████████████████████▉      | 138/153 [00:01<00:00, 157.30it/s, now=None]\u001b[A\n",
      "                                                                                                                       \u001b[A"
     ]
    },
    {
     "name": "stdout",
     "output_type": "stream",
     "text": [
      "MoviePy - Done.\n",
      "Moviepy - Writing video ./FINAL_VID/readnaversid1742oid437aid0000010030.mp4\n",
      "\n"
     ]
    },
    {
     "name": "stderr",
     "output_type": "stream",
     "text": [
      "\n",
      "t:   0%|                                                                             | 0/166 [00:00<?, ?it/s, now=None]\u001b[A\n",
      "t:   1%|▊                                                                    | 2/166 [00:01<01:33,  1.76it/s, now=None]\u001b[A\n",
      "t:  34%|███████████████████████▎                                            | 57/166 [00:01<00:01, 60.57it/s, now=None]\u001b[A\n",
      "t:  49%|█████████████████████████████████▌                                  | 82/166 [00:01<00:01, 82.69it/s, now=None]\u001b[A\n",
      "t:  63%|█████████████████████████████████████████▋                        | 105/166 [00:01<00:00, 100.84it/s, now=None]\u001b[A\n",
      "t:  77%|██████████████████████████████████████████████████▉               | 128/166 [00:01<00:00, 117.13it/s, now=None]\u001b[A\n",
      "t:  90%|███████████████████████████████████████████████████████████▏      | 149/166 [00:01<00:00, 130.15it/s, now=None]\u001b[A\n",
      "                                                                                                                       \u001b[A"
     ]
    },
    {
     "name": "stdout",
     "output_type": "stream",
     "text": [
      "Moviepy - Done !\n",
      "Moviepy - video ready ./FINAL_VID/readnaversid1742oid437aid0000010030.mp4\n",
      "./CUT_WAV/readnaversid1742oid437aid0000010032.wav\n",
      "./FINAL_VID/readnaversid1742oid437aid0000010032.avi\n",
      "Moviepy - Building video ./FINAL_VID/readnaversid1742oid437aid0000010032.mp4.\n",
      "MoviePy - Writing audio in readnaversid1742oid437aid0000010032TEMP_MPY_wvf_snd.mp3\n"
     ]
    },
    {
     "name": "stderr",
     "output_type": "stream",
     "text": [
      "\n",
      "chunk:   0%|                                                                         | 0/164 [00:00<?, ?it/s, now=None]\u001b[A\n",
      "chunk:   1%|▊                                                                | 2/164 [00:01<01:29,  1.80it/s, now=None]\u001b[A\n",
      "chunk:  93%|█████████████████████████████████████████████████████████▊    | 153/164 [00:01<00:00, 171.67it/s, now=None]\u001b[A\n",
      "                                                                                                                       \u001b[A"
     ]
    },
    {
     "name": "stdout",
     "output_type": "stream",
     "text": [
      "MoviePy - Done.\n",
      "Moviepy - Writing video ./FINAL_VID/readnaversid1742oid437aid0000010032.mp4\n",
      "\n"
     ]
    },
    {
     "name": "stderr",
     "output_type": "stream",
     "text": [
      "\n",
      "t:   0%|                                                                             | 0/178 [00:00<?, ?it/s, now=None]\u001b[A\n",
      "t:   1%|▊                                                                    | 2/178 [00:01<01:34,  1.87it/s, now=None]\u001b[A\n",
      "t:  32%|█████████████████████▊                                              | 57/178 [00:01<00:01, 65.55it/s, now=None]\u001b[A\n",
      "t:  51%|██████████████████████████████████▍                                 | 90/178 [00:01<00:00, 92.53it/s, now=None]\u001b[A\n",
      "t:  65%|██████████████████████████████████████████▋                       | 115/178 [00:01<00:00, 110.40it/s, now=None]\u001b[A\n",
      "t:  77%|██████████████████████████████████████████████████▊               | 137/178 [00:01<00:00, 125.87it/s, now=None]\u001b[A\n",
      "t:  89%|██████████████████████████████████████████████████████████▉       | 159/178 [00:01<00:00, 139.46it/s, now=None]\u001b[A\n",
      "                                                                                                                       \u001b[A"
     ]
    },
    {
     "name": "stdout",
     "output_type": "stream",
     "text": [
      "Moviepy - Done !\n",
      "Moviepy - video ready ./FINAL_VID/readnaversid1742oid437aid0000010032.mp4\n",
      "./CUT_WAV/readnaversid1742oid437aid0000010033.wav\n",
      "./FINAL_VID/readnaversid1742oid437aid0000010033.avi\n",
      "Moviepy - Building video ./FINAL_VID/readnaversid1742oid437aid0000010033.mp4.\n",
      "MoviePy - Writing audio in readnaversid1742oid437aid0000010033TEMP_MPY_wvf_snd.mp3\n"
     ]
    },
    {
     "name": "stderr",
     "output_type": "stream",
     "text": [
      "\n",
      "chunk:   0%|                                                                         | 0/223 [00:00<?, ?it/s, now=None]\u001b[A\n",
      "chunk:   1%|▌                                                                | 2/223 [00:01<02:02,  1.81it/s, now=None]\u001b[A\n",
      "chunk:  71%|███████████████████████████████████████████▉                  | 158/223 [00:01<00:00, 179.86it/s, now=None]\u001b[A\n",
      "                                                                                                                       \u001b[A"
     ]
    },
    {
     "name": "stdout",
     "output_type": "stream",
     "text": [
      "MoviePy - Done.\n",
      "Moviepy - Writing video ./FINAL_VID/readnaversid1742oid437aid0000010033.mp4\n",
      "\n"
     ]
    },
    {
     "name": "stderr",
     "output_type": "stream",
     "text": [
      "\n",
      "t:   0%|                                                                             | 0/242 [00:00<?, ?it/s, now=None]\u001b[A\n",
      "t:   1%|▌                                                                    | 2/242 [00:01<02:06,  1.89it/s, now=None]\u001b[A\n",
      "t:  24%|████████████████                                                    | 57/242 [00:01<00:02, 64.82it/s, now=None]\u001b[A\n",
      "t:  34%|███████████████████████                                             | 82/242 [00:01<00:01, 86.80it/s, now=None]\u001b[A\n",
      "t:  45%|█████████████████████████████▋                                    | 109/242 [00:01<00:01, 108.03it/s, now=None]\u001b[A\n",
      "t:  54%|███████████████████████████████████▋                              | 131/242 [00:01<00:00, 123.55it/s, now=None]\u001b[A\n",
      "t:  62%|█████████████████████████████████████████▏                        | 151/242 [00:01<00:00, 134.17it/s, now=None]\u001b[A\n",
      "t:  70%|██████████████████████████████████████████████▎                   | 170/242 [00:01<00:00, 145.46it/s, now=None]\u001b[A\n",
      "t:  79%|████████████████████████████████████████████████████              | 191/242 [00:01<00:00, 154.97it/s, now=None]\u001b[A\n",
      "t:  87%|█████████████████████████████████████████████████████████▌        | 211/242 [00:02<00:00, 160.22it/s, now=None]\u001b[A\n",
      "t:  95%|███████████████████████████████████████████████████████████████   | 231/242 [00:02<00:00, 169.76it/s, now=None]\u001b[A\n",
      "                                                                                                                       \u001b[A"
     ]
    },
    {
     "name": "stdout",
     "output_type": "stream",
     "text": [
      "Moviepy - Done !\n",
      "Moviepy - video ready ./FINAL_VID/readnaversid1742oid437aid0000010033.mp4\n"
     ]
    }
   ],
   "source": [
    "from moviepy.editor import *\n",
    "\n",
    "for File in notebook.tqdm(Fianl_file_list):\n",
    "    WAV_File = './CUT_WAV/' + File + '.wav'\n",
    "    print(WAV_File)\n",
    "    \n",
    "    MOV_File = './FINAL_VID/' + File + '.avi'\n",
    "    print(MOV_File)\n",
    "    \n",
    "    videoclip = VideoFileClip(MOV_File)\n",
    "    audioclip = AudioFileClip(WAV_File)\n",
    "    new_audioclip = CompositeAudioClip([audioclip])\n",
    "    \n",
    "    videoclip.audio = new_audioclip\n",
    "    videoclip.write_videofile('./FINAL_VID/' + File + '.mp4')"
   ]
  },
  {
   "cell_type": "code",
   "execution_count": null,
   "id": "adb7cbde",
   "metadata": {},
   "outputs": [],
   "source": []
  }
 ],
 "metadata": {
  "kernelspec": {
   "display_name": "Python 3",
   "language": "python",
   "name": "python3"
  },
  "language_info": {
   "codemirror_mode": {
    "name": "ipython",
    "version": 3
   },
   "file_extension": ".py",
   "mimetype": "text/x-python",
   "name": "python",
   "nbconvert_exporter": "python",
   "pygments_lexer": "ipython3",
   "version": "3.8.8"
  }
 },
 "nbformat": 4,
 "nbformat_minor": 5
}
